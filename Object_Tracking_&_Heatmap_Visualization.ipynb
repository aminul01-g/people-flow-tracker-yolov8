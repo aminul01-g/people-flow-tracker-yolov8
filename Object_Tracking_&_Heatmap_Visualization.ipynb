{
  "nbformat": 4,
  "nbformat_minor": 0,
  "metadata": {
    "colab": {
      "provenance": [],
      "gpuType": "T4",
      "authorship_tag": "ABX9TyNausj4gMXVk+mB8t/X3xCX",
      "include_colab_link": true
    },
    "kernelspec": {
      "name": "python3",
      "display_name": "Python 3"
    },
    "language_info": {
      "name": "python"
    },
    "accelerator": "GPU"
  },
  "cells": [
    {
      "cell_type": "markdown",
      "metadata": {
        "id": "view-in-github",
        "colab_type": "text"
      },
      "source": [
        "<a href=\"https://colab.research.google.com/github/aminul01-g/people-flow-tracker-yolov8/blob/main/Object_Tracking_%26_Heatmap_Visualization.ipynb\" target=\"_parent\"><img src=\"https://colab.research.google.com/assets/colab-badge.svg\" alt=\"Open In Colab\"/></a>"
      ]
    },
    {
      "cell_type": "code",
      "execution_count": null,
      "metadata": {
        "id": "yDIFO6xGOQJ7"
      },
      "outputs": [],
      "source": [
        "!pip install -q ultralytics opencv-python tqdm"
      ]
    },
    {
      "cell_type": "code",
      "source": [
        "#Import libraries\n",
        "from ultralytics import YOLO\n",
        "import cv2\n",
        "import numpy as np\n",
        "import os\n",
        "from tqdm import tqdm"
      ],
      "metadata": {
        "id": "V8rKgfc3OUP1"
      },
      "execution_count": null,
      "outputs": []
    },
    {
      "cell_type": "code",
      "source": [
        "# Load model\n",
        "model = YOLO('yolov8x.pt')\n",
        "print(\"model loaded\")"
      ],
      "metadata": {
        "colab": {
          "base_uri": "https://localhost:8080/"
        },
        "id": "pwQ0fy5dOWo0",
        "outputId": "67b05c21-d07e-4847-cb62-6d25a64b3c4a"
      },
      "execution_count": null,
      "outputs": [
        {
          "output_type": "stream",
          "name": "stderr",
          "text": [
            "Downloading https://github.com/ultralytics/assets/releases/download/v8.3.0/yolov8x.pt to 'yolov8x.pt': 100%|██████████| 131M/131M [00:01<00:00, 100MB/s] \n"
          ]
        },
        {
          "output_type": "stream",
          "name": "stdout",
          "text": [
            "✅ YOLOv8 model loaded\n"
          ]
        }
      ]
    },
    {
      "cell_type": "code",
      "source": [
        "# Download video\n",
        "!wget -O people-walking.mp4 https://media.roboflow.com/supervision/video-examples/people-walking.mp4\n",
        "video_path = 'people-walking.mp4'"
      ],
      "metadata": {
        "colab": {
          "base_uri": "https://localhost:8080/"
        },
        "id": "g096CQPxOYOD",
        "outputId": "9914badd-0e02-449e-f3d5-9271a6b31fe3"
      },
      "execution_count": null,
      "outputs": [
        {
          "output_type": "stream",
          "name": "stdout",
          "text": [
            "--2025-08-05 13:22:57--  https://media.roboflow.com/supervision/video-examples/people-walking.mp4\n",
            "Resolving media.roboflow.com (media.roboflow.com)... 34.110.133.209\n",
            "Connecting to media.roboflow.com (media.roboflow.com)|34.110.133.209|:443... connected.\n",
            "HTTP request sent, awaiting response... 200 OK\n",
            "Length: 7606633 (7.3M) [video/mp4]\n",
            "Saving to: ‘people-walking.mp4’\n",
            "\n",
            "people-walking.mp4  100%[===================>]   7.25M  --.-KB/s    in 0.1s    \n",
            "\n",
            "2025-08-05 13:22:57 (51.5 MB/s) - ‘people-walking.mp4’ saved [7606633/7606633]\n",
            "\n"
          ]
        }
      ]
    },
    {
      "cell_type": "code",
      "source": [
        "# Initialize capture\n",
        "cap = cv2.VideoCapture(video_path)\n",
        "width = int(cap.get(cv2.CAP_PROP_FRAME_WIDTH))\n",
        "height = int(cap.get(cv2.CAP_PROP_FRAME_HEIGHT))\n",
        "video_fps = cap.get(cv2.CAP_PROP_FPS)\n",
        "frame_count = int(cap.get(cv2.CAP_PROP_FRAME_COUNT))"
      ],
      "metadata": {
        "id": "YWZV11vvObBL"
      },
      "execution_count": null,
      "outputs": []
    },
    {
      "cell_type": "code",
      "source": [
        "# Output video setup (use AVI/XVID for VLC compatibility)\n",
        "output_path = 'annotated_video_tracked.avi'\n",
        "fourcc = cv2.VideoWriter_fourcc(*'XVID')\n",
        "out = cv2.VideoWriter(output_path, fourcc, video_fps, (width, height))"
      ],
      "metadata": {
        "id": "aJrmTvwPObyk"
      },
      "execution_count": null,
      "outputs": []
    },
    {
      "cell_type": "code",
      "source": [
        "# Define lines\n",
        "top_line = np.array([[15, 367], [1919, 367]])\n",
        "bottom_line = np.array([[15, 623], [1910, 605]])\n",
        "top_y = int(np.mean(top_line[:, 1]))\n",
        "bottom_y = int(np.mean(bottom_line[:, 1]))\n"
      ],
      "metadata": {
        "id": "8J1TTRYrOesM"
      },
      "execution_count": null,
      "outputs": []
    },
    {
      "cell_type": "code",
      "source": [
        "id_positions = {}\n",
        "id_states = {}\n",
        "in_count = 0\n",
        "out_count = 0"
      ],
      "metadata": {
        "id": "CS3OVoNWOg28"
      },
      "execution_count": null,
      "outputs": []
    },
    {
      "cell_type": "code",
      "source": [
        "# Heatmap canvas\n",
        "heatmap_canvas = np.zeros((height, width), dtype=np.float32)\n",
        "fade_alpha = 0.95"
      ],
      "metadata": {
        "id": "IzE57QIAOibU"
      },
      "execution_count": null,
      "outputs": []
    },
    {
      "cell_type": "code",
      "source": [
        "# Frame loop\n",
        "for i in tqdm(range(frame_count), desc=\"Processing video\"):\n",
        "    ret, frame = cap.read()\n",
        "    if not ret:\n",
        "        break\n",
        "\n",
        "    # Perform tracking\n",
        "    results = model.track(frame, classes=[0], persist=True, verbose=False)\n",
        "    boxes = results[0].boxes.xyxy.tolist()\n",
        "    track_ids = results[0].boxes.id.int().tolist() if results[0].boxes.id is not None else []\n",
        "\n",
        "    current_ids = set()\n",
        "    cv2.line(frame, tuple(top_line[0]), tuple(top_line[1]), (255, 0, 0), 2)\n",
        "    cv2.line(frame, tuple(bottom_line[0]), tuple(bottom_line[1]), (0, 0, 255), 2)\n",
        "\n",
        "    print(f\"[Frame {i}] Detections: {len(boxes)}, IDs: {track_ids}\")\n",
        "\n",
        "    for box, track_id in zip(boxes, track_ids):\n",
        "        x1, y1, x2, y2 = map(int, box)\n",
        "        cx, cy = (x1 + x2) // 2, (y1 + y2) // 2\n",
        "        current_ids.add(track_id)\n",
        "\n",
        "        if track_id in id_positions:\n",
        "            prev_y = id_positions[track_id]\n",
        "            if prev_y < top_y and cy >= top_y and id_states.get(track_id) != \"in\":\n",
        "                in_count += 1\n",
        "                id_states[track_id] = \"in\"\n",
        "            elif prev_y > bottom_y and cy <= bottom_y and id_states.get(track_id) != \"out\":\n",
        "                out_count += 1\n",
        "                id_states[track_id] = \"out\"\n",
        "\n",
        "        id_positions[track_id] = cy\n",
        "\n",
        "        color = (255, 255, 255)\n",
        "        if id_states.get(track_id) == \"in\":\n",
        "            color = (0, 255, 0)\n",
        "        elif id_states.get(track_id) == \"out\":\n",
        "            color = (0, 0, 255)\n",
        "\n",
        "        cv2.rectangle(frame, (x1, y1), (x2, y2), color, 2)\n",
        "        cv2.putText(frame, f\"ID: {track_id}\", (x1, y1 - 10), cv2.FONT_HERSHEY_SIMPLEX, 0.5, color, 2)\n",
        "        cv2.circle(frame, (cx, cy), 5, color, -1)\n",
        "\n",
        "        # Heatmap accumulation\n",
        "        cv2.circle(heatmap_canvas, (cx, cy), 8, 1, -1)\n",
        "\n",
        "    # Remove lost IDs\n",
        "    lost_ids = set(id_positions.keys()) - current_ids\n",
        "    for lost_id in lost_ids:\n",
        "        id_positions.pop(lost_id, None)\n",
        "        id_states.pop(lost_id, None)\n",
        "\n",
        "    # Heatmap overlay\n",
        "    heatmap_canvas *= fade_alpha\n",
        "    temp_heatmap = np.clip(heatmap_canvas, 0, 255)\n",
        "    temp_heatmap = cv2.GaussianBlur(temp_heatmap, (31, 31), 0)\n",
        "    heatmap_color = cv2.applyColorMap(temp_heatmap.astype(np.uint8), cv2.COLORMAP_JET)\n",
        "    overlay = cv2.addWeighted(frame, 0.7, heatmap_color, 0.5, 0)\n",
        "\n",
        "    # Add counters\n",
        "    cv2.putText(overlay, f\"IN: {in_count}\", (20, 40), cv2.FONT_HERSHEY_SIMPLEX, 1, (0, 255, 0), 2)\n",
        "    cv2.putText(overlay, f\"OUT: {out_count}\", (20, 90), cv2.FONT_HERSHEY_SIMPLEX, 1, (0, 0, 255), 2)\n",
        "    cv2.putText(overlay, f\"Total: {len(current_ids)}\", (20, 140), cv2.FONT_HERSHEY_SIMPLEX, 1, (255, 255, 0), 2)\n",
        "\n",
        "    out.write(overlay)\n",
        "\n",
        "cap.release()\n",
        "out.release()"
      ],
      "metadata": {
        "colab": {
          "base_uri": "https://localhost:8080/"
        },
        "id": "rq_j5921OkaN",
        "outputId": "1e5e57fd-27af-4e97-9f7f-35e534a33ed8"
      },
      "execution_count": null,
      "outputs": [
        {
          "output_type": "stream",
          "name": "stderr",
          "text": [
            "Processing video:   1%|          | 2/341 [00:01<02:45,  2.05it/s]"
          ]
        },
        {
          "output_type": "stream",
          "name": "stdout",
          "text": [
            "[Frame 0] Detections: 35, IDs: [1, 2, 3, 4, 5, 6, 7, 8, 9, 10, 11, 12, 13, 14, 15, 16, 17, 18, 19, 20, 21, 22, 23, 24, 25, 26, 27, 28, 29, 30, 31, 32, 33, 34, 35]\n",
            "[Frame 1] Detections: 35, IDs: [1, 2, 3, 4, 5, 6, 7, 8, 9, 10, 11, 12, 13, 14, 15, 16, 17, 18, 19, 20, 21, 22, 23, 24, 25, 26, 27, 28, 29, 30, 31, 32, 33, 34, 35]\n"
          ]
        },
        {
          "output_type": "stream",
          "name": "stderr",
          "text": [
            "\rProcessing video:   1%|          | 3/341 [00:01<01:57,  2.87it/s]"
          ]
        },
        {
          "output_type": "stream",
          "name": "stdout",
          "text": [
            "[Frame 2] Detections: 35, IDs: [1, 2, 3, 4, 5, 6, 7, 8, 9, 10, 11, 12, 13, 14, 15, 16, 17, 18, 19, 20, 21, 22, 23, 24, 25, 26, 27, 28, 29, 30, 31, 32, 33, 34, 35]\n",
            "[Frame 3] Detections: 34, IDs: [1, 2, 3, 4, 5, 6, 7, 8, 9, 10, 11, 12, 13, 14, 15, 16, 17, 18, 19, 20, 21, 22, 23, 24, 25, 26, 27, 28, 29, 31, 32, 33, 34, 35]\n"
          ]
        },
        {
          "output_type": "stream",
          "name": "stderr",
          "text": [
            "Processing video:   2%|▏         | 6/341 [00:01<01:02,  5.32it/s]"
          ]
        },
        {
          "output_type": "stream",
          "name": "stdout",
          "text": [
            "[Frame 4] Detections: 34, IDs: [1, 2, 3, 4, 5, 6, 7, 8, 9, 10, 11, 12, 13, 14, 15, 16, 17, 18, 19, 20, 21, 22, 23, 24, 25, 26, 27, 28, 29, 31, 32, 33, 34, 35]\n",
            "[Frame 5] Detections: 34, IDs: [1, 2, 3, 4, 5, 6, 7, 8, 9, 10, 11, 12, 13, 14, 15, 16, 17, 18, 19, 20, 21, 22, 23, 24, 25, 26, 27, 28, 29, 31, 32, 33, 34, 35]\n"
          ]
        },
        {
          "output_type": "stream",
          "name": "stderr",
          "text": [
            "Processing video:   2%|▏         | 8/341 [00:01<00:51,  6.49it/s]"
          ]
        },
        {
          "output_type": "stream",
          "name": "stdout",
          "text": [
            "[Frame 6] Detections: 34, IDs: [1, 2, 3, 4, 5, 6, 7, 8, 9, 10, 11, 12, 13, 14, 15, 16, 17, 18, 19, 20, 21, 22, 23, 24, 25, 26, 27, 28, 29, 31, 32, 33, 34, 35]\n",
            "[Frame 7] Detections: 34, IDs: [1, 2, 3, 4, 5, 6, 7, 8, 9, 10, 11, 12, 13, 14, 15, 16, 17, 18, 19, 20, 21, 22, 23, 24, 25, 26, 27, 28, 29, 31, 32, 33, 34, 35]\n"
          ]
        },
        {
          "output_type": "stream",
          "name": "stderr",
          "text": [
            "Processing video:   3%|▎         | 10/341 [00:02<00:47,  7.01it/s]"
          ]
        },
        {
          "output_type": "stream",
          "name": "stdout",
          "text": [
            "[Frame 8] Detections: 34, IDs: [1, 2, 3, 4, 5, 6, 7, 8, 9, 10, 11, 12, 13, 14, 15, 16, 17, 18, 19, 20, 21, 22, 23, 24, 25, 26, 27, 28, 29, 31, 32, 33, 34, 35]\n",
            "[Frame 9] Detections: 34, IDs: [1, 2, 3, 4, 5, 6, 7, 8, 9, 10, 11, 12, 13, 14, 15, 16, 17, 18, 19, 20, 21, 22, 23, 24, 25, 26, 27, 28, 29, 31, 32, 33, 34, 35]\n"
          ]
        },
        {
          "output_type": "stream",
          "name": "stderr",
          "text": [
            "Processing video:   4%|▎         | 12/341 [00:02<00:43,  7.48it/s]"
          ]
        },
        {
          "output_type": "stream",
          "name": "stdout",
          "text": [
            "[Frame 10] Detections: 34, IDs: [1, 2, 3, 4, 5, 6, 7, 8, 9, 10, 11, 12, 13, 14, 15, 16, 17, 18, 19, 20, 21, 22, 23, 24, 25, 26, 27, 28, 29, 31, 32, 33, 34, 35]\n",
            "[Frame 11] Detections: 34, IDs: [1, 2, 3, 4, 5, 6, 7, 8, 9, 10, 11, 12, 13, 14, 15, 16, 17, 18, 19, 20, 21, 22, 23, 24, 25, 26, 27, 28, 29, 31, 32, 33, 34, 35]\n"
          ]
        },
        {
          "output_type": "stream",
          "name": "stderr",
          "text": [
            "\rProcessing video:   4%|▍         | 13/341 [00:02<00:53,  6.12it/s]"
          ]
        },
        {
          "output_type": "stream",
          "name": "stdout",
          "text": [
            "[Frame 12] Detections: 33, IDs: [1, 2, 3, 4, 5, 6, 7, 8, 9, 10, 11, 12, 13, 14, 15, 16, 17, 18, 19, 20, 21, 22, 23, 24, 25, 26, 27, 28, 31, 32, 33, 34, 35]\n",
            "[Frame 13] Detections: 34, IDs: [1, 2, 3, 4, 5, 6, 7, 8, 9, 10, 11, 12, 13, 14, 15, 16, 17, 18, 19, 20, 21, 22, 23, 24, 25, 26, 27, 28, 31, 32, 33, 34, 35, 48]\n"
          ]
        },
        {
          "output_type": "stream",
          "name": "stderr",
          "text": [
            "Processing video:   4%|▍         | 15/341 [00:03<00:59,  5.44it/s]"
          ]
        },
        {
          "output_type": "stream",
          "name": "stdout",
          "text": [
            "[Frame 14] Detections: 34, IDs: [1, 2, 3, 4, 5, 6, 7, 8, 9, 10, 11, 12, 13, 14, 15, 16, 17, 18, 19, 20, 21, 22, 23, 24, 25, 26, 27, 28, 31, 32, 33, 34, 35, 48]\n"
          ]
        },
        {
          "output_type": "stream",
          "name": "stderr",
          "text": [
            "\rProcessing video:   5%|▍         | 16/341 [00:03<01:06,  4.89it/s]"
          ]
        },
        {
          "output_type": "stream",
          "name": "stdout",
          "text": [
            "[Frame 15] Detections: 34, IDs: [1, 2, 3, 4, 5, 6, 7, 8, 9, 10, 11, 12, 13, 14, 15, 16, 17, 18, 19, 20, 21, 22, 23, 24, 25, 26, 27, 28, 31, 32, 33, 34, 35, 48]\n"
          ]
        },
        {
          "output_type": "stream",
          "name": "stderr",
          "text": [
            "\rProcessing video:   5%|▍         | 17/341 [00:03<01:07,  4.82it/s]"
          ]
        },
        {
          "output_type": "stream",
          "name": "stdout",
          "text": [
            "[Frame 16] Detections: 34, IDs: [1, 2, 3, 4, 5, 6, 7, 8, 9, 10, 11, 12, 13, 14, 15, 16, 17, 18, 19, 20, 21, 22, 23, 24, 25, 26, 27, 28, 31, 32, 33, 34, 35, 48]\n"
          ]
        },
        {
          "output_type": "stream",
          "name": "stderr",
          "text": [
            "\rProcessing video:   5%|▌         | 18/341 [00:03<01:15,  4.29it/s]"
          ]
        },
        {
          "output_type": "stream",
          "name": "stdout",
          "text": [
            "[Frame 17] Detections: 34, IDs: [1, 2, 3, 4, 5, 6, 7, 8, 9, 10, 11, 12, 13, 14, 15, 16, 17, 18, 19, 20, 21, 22, 23, 24, 25, 26, 27, 28, 31, 32, 33, 34, 35, 48]\n"
          ]
        },
        {
          "output_type": "stream",
          "name": "stderr",
          "text": [
            "\rProcessing video:   6%|▌         | 19/341 [00:04<01:12,  4.44it/s]"
          ]
        },
        {
          "output_type": "stream",
          "name": "stdout",
          "text": [
            "[Frame 18] Detections: 35, IDs: [1, 2, 3, 4, 5, 6, 7, 8, 9, 10, 11, 12, 13, 14, 15, 16, 17, 18, 19, 20, 21, 22, 23, 24, 25, 26, 27, 28, 31, 32, 33, 34, 35, 48, 29]\n"
          ]
        },
        {
          "output_type": "stream",
          "name": "stderr",
          "text": [
            "\rProcessing video:   6%|▌         | 20/341 [00:04<01:16,  4.20it/s]"
          ]
        },
        {
          "output_type": "stream",
          "name": "stdout",
          "text": [
            "[Frame 19] Detections: 36, IDs: [1, 2, 3, 4, 5, 6, 7, 8, 9, 10, 11, 12, 13, 14, 15, 16, 17, 18, 19, 20, 21, 22, 23, 24, 25, 26, 27, 28, 31, 32, 33, 34, 35, 48, 54, 29]\n"
          ]
        },
        {
          "output_type": "stream",
          "name": "stderr",
          "text": [
            "\rProcessing video:   6%|▌         | 21/341 [00:04<01:13,  4.35it/s]"
          ]
        },
        {
          "output_type": "stream",
          "name": "stdout",
          "text": [
            "[Frame 20] Detections: 36, IDs: [1, 2, 3, 4, 5, 6, 7, 8, 9, 10, 11, 12, 13, 14, 15, 16, 17, 18, 19, 20, 21, 22, 23, 24, 25, 26, 27, 28, 31, 32, 33, 34, 35, 48, 54, 29]\n"
          ]
        },
        {
          "output_type": "stream",
          "name": "stderr",
          "text": [
            "\rProcessing video:   6%|▋         | 22/341 [00:04<01:11,  4.44it/s]"
          ]
        },
        {
          "output_type": "stream",
          "name": "stdout",
          "text": [
            "[Frame 21] Detections: 36, IDs: [1, 2, 3, 4, 5, 6, 7, 8, 9, 10, 11, 12, 13, 14, 15, 16, 17, 18, 19, 20, 21, 22, 23, 24, 25, 26, 27, 28, 31, 32, 33, 34, 35, 48, 54, 29]\n"
          ]
        },
        {
          "output_type": "stream",
          "name": "stderr",
          "text": [
            "\rProcessing video:   7%|▋         | 23/341 [00:05<01:15,  4.21it/s]"
          ]
        },
        {
          "output_type": "stream",
          "name": "stdout",
          "text": [
            "[Frame 22] Detections: 36, IDs: [1, 2, 3, 4, 5, 6, 7, 8, 9, 10, 11, 12, 13, 14, 15, 16, 17, 18, 19, 20, 21, 22, 23, 24, 25, 26, 27, 28, 31, 32, 33, 34, 35, 48, 54, 29]\n",
            "[Frame 23] Detections: 36, IDs: [1, 2, 3, 4, 5, 6, 7, 8, 9, 10, 11, 12, 13, 14, 15, 16, 17, 18, 19, 20, 21, 22, 23, 24, 25, 26, 27, 28, 31, 32, 33, 34, 35, 48, 54, 29]\n"
          ]
        },
        {
          "output_type": "stream",
          "name": "stderr",
          "text": [
            "Processing video:   7%|▋         | 25/341 [00:06<01:55,  2.73it/s]"
          ]
        },
        {
          "output_type": "stream",
          "name": "stdout",
          "text": [
            "[Frame 24] Detections: 36, IDs: [1, 2, 3, 4, 5, 6, 7, 8, 9, 10, 11, 12, 13, 14, 15, 16, 17, 18, 19, 20, 21, 22, 23, 24, 25, 26, 27, 28, 31, 32, 33, 34, 35, 48, 54, 29]\n"
          ]
        },
        {
          "output_type": "stream",
          "name": "stderr",
          "text": [
            "\rProcessing video:   8%|▊         | 26/341 [00:06<02:00,  2.61it/s]"
          ]
        },
        {
          "output_type": "stream",
          "name": "stdout",
          "text": [
            "[Frame 25] Detections: 36, IDs: [1, 2, 3, 4, 5, 6, 7, 8, 9, 10, 11, 12, 13, 14, 15, 16, 17, 18, 19, 20, 21, 22, 23, 24, 25, 26, 27, 28, 31, 32, 33, 34, 35, 48, 54, 29]\n"
          ]
        },
        {
          "output_type": "stream",
          "name": "stderr",
          "text": [
            "\rProcessing video:   8%|▊         | 27/341 [00:06<02:05,  2.49it/s]"
          ]
        },
        {
          "output_type": "stream",
          "name": "stdout",
          "text": [
            "[Frame 26] Detections: 36, IDs: [1, 2, 3, 4, 5, 6, 7, 8, 9, 10, 11, 12, 13, 14, 15, 16, 17, 18, 19, 20, 21, 22, 23, 24, 25, 26, 27, 28, 31, 32, 33, 34, 35, 48, 54, 29]\n"
          ]
        },
        {
          "output_type": "stream",
          "name": "stderr",
          "text": [
            "\rProcessing video:   8%|▊         | 28/341 [00:07<02:05,  2.48it/s]"
          ]
        },
        {
          "output_type": "stream",
          "name": "stdout",
          "text": [
            "[Frame 27] Detections: 36, IDs: [1, 2, 3, 4, 5, 6, 7, 8, 9, 10, 11, 12, 13, 14, 15, 16, 17, 18, 19, 20, 21, 22, 23, 24, 25, 26, 27, 28, 31, 32, 33, 34, 35, 48, 54, 29]\n"
          ]
        },
        {
          "output_type": "stream",
          "name": "stderr",
          "text": [
            "\rProcessing video:   9%|▊         | 29/341 [00:07<02:15,  2.31it/s]"
          ]
        },
        {
          "output_type": "stream",
          "name": "stdout",
          "text": [
            "[Frame 28] Detections: 36, IDs: [1, 2, 3, 4, 5, 6, 7, 8, 9, 10, 11, 12, 13, 14, 15, 16, 17, 18, 19, 20, 21, 22, 23, 24, 25, 26, 27, 28, 31, 32, 33, 34, 35, 48, 54, 29]\n"
          ]
        },
        {
          "output_type": "stream",
          "name": "stderr",
          "text": [
            "\rProcessing video:   9%|▉         | 30/341 [00:08<01:56,  2.66it/s]"
          ]
        },
        {
          "output_type": "stream",
          "name": "stdout",
          "text": [
            "[Frame 29] Detections: 36, IDs: [1, 2, 3, 4, 5, 6, 7, 8, 9, 10, 11, 12, 13, 14, 15, 16, 17, 18, 19, 20, 21, 22, 23, 24, 25, 26, 27, 28, 31, 32, 33, 34, 35, 48, 54, 29]\n"
          ]
        },
        {
          "output_type": "stream",
          "name": "stderr",
          "text": [
            "\rProcessing video:   9%|▉         | 31/341 [00:08<01:44,  2.96it/s]"
          ]
        },
        {
          "output_type": "stream",
          "name": "stdout",
          "text": [
            "[Frame 30] Detections: 36, IDs: [1, 2, 3, 4, 5, 6, 7, 8, 9, 10, 11, 12, 13, 14, 15, 16, 17, 18, 19, 20, 21, 22, 23, 24, 25, 26, 27, 28, 31, 32, 33, 34, 35, 48, 54, 29]\n"
          ]
        },
        {
          "output_type": "stream",
          "name": "stderr",
          "text": [
            "\rProcessing video:   9%|▉         | 32/341 [00:08<01:38,  3.13it/s]"
          ]
        },
        {
          "output_type": "stream",
          "name": "stdout",
          "text": [
            "[Frame 31] Detections: 36, IDs: [1, 2, 3, 4, 5, 6, 7, 8, 9, 10, 11, 12, 13, 14, 15, 16, 17, 18, 19, 20, 21, 22, 23, 24, 25, 26, 27, 28, 31, 32, 33, 34, 35, 48, 54, 29]\n"
          ]
        },
        {
          "output_type": "stream",
          "name": "stderr",
          "text": [
            "\rProcessing video:  10%|▉         | 33/341 [00:08<01:28,  3.46it/s]"
          ]
        },
        {
          "output_type": "stream",
          "name": "stdout",
          "text": [
            "[Frame 32] Detections: 37, IDs: [1, 2, 3, 4, 5, 6, 7, 8, 9, 10, 11, 12, 13, 14, 15, 16, 17, 18, 19, 20, 21, 22, 23, 24, 25, 26, 27, 28, 31, 32, 33, 34, 35, 48, 54, 29, 71]\n"
          ]
        },
        {
          "output_type": "stream",
          "name": "stderr",
          "text": [
            "\rProcessing video:  10%|▉         | 34/341 [00:09<01:26,  3.57it/s]"
          ]
        },
        {
          "output_type": "stream",
          "name": "stdout",
          "text": [
            "[Frame 33] Detections: 37, IDs: [1, 2, 3, 4, 5, 6, 7, 8, 9, 10, 11, 12, 13, 14, 15, 16, 17, 18, 19, 20, 21, 22, 23, 24, 25, 26, 27, 28, 31, 32, 33, 34, 35, 48, 54, 29, 71]\n"
          ]
        },
        {
          "output_type": "stream",
          "name": "stderr",
          "text": [
            "\rProcessing video:  10%|█         | 35/341 [00:09<01:26,  3.53it/s]"
          ]
        },
        {
          "output_type": "stream",
          "name": "stdout",
          "text": [
            "[Frame 34] Detections: 37, IDs: [1, 2, 3, 4, 5, 6, 7, 8, 9, 10, 11, 12, 13, 14, 15, 16, 17, 18, 19, 20, 21, 22, 23, 24, 25, 26, 27, 28, 31, 32, 33, 34, 35, 48, 54, 29, 71]\n"
          ]
        },
        {
          "output_type": "stream",
          "name": "stderr",
          "text": [
            "\rProcessing video:  11%|█         | 36/341 [00:09<01:29,  3.42it/s]"
          ]
        },
        {
          "output_type": "stream",
          "name": "stdout",
          "text": [
            "[Frame 35] Detections: 37, IDs: [1, 2, 3, 4, 5, 6, 7, 8, 9, 10, 11, 12, 13, 14, 15, 16, 17, 18, 19, 20, 21, 22, 23, 24, 25, 26, 27, 28, 31, 32, 33, 34, 35, 48, 54, 29, 71]\n"
          ]
        },
        {
          "output_type": "stream",
          "name": "stderr",
          "text": [
            "\rProcessing video:  11%|█         | 37/341 [00:10<01:32,  3.28it/s]"
          ]
        },
        {
          "output_type": "stream",
          "name": "stdout",
          "text": [
            "[Frame 36] Detections: 37, IDs: [1, 2, 3, 4, 5, 6, 7, 8, 9, 10, 11, 12, 13, 14, 15, 16, 17, 18, 19, 20, 21, 22, 23, 24, 25, 26, 27, 28, 31, 32, 33, 34, 35, 48, 54, 29, 71]\n"
          ]
        },
        {
          "output_type": "stream",
          "name": "stderr",
          "text": [
            "\rProcessing video:  11%|█         | 38/341 [00:10<01:25,  3.54it/s]"
          ]
        },
        {
          "output_type": "stream",
          "name": "stdout",
          "text": [
            "[Frame 37] Detections: 37, IDs: [1, 2, 3, 4, 5, 6, 7, 8, 9, 10, 11, 12, 13, 14, 15, 16, 17, 18, 19, 20, 21, 22, 23, 24, 25, 26, 27, 28, 31, 32, 33, 34, 35, 48, 54, 29, 71]\n"
          ]
        },
        {
          "output_type": "stream",
          "name": "stderr",
          "text": [
            "\rProcessing video:  11%|█▏        | 39/341 [00:10<01:17,  3.88it/s]"
          ]
        },
        {
          "output_type": "stream",
          "name": "stdout",
          "text": [
            "[Frame 38] Detections: 37, IDs: [1, 2, 3, 4, 5, 6, 7, 8, 9, 10, 11, 12, 13, 14, 15, 16, 17, 18, 19, 20, 21, 22, 23, 24, 25, 26, 27, 31, 32, 33, 34, 35, 48, 54, 29, 71, 73]\n",
            "[Frame 39] Detections: 36, IDs: [1, 2, 3, 4, 5, 6, 7, 8, 9, 10, 11, 12, 13, 14, 15, 16, 17, 18, 19, 20, 21, 22, 23, 24, 25, 26, 27, 31, 32, 33, 34, 35, 54, 29, 71, 73]\n"
          ]
        },
        {
          "output_type": "stream",
          "name": "stderr",
          "text": [
            "Processing video:  12%|█▏        | 41/341 [00:10<01:07,  4.44it/s]"
          ]
        },
        {
          "output_type": "stream",
          "name": "stdout",
          "text": [
            "[Frame 40] Detections: 37, IDs: [1, 2, 3, 4, 5, 6, 7, 8, 9, 10, 11, 12, 13, 14, 15, 16, 17, 18, 19, 20, 21, 22, 23, 24, 25, 26, 27, 31, 32, 33, 34, 35, 54, 29, 71, 73, 74]\n",
            "[Frame 41] Detections: 37, IDs: [1, 2, 3, 4, 5, 6, 7, 8, 9, 10, 11, 12, 13, 14, 15, 16, 17, 18, 19, 20, 21, 22, 23, 24, 25, 26, 27, 31, 32, 33, 34, 35, 29, 71, 73, 74, 75]\n"
          ]
        },
        {
          "output_type": "stream",
          "name": "stderr",
          "text": [
            "Processing video:  13%|█▎        | 44/341 [00:11<00:51,  5.73it/s]"
          ]
        },
        {
          "output_type": "stream",
          "name": "stdout",
          "text": [
            "[Frame 42] Detections: 37, IDs: [1, 2, 3, 4, 5, 6, 7, 8, 9, 10, 11, 12, 13, 14, 15, 16, 17, 18, 19, 20, 21, 22, 23, 24, 25, 26, 27, 31, 32, 33, 34, 35, 29, 71, 73, 74, 75]\n",
            "[Frame 43] Detections: 37, IDs: [1, 2, 3, 4, 5, 6, 7, 8, 9, 10, 11, 12, 13, 14, 15, 16, 17, 18, 19, 20, 21, 22, 23, 24, 25, 26, 27, 31, 32, 33, 34, 35, 29, 71, 73, 74, 75]\n"
          ]
        },
        {
          "output_type": "stream",
          "name": "stderr",
          "text": [
            "Processing video:  13%|█▎        | 46/341 [00:11<00:46,  6.29it/s]"
          ]
        },
        {
          "output_type": "stream",
          "name": "stdout",
          "text": [
            "[Frame 44] Detections: 36, IDs: [1, 2, 3, 4, 5, 6, 7, 8, 9, 10, 11, 12, 13, 14, 15, 16, 17, 18, 19, 20, 21, 22, 23, 24, 25, 26, 27, 32, 33, 34, 35, 29, 71, 73, 74, 75]\n",
            "[Frame 45] Detections: 36, IDs: [1, 2, 3, 4, 5, 6, 7, 8, 9, 10, 11, 12, 13, 14, 15, 16, 17, 18, 19, 20, 21, 22, 23, 24, 25, 26, 27, 32, 33, 34, 35, 29, 71, 73, 74, 75]\n"
          ]
        },
        {
          "output_type": "stream",
          "name": "stderr",
          "text": [
            "Processing video:  14%|█▍        | 48/341 [00:11<00:44,  6.64it/s]"
          ]
        },
        {
          "output_type": "stream",
          "name": "stdout",
          "text": [
            "[Frame 46] Detections: 36, IDs: [1, 2, 3, 4, 5, 6, 7, 8, 9, 10, 11, 12, 13, 14, 15, 16, 17, 18, 19, 20, 21, 22, 23, 24, 25, 26, 27, 32, 33, 34, 35, 29, 71, 73, 74, 75]\n",
            "[Frame 47] Detections: 36, IDs: [1, 2, 3, 4, 5, 6, 7, 8, 9, 10, 11, 12, 13, 14, 15, 16, 17, 18, 19, 20, 21, 22, 23, 24, 25, 26, 27, 32, 33, 34, 35, 29, 71, 73, 74, 75]\n"
          ]
        },
        {
          "output_type": "stream",
          "name": "stderr",
          "text": [
            "Processing video:  15%|█▍        | 50/341 [00:12<00:40,  7.14it/s]"
          ]
        },
        {
          "output_type": "stream",
          "name": "stdout",
          "text": [
            "[Frame 48] Detections: 35, IDs: [1, 2, 3, 4, 5, 6, 7, 8, 9, 10, 11, 12, 13, 14, 15, 16, 17, 18, 19, 20, 21, 22, 23, 24, 25, 26, 27, 32, 33, 35, 29, 71, 73, 74, 75]\n",
            "[Frame 49] Detections: 35, IDs: [1, 2, 3, 4, 5, 6, 7, 8, 9, 10, 11, 12, 13, 14, 15, 16, 17, 18, 19, 20, 21, 22, 23, 24, 25, 26, 27, 32, 33, 35, 29, 71, 73, 74, 75]\n"
          ]
        },
        {
          "output_type": "stream",
          "name": "stderr",
          "text": [
            "Processing video:  15%|█▌        | 52/341 [00:12<00:38,  7.51it/s]"
          ]
        },
        {
          "output_type": "stream",
          "name": "stdout",
          "text": [
            "[Frame 50] Detections: 35, IDs: [1, 2, 3, 4, 5, 6, 7, 8, 9, 10, 11, 12, 13, 14, 15, 16, 17, 18, 19, 20, 21, 22, 23, 24, 25, 26, 27, 32, 33, 35, 29, 71, 73, 74, 75]\n",
            "[Frame 51] Detections: 35, IDs: [1, 2, 3, 4, 5, 6, 7, 8, 9, 10, 11, 12, 13, 14, 15, 16, 17, 18, 19, 20, 21, 22, 23, 24, 25, 26, 27, 32, 33, 35, 29, 71, 73, 74, 75]\n"
          ]
        },
        {
          "output_type": "stream",
          "name": "stderr",
          "text": [
            "Processing video:  16%|█▌        | 54/341 [00:12<00:37,  7.73it/s]"
          ]
        },
        {
          "output_type": "stream",
          "name": "stdout",
          "text": [
            "[Frame 52] Detections: 35, IDs: [1, 2, 3, 4, 5, 6, 7, 8, 9, 10, 11, 12, 13, 14, 15, 16, 17, 18, 19, 20, 21, 22, 23, 24, 25, 26, 27, 32, 33, 35, 29, 71, 73, 74, 75]\n",
            "[Frame 53] Detections: 35, IDs: [1, 2, 3, 4, 5, 6, 7, 8, 9, 10, 11, 12, 13, 14, 15, 16, 17, 18, 19, 20, 21, 22, 23, 24, 25, 26, 27, 32, 33, 35, 29, 71, 73, 74, 75]\n"
          ]
        },
        {
          "output_type": "stream",
          "name": "stderr",
          "text": [
            "Processing video:  16%|█▋        | 56/341 [00:12<00:36,  7.81it/s]"
          ]
        },
        {
          "output_type": "stream",
          "name": "stdout",
          "text": [
            "[Frame 54] Detections: 35, IDs: [1, 2, 3, 4, 5, 6, 7, 8, 9, 10, 11, 12, 13, 14, 15, 16, 17, 18, 19, 20, 21, 22, 23, 24, 25, 26, 27, 32, 33, 35, 29, 71, 73, 74, 75]\n",
            "[Frame 55] Detections: 36, IDs: [1, 2, 3, 4, 5, 6, 7, 8, 9, 10, 11, 12, 13, 14, 15, 16, 17, 18, 19, 20, 21, 22, 23, 24, 25, 26, 27, 32, 33, 35, 29, 71, 73, 74, 75, 54]\n"
          ]
        },
        {
          "output_type": "stream",
          "name": "stderr",
          "text": [
            "Processing video:  17%|█▋        | 58/341 [00:13<00:35,  7.87it/s]"
          ]
        },
        {
          "output_type": "stream",
          "name": "stdout",
          "text": [
            "[Frame 56] Detections: 36, IDs: [1, 2, 3, 4, 5, 6, 7, 8, 9, 10, 11, 12, 13, 14, 15, 16, 17, 18, 19, 20, 21, 22, 23, 24, 25, 26, 27, 32, 33, 35, 29, 71, 73, 74, 75, 54]\n",
            "[Frame 57] Detections: 36, IDs: [1, 2, 3, 4, 5, 6, 7, 8, 9, 10, 11, 12, 13, 14, 15, 16, 17, 18, 19, 20, 21, 22, 23, 24, 25, 26, 27, 32, 33, 35, 29, 71, 73, 74, 75, 54]\n"
          ]
        },
        {
          "output_type": "stream",
          "name": "stderr",
          "text": [
            "Processing video:  18%|█▊        | 60/341 [00:13<00:36,  7.76it/s]"
          ]
        },
        {
          "output_type": "stream",
          "name": "stdout",
          "text": [
            "[Frame 58] Detections: 37, IDs: [1, 2, 3, 4, 5, 6, 7, 8, 9, 10, 11, 12, 13, 14, 15, 16, 17, 18, 19, 20, 21, 22, 23, 24, 25, 26, 27, 32, 33, 35, 29, 71, 73, 74, 75, 54, 89]\n",
            "[Frame 59] Detections: 37, IDs: [1, 2, 3, 4, 5, 6, 7, 8, 9, 10, 11, 12, 13, 14, 15, 16, 17, 18, 19, 20, 21, 22, 23, 24, 25, 26, 27, 32, 33, 35, 29, 71, 73, 74, 75, 54, 89]\n"
          ]
        },
        {
          "output_type": "stream",
          "name": "stderr",
          "text": [
            "Processing video:  18%|█▊        | 62/341 [00:13<00:35,  7.87it/s]"
          ]
        },
        {
          "output_type": "stream",
          "name": "stdout",
          "text": [
            "[Frame 60] Detections: 36, IDs: [1, 2, 3, 4, 5, 6, 7, 8, 9, 10, 11, 12, 13, 14, 15, 16, 17, 18, 19, 20, 22, 23, 24, 25, 26, 27, 32, 33, 35, 29, 71, 73, 74, 75, 54, 89]\n",
            "[Frame 61] Detections: 36, IDs: [1, 2, 3, 4, 5, 6, 7, 8, 9, 10, 11, 12, 13, 14, 15, 16, 17, 18, 19, 20, 22, 23, 24, 25, 26, 27, 32, 33, 35, 29, 71, 73, 74, 75, 54, 89]\n"
          ]
        },
        {
          "output_type": "stream",
          "name": "stderr",
          "text": [
            "Processing video:  19%|█▉        | 64/341 [00:13<00:35,  7.78it/s]"
          ]
        },
        {
          "output_type": "stream",
          "name": "stdout",
          "text": [
            "[Frame 62] Detections: 37, IDs: [1, 2, 3, 4, 5, 6, 7, 8, 9, 10, 11, 12, 13, 14, 15, 16, 17, 18, 19, 20, 22, 23, 24, 25, 26, 27, 32, 33, 35, 29, 71, 73, 74, 75, 54, 89, 21]\n",
            "[Frame 63] Detections: 35, IDs: [1, 2, 3, 4, 5, 6, 7, 8, 9, 10, 11, 12, 13, 14, 15, 16, 17, 18, 20, 22, 23, 24, 25, 26, 27, 32, 33, 35, 29, 71, 73, 74, 75, 89, 21]\n"
          ]
        },
        {
          "output_type": "stream",
          "name": "stderr",
          "text": [
            "Processing video:  19%|█▉        | 66/341 [00:14<00:35,  7.82it/s]"
          ]
        },
        {
          "output_type": "stream",
          "name": "stdout",
          "text": [
            "[Frame 64] Detections: 36, IDs: [1, 2, 3, 4, 5, 6, 7, 8, 9, 10, 11, 12, 13, 14, 15, 16, 17, 18, 20, 22, 23, 24, 25, 26, 27, 32, 33, 35, 29, 71, 73, 74, 75, 89, 21, 19]\n",
            "[Frame 65] Detections: 37, IDs: [1, 2, 3, 4, 5, 6, 7, 8, 9, 10, 11, 12, 13, 14, 15, 16, 17, 18, 20, 22, 23, 24, 25, 26, 27, 32, 33, 35, 29, 71, 73, 74, 75, 89, 21, 91, 19]\n"
          ]
        },
        {
          "output_type": "stream",
          "name": "stderr",
          "text": [
            "Processing video:  20%|█▉        | 68/341 [00:14<00:35,  7.71it/s]"
          ]
        },
        {
          "output_type": "stream",
          "name": "stdout",
          "text": [
            "[Frame 66] Detections: 36, IDs: [1, 2, 3, 4, 5, 6, 7, 8, 9, 10, 11, 12, 13, 14, 15, 16, 17, 18, 20, 22, 23, 24, 25, 26, 27, 32, 33, 35, 29, 71, 74, 75, 89, 21, 91, 19]\n",
            "[Frame 67] Detections: 35, IDs: [1, 2, 3, 4, 5, 6, 7, 8, 9, 10, 11, 12, 13, 14, 15, 17, 18, 20, 22, 23, 24, 25, 26, 27, 32, 33, 35, 29, 71, 74, 75, 89, 21, 91, 19]\n"
          ]
        },
        {
          "output_type": "stream",
          "name": "stderr",
          "text": [
            "Processing video:  21%|██        | 70/341 [00:14<00:34,  7.81it/s]"
          ]
        },
        {
          "output_type": "stream",
          "name": "stdout",
          "text": [
            "[Frame 68] Detections: 35, IDs: [1, 2, 3, 4, 5, 6, 7, 8, 9, 10, 11, 12, 13, 14, 15, 17, 18, 20, 22, 23, 24, 25, 26, 27, 32, 33, 35, 29, 71, 74, 75, 89, 21, 91, 19]\n",
            "[Frame 69] Detections: 35, IDs: [1, 2, 3, 4, 5, 6, 7, 8, 9, 10, 11, 12, 13, 14, 15, 17, 18, 20, 22, 23, 24, 25, 26, 27, 32, 33, 35, 29, 71, 74, 75, 89, 21, 91, 19]\n"
          ]
        },
        {
          "output_type": "stream",
          "name": "stderr",
          "text": [
            "Processing video:  21%|██        | 72/341 [00:14<00:34,  7.78it/s]"
          ]
        },
        {
          "output_type": "stream",
          "name": "stdout",
          "text": [
            "[Frame 70] Detections: 36, IDs: [1, 2, 3, 4, 5, 6, 7, 8, 9, 10, 11, 12, 13, 14, 15, 17, 18, 20, 22, 23, 24, 25, 26, 27, 32, 33, 35, 29, 71, 74, 75, 89, 21, 91, 19, 97]\n",
            "[Frame 71] Detections: 36, IDs: [1, 2, 3, 4, 5, 6, 7, 8, 9, 10, 11, 12, 13, 14, 15, 17, 18, 20, 22, 23, 24, 25, 26, 27, 32, 33, 35, 29, 71, 74, 75, 89, 21, 91, 19, 97]\n"
          ]
        },
        {
          "output_type": "stream",
          "name": "stderr",
          "text": [
            "Processing video:  22%|██▏       | 74/341 [00:15<00:34,  7.83it/s]"
          ]
        },
        {
          "output_type": "stream",
          "name": "stdout",
          "text": [
            "[Frame 72] Detections: 36, IDs: [1, 2, 3, 4, 5, 6, 7, 8, 9, 10, 11, 12, 13, 14, 15, 17, 18, 20, 22, 23, 24, 25, 26, 27, 32, 33, 35, 29, 71, 74, 75, 89, 21, 91, 19, 97]\n",
            "[Frame 73] Detections: 38, IDs: [1, 2, 3, 4, 5, 6, 7, 8, 9, 10, 11, 12, 13, 14, 15, 17, 18, 20, 22, 23, 24, 25, 26, 27, 32, 33, 35, 29, 71, 74, 75, 89, 21, 91, 19, 97, 98, 99]\n"
          ]
        },
        {
          "output_type": "stream",
          "name": "stderr",
          "text": [
            "Processing video:  22%|██▏       | 76/341 [00:15<00:33,  7.85it/s]"
          ]
        },
        {
          "output_type": "stream",
          "name": "stdout",
          "text": [
            "[Frame 74] Detections: 38, IDs: [1, 2, 3, 4, 5, 6, 7, 8, 9, 10, 11, 12, 13, 14, 15, 17, 18, 20, 22, 23, 24, 25, 26, 27, 32, 33, 35, 29, 71, 74, 75, 89, 21, 91, 19, 97, 98, 99]\n",
            "[Frame 75] Detections: 38, IDs: [1, 2, 3, 4, 5, 6, 7, 8, 9, 10, 11, 12, 13, 14, 15, 17, 18, 20, 22, 23, 24, 25, 26, 27, 32, 33, 35, 29, 71, 74, 75, 89, 21, 91, 19, 97, 98, 99]\n"
          ]
        },
        {
          "output_type": "stream",
          "name": "stderr",
          "text": [
            "Processing video:  23%|██▎       | 78/341 [00:15<00:33,  7.83it/s]"
          ]
        },
        {
          "output_type": "stream",
          "name": "stdout",
          "text": [
            "[Frame 76] Detections: 38, IDs: [1, 2, 3, 4, 5, 6, 7, 8, 9, 10, 11, 12, 13, 14, 15, 17, 18, 20, 22, 23, 24, 25, 26, 27, 32, 33, 35, 29, 71, 74, 75, 89, 21, 91, 19, 97, 98, 99]\n",
            "[Frame 77] Detections: 38, IDs: [1, 2, 3, 4, 5, 6, 7, 8, 9, 10, 11, 12, 13, 14, 15, 17, 18, 20, 22, 23, 24, 25, 26, 27, 32, 33, 35, 29, 71, 74, 75, 89, 21, 91, 19, 97, 98, 99]\n"
          ]
        },
        {
          "output_type": "stream",
          "name": "stderr",
          "text": [
            "Processing video:  23%|██▎       | 80/341 [00:15<00:33,  7.75it/s]"
          ]
        },
        {
          "output_type": "stream",
          "name": "stdout",
          "text": [
            "[Frame 78] Detections: 38, IDs: [1, 2, 3, 4, 5, 6, 7, 8, 9, 10, 11, 12, 13, 14, 15, 17, 18, 20, 22, 23, 24, 25, 26, 27, 32, 33, 35, 29, 71, 74, 75, 89, 21, 91, 19, 97, 98, 99]\n",
            "[Frame 79] Detections: 38, IDs: [1, 2, 3, 4, 5, 6, 7, 8, 9, 10, 11, 12, 13, 14, 15, 17, 18, 20, 22, 23, 24, 25, 26, 27, 32, 33, 35, 29, 71, 74, 75, 89, 21, 91, 19, 97, 98, 99]\n"
          ]
        },
        {
          "output_type": "stream",
          "name": "stderr",
          "text": [
            "Processing video:  24%|██▍       | 82/341 [00:16<00:32,  7.95it/s]"
          ]
        },
        {
          "output_type": "stream",
          "name": "stdout",
          "text": [
            "[Frame 80] Detections: 38, IDs: [1, 2, 3, 4, 5, 6, 7, 8, 9, 10, 11, 12, 13, 14, 15, 17, 18, 20, 22, 23, 24, 25, 26, 27, 32, 33, 35, 29, 71, 74, 75, 89, 21, 91, 19, 97, 98, 99]\n",
            "[Frame 81] Detections: 38, IDs: [1, 2, 3, 4, 5, 6, 7, 8, 9, 10, 11, 12, 13, 14, 15, 17, 18, 20, 22, 23, 24, 25, 26, 27, 32, 33, 35, 29, 71, 74, 75, 89, 21, 91, 19, 97, 98, 99]\n"
          ]
        },
        {
          "output_type": "stream",
          "name": "stderr",
          "text": [
            "Processing video:  25%|██▍       | 84/341 [00:16<00:32,  8.02it/s]"
          ]
        },
        {
          "output_type": "stream",
          "name": "stdout",
          "text": [
            "[Frame 82] Detections: 38, IDs: [1, 2, 3, 4, 5, 6, 7, 8, 9, 10, 11, 12, 13, 14, 15, 17, 18, 20, 22, 23, 24, 25, 26, 27, 32, 33, 35, 29, 71, 74, 75, 89, 21, 91, 19, 97, 98, 99]\n",
            "[Frame 83] Detections: 38, IDs: [1, 2, 3, 4, 5, 6, 7, 8, 9, 10, 11, 12, 13, 14, 15, 17, 18, 20, 22, 23, 24, 25, 26, 27, 32, 33, 35, 29, 71, 74, 75, 89, 21, 91, 19, 97, 98, 99]\n"
          ]
        },
        {
          "output_type": "stream",
          "name": "stderr",
          "text": [
            "Processing video:  25%|██▌       | 86/341 [00:16<00:32,  7.94it/s]"
          ]
        },
        {
          "output_type": "stream",
          "name": "stdout",
          "text": [
            "[Frame 84] Detections: 38, IDs: [1, 2, 3, 4, 5, 6, 7, 8, 9, 10, 11, 12, 13, 14, 15, 17, 18, 20, 22, 23, 24, 25, 26, 27, 32, 33, 35, 29, 71, 74, 75, 89, 21, 91, 19, 97, 98, 99]\n",
            "[Frame 85] Detections: 38, IDs: [1, 2, 3, 4, 5, 6, 7, 8, 9, 10, 11, 12, 13, 14, 15, 17, 18, 20, 22, 23, 24, 25, 26, 27, 32, 33, 35, 29, 71, 74, 75, 89, 21, 91, 19, 97, 98, 99]\n"
          ]
        },
        {
          "output_type": "stream",
          "name": "stderr",
          "text": [
            "Processing video:  26%|██▌       | 88/341 [00:16<00:31,  7.96it/s]"
          ]
        },
        {
          "output_type": "stream",
          "name": "stdout",
          "text": [
            "[Frame 86] Detections: 38, IDs: [1, 2, 3, 4, 5, 6, 7, 8, 9, 10, 11, 12, 13, 14, 15, 17, 18, 20, 22, 23, 24, 25, 26, 27, 32, 33, 35, 29, 71, 74, 75, 89, 21, 91, 19, 97, 98, 99]\n",
            "[Frame 87] Detections: 38, IDs: [1, 2, 3, 4, 5, 6, 7, 8, 9, 10, 11, 12, 13, 14, 15, 17, 18, 20, 22, 23, 24, 25, 26, 27, 32, 33, 35, 29, 71, 74, 75, 89, 21, 91, 19, 97, 98, 99]\n"
          ]
        },
        {
          "output_type": "stream",
          "name": "stderr",
          "text": [
            "Processing video:  26%|██▋       | 90/341 [00:17<00:31,  8.00it/s]"
          ]
        },
        {
          "output_type": "stream",
          "name": "stdout",
          "text": [
            "[Frame 88] Detections: 38, IDs: [1, 2, 3, 4, 5, 6, 7, 8, 9, 10, 11, 12, 13, 14, 15, 17, 18, 20, 22, 23, 24, 25, 26, 27, 32, 33, 35, 29, 71, 74, 75, 89, 21, 91, 19, 97, 98, 99]\n",
            "[Frame 89] Detections: 37, IDs: [1, 2, 3, 4, 5, 6, 7, 8, 9, 10, 11, 12, 13, 14, 17, 18, 20, 22, 23, 24, 25, 26, 27, 32, 33, 35, 29, 71, 74, 75, 89, 21, 91, 19, 97, 98, 99]\n"
          ]
        },
        {
          "output_type": "stream",
          "name": "stderr",
          "text": [
            "Processing video:  27%|██▋       | 92/341 [00:17<00:30,  8.03it/s]"
          ]
        },
        {
          "output_type": "stream",
          "name": "stdout",
          "text": [
            "[Frame 90] Detections: 37, IDs: [1, 2, 3, 4, 5, 6, 7, 8, 9, 10, 11, 12, 13, 14, 17, 18, 20, 22, 23, 24, 25, 26, 27, 32, 33, 35, 29, 71, 74, 75, 89, 21, 91, 97, 98, 99, 109]\n",
            "[Frame 91] Detections: 37, IDs: [1, 2, 3, 4, 5, 6, 7, 8, 9, 10, 11, 12, 13, 14, 17, 18, 20, 22, 23, 24, 25, 26, 27, 32, 33, 35, 29, 71, 74, 75, 89, 21, 91, 97, 98, 99, 109]\n"
          ]
        },
        {
          "output_type": "stream",
          "name": "stderr",
          "text": [
            "Processing video:  28%|██▊       | 94/341 [00:17<00:31,  7.85it/s]"
          ]
        },
        {
          "output_type": "stream",
          "name": "stdout",
          "text": [
            "[Frame 92] Detections: 37, IDs: [1, 2, 3, 4, 5, 6, 7, 8, 9, 10, 11, 12, 13, 14, 17, 18, 20, 22, 23, 24, 25, 26, 27, 32, 33, 35, 29, 71, 74, 75, 89, 21, 91, 97, 98, 99, 109]\n",
            "[Frame 93] Detections: 37, IDs: [1, 2, 3, 4, 5, 6, 7, 8, 9, 10, 11, 12, 13, 14, 17, 18, 20, 22, 23, 24, 25, 26, 27, 32, 33, 35, 29, 71, 74, 75, 89, 21, 91, 97, 98, 99, 109]\n"
          ]
        },
        {
          "output_type": "stream",
          "name": "stderr",
          "text": [
            "\rProcessing video:  28%|██▊       | 95/341 [00:17<00:34,  7.11it/s]"
          ]
        },
        {
          "output_type": "stream",
          "name": "stdout",
          "text": [
            "[Frame 94] Detections: 37, IDs: [1, 2, 3, 4, 5, 6, 7, 8, 9, 10, 11, 12, 13, 14, 17, 18, 20, 22, 23, 24, 25, 26, 27, 32, 33, 35, 29, 71, 74, 75, 89, 21, 91, 97, 98, 99, 109]\n",
            "[Frame 95] Detections: 36, IDs: [1, 2, 3, 4, 5, 6, 7, 8, 9, 10, 11, 12, 13, 14, 17, 18, 20, 22, 23, 24, 25, 27, 32, 33, 35, 29, 71, 74, 75, 89, 21, 91, 97, 98, 99, 109]\n"
          ]
        },
        {
          "output_type": "stream",
          "name": "stderr",
          "text": [
            "Processing video:  28%|██▊       | 97/341 [00:18<00:38,  6.32it/s]"
          ]
        },
        {
          "output_type": "stream",
          "name": "stdout",
          "text": [
            "[Frame 96] Detections: 36, IDs: [1, 2, 3, 4, 5, 6, 7, 8, 9, 10, 11, 12, 13, 14, 17, 18, 20, 22, 23, 24, 25, 27, 32, 33, 35, 29, 71, 74, 75, 89, 21, 91, 97, 98, 99, 109]\n",
            "[Frame 97] Detections: 35, IDs: [1, 2, 3, 4, 5, 6, 7, 8, 9, 10, 11, 12, 14, 17, 18, 20, 22, 23, 24, 25, 27, 32, 33, 35, 29, 71, 74, 75, 89, 21, 91, 97, 98, 99, 109]\n"
          ]
        },
        {
          "output_type": "stream",
          "name": "stderr",
          "text": [
            "Processing video:  29%|██▉       | 99/341 [00:18<00:40,  5.96it/s]"
          ]
        },
        {
          "output_type": "stream",
          "name": "stdout",
          "text": [
            "[Frame 98] Detections: 35, IDs: [1, 2, 3, 4, 5, 6, 7, 8, 9, 10, 11, 12, 14, 17, 18, 20, 22, 23, 24, 25, 27, 32, 33, 35, 29, 71, 74, 75, 89, 21, 91, 97, 98, 99, 109]\n",
            "[Frame 99] Detections: 35, IDs: [1, 2, 3, 4, 5, 6, 7, 8, 9, 10, 11, 12, 14, 17, 18, 20, 22, 23, 24, 25, 27, 32, 33, 35, 29, 71, 74, 75, 89, 21, 91, 97, 98, 99, 109]\n"
          ]
        },
        {
          "output_type": "stream",
          "name": "stderr",
          "text": [
            "Processing video:  30%|██▉       | 101/341 [00:18<00:43,  5.54it/s]"
          ]
        },
        {
          "output_type": "stream",
          "name": "stdout",
          "text": [
            "[Frame 100] Detections: 35, IDs: [1, 2, 3, 4, 5, 6, 7, 8, 9, 10, 11, 12, 14, 17, 18, 20, 22, 23, 24, 25, 27, 32, 33, 35, 29, 71, 74, 75, 89, 21, 91, 97, 98, 99, 109]\n"
          ]
        },
        {
          "output_type": "stream",
          "name": "stderr",
          "text": [
            "\rProcessing video:  30%|██▉       | 102/341 [00:19<00:43,  5.46it/s]"
          ]
        },
        {
          "output_type": "stream",
          "name": "stdout",
          "text": [
            "[Frame 101] Detections: 36, IDs: [1, 2, 3, 4, 5, 6, 7, 8, 9, 10, 11, 12, 14, 17, 18, 20, 22, 23, 24, 25, 27, 32, 33, 35, 29, 71, 74, 75, 89, 21, 91, 97, 98, 99, 109, 26]\n",
            "[Frame 102] Detections: 36, IDs: [1, 2, 3, 4, 5, 6, 7, 8, 9, 10, 11, 12, 14, 17, 18, 20, 22, 23, 24, 25, 27, 32, 33, 35, 29, 71, 74, 75, 89, 21, 91, 97, 98, 99, 109, 26]\n"
          ]
        },
        {
          "output_type": "stream",
          "name": "stderr",
          "text": [
            "Processing video:  30%|███       | 104/341 [00:19<00:44,  5.27it/s]"
          ]
        },
        {
          "output_type": "stream",
          "name": "stdout",
          "text": [
            "[Frame 103] Detections: 36, IDs: [1, 2, 3, 4, 5, 6, 7, 8, 9, 10, 11, 12, 14, 17, 18, 20, 22, 23, 24, 25, 27, 32, 33, 35, 29, 71, 74, 75, 89, 21, 91, 97, 98, 99, 109, 26]\n",
            "[Frame 104] Detections: 36, IDs: [1, 2, 3, 4, 5, 6, 7, 8, 9, 10, 11, 12, 14, 17, 18, 20, 22, 23, 24, 25, 27, 32, 33, 35, 29, 71, 74, 75, 89, 21, 91, 97, 98, 99, 109, 26]\n"
          ]
        },
        {
          "output_type": "stream",
          "name": "stderr",
          "text": [
            "Processing video:  31%|███       | 106/341 [00:19<00:44,  5.26it/s]"
          ]
        },
        {
          "output_type": "stream",
          "name": "stdout",
          "text": [
            "[Frame 105] Detections: 36, IDs: [1, 2, 3, 4, 5, 6, 7, 8, 9, 10, 11, 12, 14, 17, 18, 20, 22, 23, 24, 25, 27, 32, 33, 35, 29, 71, 74, 75, 89, 21, 91, 97, 98, 99, 109, 26]\n",
            "[Frame 106] Detections: 38, IDs: [1, 2, 3, 4, 5, 6, 7, 8, 9, 10, 11, 12, 14, 17, 18, 20, 22, 23, 24, 25, 27, 32, 33, 35, 29, 71, 74, 75, 89, 21, 91, 97, 98, 99, 109, 26, 120, 121]\n"
          ]
        },
        {
          "output_type": "stream",
          "name": "stderr",
          "text": [
            "Processing video:  32%|███▏      | 109/341 [00:20<00:37,  6.11it/s]"
          ]
        },
        {
          "output_type": "stream",
          "name": "stdout",
          "text": [
            "[Frame 107] Detections: 37, IDs: [1, 2, 3, 4, 5, 6, 7, 8, 9, 10, 11, 12, 14, 17, 18, 20, 22, 23, 24, 25, 27, 32, 33, 35, 29, 71, 74, 75, 89, 91, 97, 98, 99, 109, 26, 120, 121]\n",
            "[Frame 108] Detections: 37, IDs: [1, 2, 3, 4, 5, 6, 7, 8, 9, 10, 11, 12, 14, 17, 18, 20, 22, 23, 24, 25, 27, 32, 33, 35, 29, 71, 74, 75, 89, 91, 97, 98, 99, 109, 26, 120, 121]\n"
          ]
        },
        {
          "output_type": "stream",
          "name": "stderr",
          "text": [
            "Processing video:  33%|███▎      | 111/341 [00:20<00:34,  6.64it/s]"
          ]
        },
        {
          "output_type": "stream",
          "name": "stdout",
          "text": [
            "[Frame 109] Detections: 37, IDs: [1, 2, 3, 4, 5, 6, 7, 8, 9, 10, 11, 12, 14, 17, 18, 20, 22, 23, 24, 25, 27, 32, 33, 35, 29, 71, 74, 75, 89, 91, 97, 98, 99, 109, 26, 120, 121]\n",
            "[Frame 110] Detections: 37, IDs: [1, 2, 3, 4, 5, 6, 7, 8, 9, 10, 11, 12, 14, 17, 18, 20, 22, 23, 24, 25, 27, 32, 33, 35, 29, 71, 74, 75, 89, 91, 97, 98, 99, 109, 26, 120, 121]\n"
          ]
        },
        {
          "output_type": "stream",
          "name": "stderr",
          "text": [
            "Processing video:  33%|███▎      | 113/341 [00:20<00:32,  7.02it/s]"
          ]
        },
        {
          "output_type": "stream",
          "name": "stdout",
          "text": [
            "[Frame 111] Detections: 36, IDs: [1, 2, 3, 4, 5, 6, 7, 8, 9, 10, 11, 12, 14, 17, 18, 20, 22, 23, 24, 25, 27, 32, 33, 35, 29, 71, 74, 75, 89, 91, 97, 98, 99, 109, 26, 120]\n",
            "[Frame 112] Detections: 36, IDs: [1, 2, 3, 4, 5, 6, 7, 8, 9, 10, 11, 12, 14, 17, 18, 20, 22, 23, 24, 25, 27, 32, 33, 35, 29, 71, 74, 75, 89, 91, 97, 98, 99, 109, 26, 120]\n"
          ]
        },
        {
          "output_type": "stream",
          "name": "stderr",
          "text": [
            "Processing video:  34%|███▎      | 115/341 [00:21<00:32,  7.05it/s]"
          ]
        },
        {
          "output_type": "stream",
          "name": "stdout",
          "text": [
            "[Frame 113] Detections: 36, IDs: [1, 2, 3, 4, 5, 6, 7, 8, 9, 10, 11, 12, 14, 17, 18, 20, 22, 23, 24, 25, 27, 32, 33, 35, 29, 71, 74, 75, 89, 91, 97, 98, 99, 109, 26, 120]\n",
            "[Frame 114] Detections: 36, IDs: [1, 2, 3, 4, 5, 6, 7, 8, 9, 10, 11, 12, 14, 17, 18, 20, 22, 23, 24, 25, 27, 32, 33, 35, 29, 71, 74, 75, 89, 91, 97, 98, 99, 109, 26, 120]\n"
          ]
        },
        {
          "output_type": "stream",
          "name": "stderr",
          "text": [
            "Processing video:  34%|███▍      | 117/341 [00:21<00:30,  7.41it/s]"
          ]
        },
        {
          "output_type": "stream",
          "name": "stdout",
          "text": [
            "[Frame 115] Detections: 36, IDs: [1, 2, 3, 4, 5, 6, 7, 8, 9, 10, 11, 12, 14, 17, 18, 20, 22, 23, 24, 25, 27, 32, 33, 35, 29, 71, 74, 75, 89, 91, 97, 98, 99, 109, 26, 120]\n",
            "[Frame 116] Detections: 36, IDs: [1, 2, 3, 4, 5, 6, 7, 8, 9, 10, 11, 12, 14, 17, 18, 20, 22, 23, 24, 25, 27, 32, 33, 35, 29, 71, 74, 75, 89, 91, 97, 98, 99, 109, 26, 120]\n"
          ]
        },
        {
          "output_type": "stream",
          "name": "stderr",
          "text": [
            "Processing video:  35%|███▍      | 119/341 [00:21<00:29,  7.56it/s]"
          ]
        },
        {
          "output_type": "stream",
          "name": "stdout",
          "text": [
            "[Frame 117] Detections: 35, IDs: [1, 2, 3, 4, 5, 6, 7, 8, 9, 10, 11, 12, 14, 17, 18, 20, 22, 23, 24, 25, 27, 32, 33, 35, 29, 71, 74, 75, 89, 91, 97, 98, 99, 109, 120]\n",
            "[Frame 118] Detections: 34, IDs: [1, 2, 3, 4, 5, 6, 7, 8, 9, 10, 11, 14, 17, 18, 20, 22, 23, 24, 25, 27, 32, 33, 35, 29, 71, 74, 75, 89, 91, 97, 98, 99, 109, 120]\n"
          ]
        },
        {
          "output_type": "stream",
          "name": "stderr",
          "text": [
            "Processing video:  35%|███▌      | 121/341 [00:21<00:28,  7.70it/s]"
          ]
        },
        {
          "output_type": "stream",
          "name": "stdout",
          "text": [
            "[Frame 119] Detections: 33, IDs: [1, 2, 3, 4, 5, 7, 8, 9, 10, 11, 14, 17, 18, 20, 22, 23, 24, 25, 27, 32, 33, 35, 29, 71, 74, 75, 89, 91, 97, 98, 99, 109, 120]\n",
            "[Frame 120] Detections: 33, IDs: [1, 2, 3, 4, 5, 7, 8, 9, 10, 11, 14, 17, 18, 20, 22, 23, 24, 25, 27, 32, 33, 35, 29, 71, 74, 75, 89, 91, 97, 98, 99, 109, 120]\n"
          ]
        },
        {
          "output_type": "stream",
          "name": "stderr",
          "text": [
            "Processing video:  36%|███▌      | 123/341 [00:22<00:28,  7.60it/s]"
          ]
        },
        {
          "output_type": "stream",
          "name": "stdout",
          "text": [
            "[Frame 121] Detections: 33, IDs: [1, 2, 3, 4, 5, 7, 8, 9, 10, 11, 14, 17, 18, 20, 22, 23, 24, 25, 27, 32, 33, 35, 29, 71, 74, 75, 89, 91, 97, 98, 99, 109, 120]\n",
            "[Frame 122] Detections: 33, IDs: [1, 2, 3, 4, 5, 7, 8, 9, 10, 11, 14, 17, 18, 20, 22, 23, 24, 25, 27, 32, 33, 35, 29, 71, 74, 75, 89, 91, 97, 98, 99, 109, 120]\n"
          ]
        },
        {
          "output_type": "stream",
          "name": "stderr",
          "text": [
            "Processing video:  37%|███▋      | 125/341 [00:22<00:27,  7.74it/s]"
          ]
        },
        {
          "output_type": "stream",
          "name": "stdout",
          "text": [
            "[Frame 123] Detections: 34, IDs: [1, 2, 3, 4, 5, 7, 8, 9, 10, 11, 14, 17, 18, 20, 22, 23, 24, 25, 27, 32, 33, 35, 29, 71, 74, 75, 89, 91, 97, 98, 99, 109, 120, 127]\n",
            "[Frame 124] Detections: 34, IDs: [1, 2, 3, 4, 5, 7, 8, 9, 10, 11, 14, 17, 18, 20, 22, 23, 24, 25, 27, 32, 33, 35, 29, 71, 74, 75, 89, 91, 97, 98, 99, 109, 120, 127]\n"
          ]
        },
        {
          "output_type": "stream",
          "name": "stderr",
          "text": [
            "Processing video:  37%|███▋      | 127/341 [00:22<00:27,  7.65it/s]"
          ]
        },
        {
          "output_type": "stream",
          "name": "stdout",
          "text": [
            "[Frame 125] Detections: 33, IDs: [1, 2, 3, 4, 5, 7, 8, 9, 10, 11, 14, 17, 18, 20, 22, 23, 24, 25, 27, 32, 33, 35, 29, 71, 74, 75, 89, 91, 97, 98, 99, 109, 120]\n",
            "[Frame 126] Detections: 33, IDs: [1, 2, 3, 4, 5, 7, 8, 9, 10, 11, 14, 17, 18, 20, 22, 23, 24, 25, 27, 32, 33, 35, 29, 71, 74, 75, 89, 91, 97, 98, 99, 109, 120]\n"
          ]
        },
        {
          "output_type": "stream",
          "name": "stderr",
          "text": [
            "Processing video:  38%|███▊      | 129/341 [00:23<00:27,  7.76it/s]"
          ]
        },
        {
          "output_type": "stream",
          "name": "stdout",
          "text": [
            "[Frame 127] Detections: 33, IDs: [1, 2, 3, 4, 5, 7, 8, 9, 10, 11, 14, 17, 18, 20, 22, 23, 24, 25, 27, 32, 33, 35, 29, 71, 74, 75, 89, 91, 97, 98, 99, 109, 120]\n",
            "[Frame 128] Detections: 33, IDs: [1, 2, 3, 4, 5, 7, 8, 9, 10, 11, 14, 17, 18, 20, 22, 23, 24, 25, 27, 32, 33, 35, 29, 71, 74, 75, 89, 91, 97, 98, 99, 109, 120]\n"
          ]
        },
        {
          "output_type": "stream",
          "name": "stderr",
          "text": [
            "Processing video:  38%|███▊      | 131/341 [00:23<00:27,  7.73it/s]"
          ]
        },
        {
          "output_type": "stream",
          "name": "stdout",
          "text": [
            "[Frame 129] Detections: 33, IDs: [1, 2, 3, 4, 7, 8, 9, 10, 11, 14, 17, 18, 20, 22, 23, 24, 25, 27, 32, 33, 35, 29, 71, 74, 75, 89, 91, 97, 98, 99, 109, 120, 132]\n",
            "[Frame 130] Detections: 33, IDs: [1, 2, 3, 4, 7, 8, 9, 10, 11, 14, 17, 18, 20, 22, 23, 24, 25, 27, 32, 33, 35, 29, 71, 74, 75, 89, 91, 97, 98, 99, 109, 120, 132]\n"
          ]
        },
        {
          "output_type": "stream",
          "name": "stderr",
          "text": [
            "Processing video:  39%|███▉      | 133/341 [00:23<00:26,  7.91it/s]"
          ]
        },
        {
          "output_type": "stream",
          "name": "stdout",
          "text": [
            "[Frame 131] Detections: 33, IDs: [1, 2, 3, 4, 7, 8, 9, 10, 11, 14, 17, 18, 20, 22, 23, 24, 25, 27, 32, 33, 35, 29, 71, 74, 75, 89, 91, 97, 98, 99, 109, 120, 132]\n",
            "[Frame 132] Detections: 31, IDs: [2, 3, 4, 7, 8, 9, 10, 11, 14, 17, 18, 20, 22, 23, 24, 25, 32, 33, 35, 29, 71, 74, 75, 89, 91, 97, 98, 99, 109, 120, 132]\n"
          ]
        },
        {
          "output_type": "stream",
          "name": "stderr",
          "text": [
            "Processing video:  40%|███▉      | 135/341 [00:23<00:25,  8.05it/s]"
          ]
        },
        {
          "output_type": "stream",
          "name": "stdout",
          "text": [
            "[Frame 133] Detections: 31, IDs: [2, 3, 4, 7, 8, 9, 10, 11, 14, 17, 18, 20, 22, 23, 24, 25, 32, 33, 35, 29, 71, 74, 75, 89, 91, 97, 98, 99, 109, 120, 132]\n",
            "[Frame 134] Detections: 31, IDs: [2, 3, 4, 7, 8, 9, 10, 11, 14, 17, 18, 20, 22, 23, 24, 25, 32, 33, 35, 29, 71, 74, 75, 89, 91, 97, 98, 99, 109, 120, 132]\n"
          ]
        },
        {
          "output_type": "stream",
          "name": "stderr",
          "text": [
            "Processing video:  40%|████      | 137/341 [00:24<00:25,  8.11it/s]"
          ]
        },
        {
          "output_type": "stream",
          "name": "stdout",
          "text": [
            "[Frame 135] Detections: 31, IDs: [2, 3, 4, 7, 8, 9, 10, 11, 14, 17, 18, 20, 22, 23, 24, 25, 32, 33, 35, 29, 71, 74, 75, 89, 91, 97, 98, 99, 109, 120, 132]\n",
            "[Frame 136] Detections: 31, IDs: [2, 3, 4, 7, 8, 9, 10, 11, 14, 17, 18, 20, 22, 23, 24, 25, 32, 33, 35, 29, 71, 74, 75, 89, 91, 97, 98, 99, 109, 120, 132]\n"
          ]
        },
        {
          "output_type": "stream",
          "name": "stderr",
          "text": [
            "Processing video:  41%|████      | 139/341 [00:24<00:25,  7.86it/s]"
          ]
        },
        {
          "output_type": "stream",
          "name": "stdout",
          "text": [
            "[Frame 137] Detections: 31, IDs: [2, 3, 4, 7, 8, 9, 10, 11, 14, 17, 18, 20, 22, 23, 24, 25, 32, 33, 35, 29, 71, 74, 75, 89, 91, 97, 98, 99, 109, 120, 132]\n",
            "[Frame 138] Detections: 31, IDs: [2, 3, 4, 7, 8, 9, 10, 11, 14, 17, 18, 20, 22, 23, 24, 25, 32, 33, 35, 29, 71, 74, 75, 89, 91, 97, 98, 99, 109, 120, 132]\n"
          ]
        },
        {
          "output_type": "stream",
          "name": "stderr",
          "text": [
            "Processing video:  41%|████▏     | 141/341 [00:24<00:25,  7.99it/s]"
          ]
        },
        {
          "output_type": "stream",
          "name": "stdout",
          "text": [
            "[Frame 139] Detections: 30, IDs: [2, 3, 4, 7, 9, 10, 11, 14, 17, 18, 20, 22, 23, 24, 25, 32, 33, 35, 29, 71, 74, 75, 89, 91, 97, 98, 99, 109, 120, 132]\n",
            "[Frame 140] Detections: 30, IDs: [2, 3, 4, 7, 9, 10, 11, 14, 17, 18, 20, 22, 23, 24, 25, 32, 33, 35, 29, 71, 74, 75, 89, 91, 97, 98, 99, 109, 120, 132]\n"
          ]
        },
        {
          "output_type": "stream",
          "name": "stderr",
          "text": [
            "Processing video:  42%|████▏     | 143/341 [00:24<00:24,  8.02it/s]"
          ]
        },
        {
          "output_type": "stream",
          "name": "stdout",
          "text": [
            "[Frame 141] Detections: 30, IDs: [2, 3, 4, 7, 9, 10, 11, 14, 17, 18, 20, 22, 23, 24, 25, 32, 33, 35, 29, 71, 74, 75, 89, 91, 97, 98, 99, 109, 120, 132]\n",
            "[Frame 142] Detections: 30, IDs: [2, 3, 4, 7, 9, 10, 11, 14, 17, 18, 20, 22, 23, 24, 25, 32, 33, 35, 29, 71, 74, 75, 89, 91, 97, 98, 99, 109, 120, 132]\n"
          ]
        },
        {
          "output_type": "stream",
          "name": "stderr",
          "text": [
            "Processing video:  43%|████▎     | 145/341 [00:25<00:24,  8.06it/s]"
          ]
        },
        {
          "output_type": "stream",
          "name": "stdout",
          "text": [
            "[Frame 143] Detections: 30, IDs: [2, 3, 4, 7, 9, 10, 11, 14, 17, 18, 20, 22, 23, 24, 25, 32, 33, 35, 29, 71, 74, 75, 89, 91, 97, 98, 99, 109, 120, 132]\n",
            "[Frame 144] Detections: 30, IDs: [2, 3, 4, 7, 9, 10, 11, 14, 17, 18, 20, 22, 23, 24, 25, 32, 33, 35, 29, 71, 74, 75, 89, 91, 97, 98, 99, 109, 120, 132]\n"
          ]
        },
        {
          "output_type": "stream",
          "name": "stderr",
          "text": [
            "Processing video:  43%|████▎     | 147/341 [00:25<00:24,  7.89it/s]"
          ]
        },
        {
          "output_type": "stream",
          "name": "stdout",
          "text": [
            "[Frame 145] Detections: 30, IDs: [2, 3, 4, 7, 9, 10, 11, 14, 17, 18, 20, 22, 23, 24, 25, 32, 33, 35, 29, 71, 74, 75, 89, 91, 97, 98, 99, 109, 120, 132]\n",
            "[Frame 146] Detections: 30, IDs: [2, 3, 4, 7, 9, 10, 11, 14, 17, 18, 20, 22, 23, 24, 25, 32, 33, 35, 29, 71, 74, 75, 89, 91, 97, 98, 99, 109, 120, 132]\n"
          ]
        },
        {
          "output_type": "stream",
          "name": "stderr",
          "text": [
            "Processing video:  44%|████▎     | 149/341 [00:25<00:24,  7.95it/s]"
          ]
        },
        {
          "output_type": "stream",
          "name": "stdout",
          "text": [
            "[Frame 147] Detections: 30, IDs: [2, 3, 4, 7, 9, 10, 11, 14, 17, 18, 20, 22, 23, 24, 25, 32, 33, 35, 29, 71, 74, 75, 89, 91, 97, 98, 99, 109, 120, 132]\n",
            "[Frame 148] Detections: 30, IDs: [2, 3, 4, 7, 9, 10, 11, 14, 17, 18, 20, 22, 23, 24, 25, 32, 33, 35, 29, 71, 74, 75, 89, 91, 97, 98, 99, 109, 120, 132]\n"
          ]
        },
        {
          "output_type": "stream",
          "name": "stderr",
          "text": [
            "Processing video:  44%|████▍     | 151/341 [00:25<00:23,  7.95it/s]"
          ]
        },
        {
          "output_type": "stream",
          "name": "stdout",
          "text": [
            "[Frame 149] Detections: 30, IDs: [2, 3, 4, 7, 9, 10, 11, 14, 17, 18, 20, 22, 23, 24, 25, 32, 33, 35, 29, 71, 74, 75, 89, 91, 97, 98, 99, 109, 120, 132]\n",
            "[Frame 150] Detections: 30, IDs: [2, 3, 4, 7, 9, 10, 11, 14, 17, 18, 20, 22, 23, 24, 25, 32, 33, 35, 29, 71, 74, 75, 89, 91, 97, 98, 99, 109, 120, 132]\n"
          ]
        },
        {
          "output_type": "stream",
          "name": "stderr",
          "text": [
            "Processing video:  45%|████▍     | 153/341 [00:26<00:23,  8.05it/s]"
          ]
        },
        {
          "output_type": "stream",
          "name": "stdout",
          "text": [
            "[Frame 151] Detections: 30, IDs: [2, 3, 4, 7, 9, 10, 11, 14, 17, 18, 20, 22, 23, 24, 25, 32, 33, 35, 29, 71, 74, 75, 89, 91, 97, 98, 99, 109, 120, 132]\n",
            "[Frame 152] Detections: 29, IDs: [2, 3, 4, 7, 9, 10, 11, 14, 17, 18, 20, 22, 23, 24, 25, 32, 33, 35, 29, 71, 74, 75, 89, 91, 97, 98, 99, 120, 132]\n"
          ]
        },
        {
          "output_type": "stream",
          "name": "stderr",
          "text": [
            "Processing video:  45%|████▌     | 155/341 [00:26<00:23,  7.86it/s]"
          ]
        },
        {
          "output_type": "stream",
          "name": "stdout",
          "text": [
            "[Frame 153] Detections: 29, IDs: [2, 3, 4, 7, 9, 10, 11, 14, 17, 18, 20, 22, 23, 24, 25, 32, 33, 35, 29, 71, 74, 75, 89, 91, 97, 98, 99, 120, 132]\n",
            "[Frame 154] Detections: 29, IDs: [2, 3, 4, 7, 9, 10, 11, 14, 17, 18, 20, 22, 23, 24, 25, 32, 33, 35, 29, 71, 74, 75, 89, 91, 97, 98, 99, 120, 132]\n"
          ]
        },
        {
          "output_type": "stream",
          "name": "stderr",
          "text": [
            "Processing video:  46%|████▌     | 157/341 [00:26<00:22,  8.02it/s]"
          ]
        },
        {
          "output_type": "stream",
          "name": "stdout",
          "text": [
            "[Frame 155] Detections: 29, IDs: [2, 3, 4, 7, 9, 10, 11, 14, 17, 18, 20, 22, 23, 24, 25, 32, 33, 35, 29, 71, 74, 75, 89, 91, 97, 98, 99, 120, 132]\n",
            "[Frame 156] Detections: 29, IDs: [2, 3, 4, 7, 9, 10, 11, 14, 17, 18, 20, 22, 23, 24, 25, 32, 33, 35, 29, 71, 74, 75, 89, 91, 97, 98, 99, 120, 132]\n"
          ]
        },
        {
          "output_type": "stream",
          "name": "stderr",
          "text": [
            "Processing video:  47%|████▋     | 159/341 [00:26<00:23,  7.91it/s]"
          ]
        },
        {
          "output_type": "stream",
          "name": "stdout",
          "text": [
            "[Frame 157] Detections: 29, IDs: [2, 3, 4, 7, 9, 10, 11, 14, 17, 18, 20, 22, 23, 24, 25, 32, 33, 35, 29, 71, 74, 75, 89, 91, 97, 98, 99, 120, 132]\n",
            "[Frame 158] Detections: 29, IDs: [2, 3, 4, 7, 9, 10, 11, 14, 17, 18, 20, 22, 23, 24, 25, 32, 33, 35, 29, 71, 74, 75, 89, 91, 97, 98, 99, 120, 132]\n"
          ]
        },
        {
          "output_type": "stream",
          "name": "stderr",
          "text": [
            "Processing video:  47%|████▋     | 161/341 [00:27<00:22,  8.02it/s]"
          ]
        },
        {
          "output_type": "stream",
          "name": "stdout",
          "text": [
            "[Frame 159] Detections: 28, IDs: [2, 3, 4, 7, 9, 11, 14, 17, 18, 20, 22, 23, 24, 25, 32, 33, 35, 29, 71, 74, 75, 89, 91, 97, 98, 99, 120, 132]\n",
            "[Frame 160] Detections: 29, IDs: [2, 3, 4, 7, 9, 11, 14, 17, 18, 20, 22, 23, 24, 25, 32, 33, 35, 29, 71, 74, 75, 89, 91, 97, 98, 99, 120, 132, 137]\n"
          ]
        },
        {
          "output_type": "stream",
          "name": "stderr",
          "text": [
            "Processing video:  48%|████▊     | 163/341 [00:27<00:23,  7.73it/s]"
          ]
        },
        {
          "output_type": "stream",
          "name": "stdout",
          "text": [
            "[Frame 161] Detections: 29, IDs: [2, 3, 4, 7, 9, 11, 14, 17, 18, 20, 22, 23, 24, 25, 32, 33, 35, 29, 71, 74, 75, 89, 91, 97, 98, 99, 120, 132, 137]\n",
            "[Frame 162] Detections: 29, IDs: [2, 3, 4, 7, 9, 11, 14, 17, 18, 20, 22, 23, 24, 25, 32, 33, 35, 29, 71, 74, 75, 89, 91, 97, 98, 99, 120, 132, 137]\n"
          ]
        },
        {
          "output_type": "stream",
          "name": "stderr",
          "text": [
            "Processing video:  48%|████▊     | 165/341 [00:27<00:22,  7.95it/s]"
          ]
        },
        {
          "output_type": "stream",
          "name": "stdout",
          "text": [
            "[Frame 163] Detections: 30, IDs: [2, 3, 4, 7, 9, 11, 14, 17, 18, 20, 22, 23, 24, 25, 32, 33, 35, 29, 71, 74, 75, 89, 91, 97, 98, 99, 120, 132, 137, 10]\n",
            "[Frame 164] Detections: 30, IDs: [2, 3, 4, 7, 9, 11, 14, 17, 18, 20, 22, 23, 24, 25, 32, 33, 35, 29, 71, 74, 75, 89, 91, 97, 98, 99, 120, 132, 137, 10]\n"
          ]
        },
        {
          "output_type": "stream",
          "name": "stderr",
          "text": [
            "Processing video:  49%|████▉     | 167/341 [00:27<00:21,  8.04it/s]"
          ]
        },
        {
          "output_type": "stream",
          "name": "stdout",
          "text": [
            "[Frame 165] Detections: 30, IDs: [2, 3, 4, 7, 9, 11, 14, 17, 18, 20, 22, 23, 24, 25, 32, 33, 35, 29, 71, 74, 75, 89, 91, 97, 98, 99, 120, 132, 137, 10]\n",
            "[Frame 166] Detections: 30, IDs: [2, 3, 4, 7, 9, 11, 14, 17, 18, 20, 22, 23, 24, 25, 32, 33, 35, 29, 71, 74, 75, 89, 91, 97, 98, 99, 120, 132, 137, 10]\n"
          ]
        },
        {
          "output_type": "stream",
          "name": "stderr",
          "text": [
            "Processing video:  50%|████▉     | 169/341 [00:28<00:21,  8.00it/s]"
          ]
        },
        {
          "output_type": "stream",
          "name": "stdout",
          "text": [
            "[Frame 167] Detections: 30, IDs: [2, 3, 4, 7, 9, 11, 14, 17, 18, 20, 22, 23, 24, 25, 32, 33, 35, 29, 71, 74, 75, 89, 91, 97, 98, 99, 120, 132, 137, 10]\n",
            "[Frame 168] Detections: 29, IDs: [2, 3, 4, 7, 9, 11, 14, 17, 18, 20, 22, 23, 24, 25, 32, 33, 35, 29, 71, 74, 75, 89, 91, 97, 98, 99, 120, 132, 137]\n"
          ]
        },
        {
          "output_type": "stream",
          "name": "stderr",
          "text": [
            "Processing video:  50%|█████     | 171/341 [00:28<00:22,  7.44it/s]"
          ]
        },
        {
          "output_type": "stream",
          "name": "stdout",
          "text": [
            "[Frame 169] Detections: 29, IDs: [2, 3, 4, 7, 9, 11, 14, 17, 18, 20, 22, 23, 24, 25, 32, 33, 35, 29, 71, 74, 75, 89, 91, 97, 98, 99, 120, 132, 137]\n",
            "[Frame 170] Detections: 29, IDs: [2, 3, 4, 7, 9, 11, 14, 17, 18, 20, 22, 23, 24, 25, 32, 33, 35, 29, 71, 74, 75, 89, 91, 97, 98, 99, 120, 132, 137]\n"
          ]
        },
        {
          "output_type": "stream",
          "name": "stderr",
          "text": [
            "Processing video:  51%|█████     | 173/341 [00:28<00:21,  7.72it/s]"
          ]
        },
        {
          "output_type": "stream",
          "name": "stdout",
          "text": [
            "[Frame 171] Detections: 29, IDs: [2, 3, 4, 7, 9, 11, 14, 17, 18, 20, 22, 23, 24, 25, 32, 33, 35, 29, 71, 74, 75, 89, 91, 97, 98, 99, 120, 132, 137]\n",
            "[Frame 172] Detections: 29, IDs: [2, 3, 4, 7, 9, 11, 14, 17, 18, 20, 22, 23, 24, 25, 32, 33, 35, 29, 71, 74, 75, 89, 91, 97, 98, 99, 120, 132, 137]\n"
          ]
        },
        {
          "output_type": "stream",
          "name": "stderr",
          "text": [
            "Processing video:  51%|█████▏    | 175/341 [00:28<00:21,  7.89it/s]"
          ]
        },
        {
          "output_type": "stream",
          "name": "stdout",
          "text": [
            "[Frame 173] Detections: 29, IDs: [2, 3, 4, 7, 9, 11, 14, 17, 18, 20, 22, 23, 24, 25, 32, 33, 35, 29, 71, 74, 75, 89, 91, 97, 98, 99, 120, 132, 137]\n",
            "[Frame 174] Detections: 29, IDs: [2, 3, 4, 7, 9, 11, 14, 17, 18, 20, 22, 23, 24, 25, 32, 33, 35, 29, 71, 74, 75, 89, 91, 97, 98, 99, 120, 132, 137]\n"
          ]
        },
        {
          "output_type": "stream",
          "name": "stderr",
          "text": [
            "Processing video:  52%|█████▏    | 177/341 [00:29<00:20,  7.98it/s]"
          ]
        },
        {
          "output_type": "stream",
          "name": "stdout",
          "text": [
            "[Frame 175] Detections: 29, IDs: [2, 3, 4, 7, 9, 11, 14, 17, 18, 20, 22, 23, 24, 25, 32, 33, 35, 29, 71, 74, 75, 89, 91, 97, 98, 99, 120, 132, 137]\n",
            "[Frame 176] Detections: 29, IDs: [2, 3, 4, 7, 9, 11, 14, 17, 18, 20, 22, 23, 24, 25, 32, 33, 35, 29, 71, 74, 75, 89, 91, 97, 98, 99, 120, 132, 137]\n"
          ]
        },
        {
          "output_type": "stream",
          "name": "stderr",
          "text": [
            "Processing video:  52%|█████▏    | 179/341 [00:29<00:21,  7.65it/s]"
          ]
        },
        {
          "output_type": "stream",
          "name": "stdout",
          "text": [
            "[Frame 177] Detections: 29, IDs: [2, 3, 4, 7, 9, 11, 14, 17, 18, 20, 22, 23, 24, 25, 32, 33, 35, 29, 71, 74, 75, 89, 91, 97, 98, 99, 120, 132, 137]\n",
            "[Frame 178] Detections: 30, IDs: [2, 3, 4, 7, 9, 11, 14, 17, 18, 20, 22, 23, 24, 25, 32, 33, 35, 29, 71, 74, 75, 89, 91, 97, 98, 99, 120, 132, 137, 149]\n"
          ]
        },
        {
          "output_type": "stream",
          "name": "stderr",
          "text": [
            "Processing video:  53%|█████▎    | 181/341 [00:29<00:20,  7.70it/s]"
          ]
        },
        {
          "output_type": "stream",
          "name": "stdout",
          "text": [
            "[Frame 179] Detections: 30, IDs: [2, 3, 4, 7, 9, 11, 14, 17, 18, 20, 22, 23, 24, 25, 32, 33, 35, 29, 71, 74, 75, 89, 91, 97, 98, 99, 120, 132, 137, 149]\n",
            "[Frame 180] Detections: 30, IDs: [2, 3, 4, 7, 9, 11, 14, 17, 18, 20, 22, 23, 24, 25, 32, 33, 35, 29, 71, 74, 75, 89, 91, 97, 98, 99, 120, 132, 137, 149]\n"
          ]
        },
        {
          "output_type": "stream",
          "name": "stderr",
          "text": [
            "Processing video:  54%|█████▎    | 183/341 [00:29<00:20,  7.68it/s]"
          ]
        },
        {
          "output_type": "stream",
          "name": "stdout",
          "text": [
            "[Frame 181] Detections: 30, IDs: [2, 3, 4, 7, 9, 11, 14, 17, 18, 20, 22, 23, 24, 25, 32, 33, 35, 29, 71, 74, 75, 89, 91, 97, 98, 99, 120, 132, 137, 149]\n",
            "[Frame 182] Detections: 30, IDs: [2, 3, 4, 7, 9, 11, 14, 17, 18, 20, 22, 23, 24, 25, 32, 33, 35, 29, 71, 74, 75, 89, 91, 97, 98, 99, 120, 132, 137, 149]\n"
          ]
        },
        {
          "output_type": "stream",
          "name": "stderr",
          "text": [
            "\rProcessing video:  54%|█████▍    | 184/341 [00:30<00:20,  7.69it/s]"
          ]
        },
        {
          "output_type": "stream",
          "name": "stdout",
          "text": [
            "[Frame 183] Detections: 30, IDs: [2, 3, 4, 7, 9, 11, 14, 17, 18, 20, 22, 23, 24, 25, 32, 33, 35, 29, 71, 74, 75, 89, 91, 97, 98, 99, 120, 132, 137, 149]\n",
            "[Frame 184] Detections: 30, IDs: [2, 3, 4, 7, 9, 11, 14, 17, 18, 20, 22, 23, 24, 25, 32, 33, 35, 29, 71, 74, 75, 89, 91, 97, 98, 99, 120, 132, 137, 149]\n"
          ]
        },
        {
          "output_type": "stream",
          "name": "stderr",
          "text": [
            "Processing video:  55%|█████▍    | 186/341 [00:30<00:24,  6.40it/s]"
          ]
        },
        {
          "output_type": "stream",
          "name": "stdout",
          "text": [
            "[Frame 185] Detections: 30, IDs: [2, 3, 4, 7, 9, 11, 14, 17, 18, 20, 22, 23, 24, 25, 32, 33, 35, 29, 71, 74, 75, 89, 91, 97, 98, 99, 120, 132, 137, 149]\n",
            "[Frame 186] Detections: 30, IDs: [2, 3, 4, 7, 9, 11, 14, 17, 18, 20, 22, 23, 24, 25, 32, 33, 35, 29, 71, 74, 75, 89, 91, 97, 98, 99, 120, 132, 137, 149]\n"
          ]
        },
        {
          "output_type": "stream",
          "name": "stderr",
          "text": [
            "Processing video:  55%|█████▌    | 188/341 [00:30<00:25,  5.90it/s]"
          ]
        },
        {
          "output_type": "stream",
          "name": "stdout",
          "text": [
            "[Frame 187] Detections: 30, IDs: [2, 3, 4, 7, 9, 11, 14, 17, 18, 20, 22, 23, 24, 25, 32, 33, 35, 29, 71, 74, 75, 89, 91, 97, 98, 99, 120, 132, 137, 149]\n",
            "[Frame 188] Detections: 31, IDs: [2, 3, 4, 7, 9, 11, 14, 17, 18, 20, 22, 23, 24, 25, 32, 33, 35, 29, 71, 74, 75, 89, 91, 97, 98, 99, 120, 132, 137, 149, 152]\n"
          ]
        },
        {
          "output_type": "stream",
          "name": "stderr",
          "text": [
            "Processing video:  56%|█████▌    | 190/341 [00:31<00:25,  5.82it/s]"
          ]
        },
        {
          "output_type": "stream",
          "name": "stdout",
          "text": [
            "[Frame 189] Detections: 31, IDs: [2, 3, 4, 7, 9, 11, 14, 17, 18, 20, 22, 23, 24, 25, 32, 33, 35, 29, 71, 74, 75, 89, 91, 97, 98, 99, 120, 132, 137, 149, 152]\n",
            "[Frame 190] Detections: 30, IDs: [2, 3, 4, 7, 9, 11, 14, 17, 18, 20, 22, 23, 24, 25, 32, 33, 35, 29, 71, 74, 75, 89, 91, 97, 98, 99, 132, 137, 149, 152]\n"
          ]
        },
        {
          "output_type": "stream",
          "name": "stderr",
          "text": [
            "Processing video:  56%|█████▋    | 192/341 [00:31<00:26,  5.63it/s]"
          ]
        },
        {
          "output_type": "stream",
          "name": "stdout",
          "text": [
            "[Frame 191] Detections: 30, IDs: [2, 3, 4, 7, 9, 11, 14, 17, 18, 20, 22, 23, 24, 25, 32, 33, 35, 29, 71, 74, 75, 89, 91, 97, 98, 99, 132, 137, 149, 152]\n"
          ]
        },
        {
          "output_type": "stream",
          "name": "stderr",
          "text": [
            "\rProcessing video:  57%|█████▋    | 193/341 [00:31<00:31,  4.67it/s]"
          ]
        },
        {
          "output_type": "stream",
          "name": "stdout",
          "text": [
            "[Frame 192] Detections: 31, IDs: [2, 3, 4, 7, 9, 11, 14, 17, 18, 20, 22, 23, 24, 25, 32, 33, 35, 29, 71, 74, 75, 89, 91, 97, 98, 99, 132, 137, 149, 152, 157]\n"
          ]
        },
        {
          "output_type": "stream",
          "name": "stderr",
          "text": [
            "\rProcessing video:  57%|█████▋    | 194/341 [00:32<00:36,  3.99it/s]"
          ]
        },
        {
          "output_type": "stream",
          "name": "stdout",
          "text": [
            "[Frame 193] Detections: 31, IDs: [2, 3, 4, 7, 9, 11, 14, 17, 18, 20, 22, 23, 24, 25, 32, 33, 35, 29, 71, 74, 75, 89, 91, 97, 98, 99, 132, 137, 149, 152, 157]\n"
          ]
        },
        {
          "output_type": "stream",
          "name": "stderr",
          "text": [
            "\rProcessing video:  57%|█████▋    | 195/341 [00:32<00:39,  3.70it/s]"
          ]
        },
        {
          "output_type": "stream",
          "name": "stdout",
          "text": [
            "[Frame 194] Detections: 31, IDs: [2, 3, 4, 7, 9, 11, 14, 17, 18, 20, 22, 23, 24, 25, 32, 33, 35, 29, 71, 74, 75, 89, 91, 97, 98, 99, 132, 137, 149, 152, 157]\n"
          ]
        },
        {
          "output_type": "stream",
          "name": "stderr",
          "text": [
            "\rProcessing video:  57%|█████▋    | 196/341 [00:32<00:44,  3.26it/s]"
          ]
        },
        {
          "output_type": "stream",
          "name": "stdout",
          "text": [
            "[Frame 195] Detections: 31, IDs: [2, 3, 4, 7, 9, 11, 14, 17, 18, 20, 22, 23, 24, 25, 32, 33, 35, 29, 71, 74, 75, 89, 91, 97, 98, 99, 132, 137, 149, 152, 157]\n"
          ]
        },
        {
          "output_type": "stream",
          "name": "stderr",
          "text": [
            "\rProcessing video:  58%|█████▊    | 197/341 [00:33<00:45,  3.20it/s]"
          ]
        },
        {
          "output_type": "stream",
          "name": "stdout",
          "text": [
            "[Frame 196] Detections: 31, IDs: [2, 3, 4, 7, 9, 11, 14, 17, 18, 20, 22, 23, 24, 25, 32, 33, 35, 29, 71, 74, 75, 89, 91, 97, 98, 99, 132, 137, 149, 152, 157]\n"
          ]
        },
        {
          "output_type": "stream",
          "name": "stderr",
          "text": [
            "\rProcessing video:  58%|█████▊    | 198/341 [00:33<00:44,  3.19it/s]"
          ]
        },
        {
          "output_type": "stream",
          "name": "stdout",
          "text": [
            "[Frame 197] Detections: 32, IDs: [2, 3, 4, 7, 9, 11, 14, 17, 18, 20, 22, 23, 24, 25, 32, 33, 35, 29, 71, 74, 75, 89, 91, 97, 98, 99, 132, 137, 149, 152, 157, 161]\n"
          ]
        },
        {
          "output_type": "stream",
          "name": "stderr",
          "text": [
            "\rProcessing video:  58%|█████▊    | 199/341 [00:33<00:43,  3.23it/s]"
          ]
        },
        {
          "output_type": "stream",
          "name": "stdout",
          "text": [
            "[Frame 198] Detections: 33, IDs: [2, 3, 4, 7, 9, 11, 14, 17, 18, 20, 22, 23, 24, 25, 32, 33, 35, 29, 71, 74, 75, 89, 91, 97, 98, 99, 132, 137, 149, 152, 157, 161, 162]\n"
          ]
        },
        {
          "output_type": "stream",
          "name": "stderr",
          "text": [
            "\rProcessing video:  59%|█████▊    | 200/341 [00:33<00:40,  3.51it/s]"
          ]
        },
        {
          "output_type": "stream",
          "name": "stdout",
          "text": [
            "[Frame 199] Detections: 33, IDs: [2, 3, 4, 7, 9, 11, 14, 17, 18, 20, 22, 23, 24, 25, 32, 33, 35, 29, 71, 74, 75, 89, 91, 97, 98, 99, 132, 137, 149, 152, 157, 161, 162]\n",
            "[Frame 200] Detections: 33, IDs: [2, 3, 4, 7, 9, 11, 14, 17, 18, 20, 22, 23, 24, 25, 32, 33, 35, 29, 71, 74, 75, 89, 91, 97, 98, 99, 132, 137, 149, 152, 157, 161, 162]\n"
          ]
        },
        {
          "output_type": "stream",
          "name": "stderr",
          "text": [
            "Processing video:  59%|█████▉    | 202/341 [00:34<00:35,  3.97it/s]"
          ]
        },
        {
          "output_type": "stream",
          "name": "stdout",
          "text": [
            "[Frame 201] Detections: 33, IDs: [2, 3, 4, 7, 9, 11, 14, 17, 18, 20, 22, 23, 24, 25, 32, 33, 35, 29, 71, 74, 75, 89, 91, 97, 98, 99, 132, 137, 149, 152, 157, 161, 162]\n"
          ]
        },
        {
          "output_type": "stream",
          "name": "stderr",
          "text": [
            "\rProcessing video:  60%|█████▉    | 203/341 [00:34<00:33,  4.09it/s]"
          ]
        },
        {
          "output_type": "stream",
          "name": "stdout",
          "text": [
            "[Frame 202] Detections: 33, IDs: [2, 3, 4, 7, 9, 11, 14, 17, 18, 20, 22, 23, 24, 25, 32, 33, 35, 29, 71, 74, 75, 89, 91, 97, 98, 99, 132, 137, 149, 152, 157, 161, 162]\n"
          ]
        },
        {
          "output_type": "stream",
          "name": "stderr",
          "text": [
            "\rProcessing video:  60%|█████▉    | 204/341 [00:34<00:32,  4.23it/s]"
          ]
        },
        {
          "output_type": "stream",
          "name": "stdout",
          "text": [
            "[Frame 203] Detections: 33, IDs: [2, 3, 4, 7, 9, 11, 14, 17, 18, 20, 22, 23, 24, 25, 32, 33, 35, 29, 71, 74, 75, 89, 91, 97, 98, 99, 132, 137, 149, 152, 157, 161, 162]\n"
          ]
        },
        {
          "output_type": "stream",
          "name": "stderr",
          "text": [
            "\rProcessing video:  60%|██████    | 205/341 [00:35<00:33,  4.02it/s]"
          ]
        },
        {
          "output_type": "stream",
          "name": "stdout",
          "text": [
            "[Frame 204] Detections: 33, IDs: [2, 3, 4, 7, 9, 11, 14, 17, 18, 20, 22, 23, 24, 25, 32, 33, 35, 29, 71, 74, 75, 89, 91, 97, 98, 99, 132, 137, 149, 152, 157, 161, 162]\n"
          ]
        },
        {
          "output_type": "stream",
          "name": "stderr",
          "text": [
            "\rProcessing video:  60%|██████    | 206/341 [00:35<00:32,  4.21it/s]"
          ]
        },
        {
          "output_type": "stream",
          "name": "stdout",
          "text": [
            "[Frame 205] Detections: 33, IDs: [2, 3, 4, 7, 9, 11, 14, 17, 18, 20, 22, 23, 24, 25, 32, 33, 35, 29, 71, 74, 75, 89, 91, 97, 98, 99, 132, 137, 149, 152, 157, 161, 162]\n"
          ]
        },
        {
          "output_type": "stream",
          "name": "stderr",
          "text": [
            "\rProcessing video:  61%|██████    | 207/341 [00:35<00:31,  4.28it/s]"
          ]
        },
        {
          "output_type": "stream",
          "name": "stdout",
          "text": [
            "[Frame 206] Detections: 33, IDs: [2, 3, 4, 7, 9, 11, 14, 17, 18, 20, 22, 23, 24, 25, 32, 33, 35, 29, 71, 74, 75, 89, 91, 97, 98, 99, 132, 137, 149, 152, 157, 161, 162]\n"
          ]
        },
        {
          "output_type": "stream",
          "name": "stderr",
          "text": [
            "\rProcessing video:  61%|██████    | 208/341 [00:35<00:31,  4.27it/s]"
          ]
        },
        {
          "output_type": "stream",
          "name": "stdout",
          "text": [
            "[Frame 207] Detections: 32, IDs: [2, 3, 4, 7, 9, 11, 14, 17, 18, 20, 22, 23, 24, 25, 32, 33, 35, 29, 71, 74, 75, 89, 97, 98, 99, 132, 137, 149, 152, 157, 161, 162]\n"
          ]
        },
        {
          "output_type": "stream",
          "name": "stderr",
          "text": [
            "Processing video:  62%|██████▏   | 210/341 [00:36<00:27,  4.76it/s]"
          ]
        },
        {
          "output_type": "stream",
          "name": "stdout",
          "text": [
            "[Frame 208] Detections: 32, IDs: [2, 3, 4, 7, 9, 11, 14, 17, 18, 20, 22, 23, 24, 25, 32, 33, 35, 29, 71, 74, 75, 89, 97, 98, 99, 132, 137, 149, 152, 157, 161, 162]\n",
            "[Frame 209] Detections: 32, IDs: [2, 3, 4, 7, 9, 11, 14, 17, 18, 20, 22, 23, 24, 25, 32, 33, 35, 29, 71, 74, 75, 89, 97, 98, 99, 132, 137, 149, 152, 157, 161, 162]\n"
          ]
        },
        {
          "output_type": "stream",
          "name": "stderr",
          "text": [
            "Processing video:  62%|██████▏   | 212/341 [00:36<00:23,  5.58it/s]"
          ]
        },
        {
          "output_type": "stream",
          "name": "stdout",
          "text": [
            "[Frame 210] Detections: 32, IDs: [2, 3, 4, 7, 9, 11, 14, 17, 18, 20, 22, 23, 24, 25, 32, 33, 35, 29, 71, 74, 75, 89, 97, 98, 99, 132, 137, 149, 152, 157, 161, 162]\n",
            "[Frame 211] Detections: 33, IDs: [2, 3, 4, 7, 9, 11, 14, 17, 18, 20, 22, 23, 24, 25, 32, 33, 35, 29, 71, 74, 75, 89, 97, 98, 99, 132, 137, 149, 152, 157, 161, 162, 165]\n"
          ]
        },
        {
          "output_type": "stream",
          "name": "stderr",
          "text": [
            "Processing video:  63%|██████▎   | 214/341 [00:36<00:20,  6.30it/s]"
          ]
        },
        {
          "output_type": "stream",
          "name": "stdout",
          "text": [
            "[Frame 212] Detections: 33, IDs: [2, 3, 4, 7, 9, 11, 14, 17, 18, 20, 22, 23, 24, 25, 32, 33, 35, 29, 71, 74, 75, 89, 97, 98, 99, 132, 137, 149, 152, 157, 161, 162, 165]\n",
            "[Frame 213] Detections: 33, IDs: [2, 3, 4, 7, 9, 11, 14, 17, 18, 20, 22, 23, 24, 25, 32, 33, 35, 29, 71, 74, 75, 89, 97, 98, 99, 132, 137, 149, 152, 157, 161, 162, 165]\n"
          ]
        },
        {
          "output_type": "stream",
          "name": "stderr",
          "text": [
            "Processing video:  63%|██████▎   | 216/341 [00:37<00:17,  7.01it/s]"
          ]
        },
        {
          "output_type": "stream",
          "name": "stdout",
          "text": [
            "[Frame 214] Detections: 33, IDs: [2, 3, 4, 7, 9, 11, 14, 17, 18, 20, 22, 23, 24, 25, 32, 33, 35, 29, 71, 74, 75, 89, 97, 98, 99, 132, 137, 149, 152, 157, 161, 162, 165]\n",
            "[Frame 215] Detections: 33, IDs: [2, 3, 4, 7, 9, 11, 14, 17, 18, 20, 22, 23, 24, 25, 32, 33, 35, 29, 71, 74, 75, 89, 97, 98, 99, 132, 137, 149, 152, 157, 161, 162, 165]\n"
          ]
        },
        {
          "output_type": "stream",
          "name": "stderr",
          "text": [
            "Processing video:  64%|██████▍   | 218/341 [00:37<00:16,  7.39it/s]"
          ]
        },
        {
          "output_type": "stream",
          "name": "stdout",
          "text": [
            "[Frame 216] Detections: 33, IDs: [2, 3, 4, 7, 9, 11, 14, 17, 18, 20, 22, 23, 24, 25, 32, 33, 35, 29, 71, 74, 75, 89, 97, 98, 99, 132, 137, 149, 152, 157, 161, 162, 165]\n",
            "[Frame 217] Detections: 33, IDs: [2, 3, 4, 7, 9, 11, 14, 17, 18, 20, 22, 23, 24, 25, 32, 33, 35, 29, 71, 74, 75, 89, 97, 98, 99, 132, 137, 149, 152, 157, 161, 162, 165]\n"
          ]
        },
        {
          "output_type": "stream",
          "name": "stderr",
          "text": [
            "Processing video:  65%|██████▍   | 220/341 [00:37<00:15,  7.73it/s]"
          ]
        },
        {
          "output_type": "stream",
          "name": "stdout",
          "text": [
            "[Frame 218] Detections: 33, IDs: [2, 3, 4, 7, 9, 11, 14, 17, 18, 20, 22, 23, 24, 25, 32, 33, 35, 29, 71, 74, 75, 89, 97, 98, 99, 132, 137, 149, 152, 157, 161, 162, 165]\n",
            "[Frame 219] Detections: 33, IDs: [2, 3, 4, 7, 9, 11, 14, 17, 18, 20, 22, 23, 24, 25, 32, 33, 35, 29, 71, 74, 75, 89, 97, 98, 99, 132, 137, 149, 152, 157, 161, 162, 165]\n"
          ]
        },
        {
          "output_type": "stream",
          "name": "stderr",
          "text": [
            "Processing video:  65%|██████▌   | 222/341 [00:37<00:15,  7.61it/s]"
          ]
        },
        {
          "output_type": "stream",
          "name": "stdout",
          "text": [
            "[Frame 220] Detections: 33, IDs: [2, 3, 4, 7, 9, 11, 14, 17, 18, 20, 22, 23, 24, 25, 32, 33, 35, 29, 71, 74, 75, 89, 97, 98, 99, 132, 137, 149, 152, 157, 161, 162, 165]\n",
            "[Frame 221] Detections: 33, IDs: [2, 3, 4, 7, 9, 11, 14, 17, 18, 20, 22, 23, 24, 25, 32, 33, 35, 29, 71, 74, 75, 89, 97, 98, 99, 132, 137, 149, 152, 157, 161, 162, 165]\n"
          ]
        },
        {
          "output_type": "stream",
          "name": "stderr",
          "text": [
            "Processing video:  66%|██████▌   | 224/341 [00:38<00:14,  7.83it/s]"
          ]
        },
        {
          "output_type": "stream",
          "name": "stdout",
          "text": [
            "[Frame 222] Detections: 33, IDs: [2, 3, 4, 7, 9, 11, 14, 17, 18, 20, 22, 23, 24, 25, 32, 33, 35, 29, 71, 74, 75, 89, 97, 98, 99, 132, 137, 149, 152, 157, 161, 162, 165]\n",
            "[Frame 223] Detections: 33, IDs: [2, 3, 4, 7, 9, 11, 14, 17, 18, 20, 22, 23, 24, 25, 32, 33, 35, 29, 71, 74, 75, 89, 97, 98, 99, 132, 137, 149, 152, 157, 161, 162, 165]\n"
          ]
        },
        {
          "output_type": "stream",
          "name": "stderr",
          "text": [
            "Processing video:  66%|██████▋   | 226/341 [00:38<00:14,  7.75it/s]"
          ]
        },
        {
          "output_type": "stream",
          "name": "stdout",
          "text": [
            "[Frame 224] Detections: 33, IDs: [2, 3, 4, 7, 9, 11, 14, 17, 18, 20, 22, 23, 24, 25, 32, 33, 35, 29, 71, 74, 75, 89, 97, 98, 99, 132, 137, 149, 152, 157, 161, 162, 165]\n",
            "[Frame 225] Detections: 33, IDs: [2, 3, 4, 7, 9, 11, 14, 17, 18, 20, 22, 23, 24, 25, 32, 33, 35, 29, 71, 74, 75, 89, 97, 98, 99, 132, 137, 149, 152, 157, 161, 162, 165]\n"
          ]
        },
        {
          "output_type": "stream",
          "name": "stderr",
          "text": [
            "Processing video:  67%|██████▋   | 228/341 [00:38<00:14,  7.91it/s]"
          ]
        },
        {
          "output_type": "stream",
          "name": "stdout",
          "text": [
            "[Frame 226] Detections: 32, IDs: [2, 3, 4, 7, 9, 11, 14, 17, 18, 20, 22, 23, 24, 25, 32, 33, 35, 29, 71, 74, 75, 89, 97, 98, 99, 132, 137, 149, 152, 157, 161, 165]\n",
            "[Frame 227] Detections: 32, IDs: [2, 3, 4, 7, 9, 11, 14, 17, 18, 20, 22, 23, 24, 25, 32, 33, 35, 29, 71, 74, 75, 89, 97, 98, 99, 132, 137, 149, 152, 157, 161, 165]\n"
          ]
        },
        {
          "output_type": "stream",
          "name": "stderr",
          "text": [
            "Processing video:  67%|██████▋   | 230/341 [00:38<00:14,  7.79it/s]"
          ]
        },
        {
          "output_type": "stream",
          "name": "stdout",
          "text": [
            "[Frame 228] Detections: 31, IDs: [2, 3, 4, 7, 9, 11, 14, 17, 18, 20, 22, 23, 24, 25, 32, 33, 29, 71, 74, 75, 89, 97, 98, 99, 132, 137, 149, 152, 157, 161, 165]\n",
            "[Frame 229] Detections: 31, IDs: [2, 3, 4, 7, 9, 11, 14, 17, 18, 20, 22, 23, 24, 25, 32, 33, 29, 71, 74, 75, 89, 97, 98, 99, 132, 137, 149, 152, 157, 161, 165]\n"
          ]
        },
        {
          "output_type": "stream",
          "name": "stderr",
          "text": [
            "Processing video:  68%|██████▊   | 232/341 [00:39<00:13,  7.90it/s]"
          ]
        },
        {
          "output_type": "stream",
          "name": "stdout",
          "text": [
            "[Frame 230] Detections: 31, IDs: [2, 3, 4, 7, 9, 11, 14, 17, 18, 20, 22, 23, 24, 25, 32, 33, 29, 71, 74, 75, 89, 97, 98, 99, 132, 137, 149, 152, 157, 161, 165]\n",
            "[Frame 231] Detections: 31, IDs: [2, 3, 4, 7, 9, 11, 14, 17, 18, 20, 22, 23, 24, 25, 32, 33, 29, 71, 74, 75, 89, 97, 98, 99, 132, 137, 149, 152, 157, 161, 165]\n"
          ]
        },
        {
          "output_type": "stream",
          "name": "stderr",
          "text": [
            "Processing video:  69%|██████▊   | 234/341 [00:39<00:13,  7.75it/s]"
          ]
        },
        {
          "output_type": "stream",
          "name": "stdout",
          "text": [
            "[Frame 232] Detections: 32, IDs: [2, 3, 4, 7, 9, 11, 14, 17, 18, 20, 22, 23, 24, 25, 32, 33, 29, 71, 74, 75, 89, 97, 98, 99, 132, 137, 149, 152, 157, 161, 165, 171]\n",
            "[Frame 233] Detections: 32, IDs: [2, 3, 4, 7, 9, 11, 14, 17, 18, 20, 22, 23, 24, 25, 32, 33, 29, 71, 74, 75, 89, 97, 98, 99, 132, 137, 149, 152, 157, 161, 165, 171]\n"
          ]
        },
        {
          "output_type": "stream",
          "name": "stderr",
          "text": [
            "Processing video:  69%|██████▉   | 236/341 [00:39<00:13,  7.87it/s]"
          ]
        },
        {
          "output_type": "stream",
          "name": "stdout",
          "text": [
            "[Frame 234] Detections: 31, IDs: [2, 3, 4, 7, 9, 11, 14, 17, 18, 20, 22, 23, 24, 25, 32, 33, 29, 71, 74, 75, 89, 97, 98, 99, 132, 137, 149, 152, 157, 161, 171]\n",
            "[Frame 235] Detections: 31, IDs: [2, 3, 4, 7, 9, 11, 14, 17, 18, 20, 22, 23, 24, 25, 32, 33, 29, 71, 74, 75, 89, 97, 98, 99, 132, 137, 149, 152, 157, 161, 171]\n"
          ]
        },
        {
          "output_type": "stream",
          "name": "stderr",
          "text": [
            "Processing video:  70%|██████▉   | 238/341 [00:39<00:13,  7.68it/s]"
          ]
        },
        {
          "output_type": "stream",
          "name": "stdout",
          "text": [
            "[Frame 236] Detections: 30, IDs: [2, 3, 4, 7, 9, 11, 14, 17, 18, 20, 22, 23, 24, 25, 32, 33, 29, 71, 74, 75, 89, 97, 98, 99, 132, 137, 149, 152, 157, 161]\n",
            "[Frame 237] Detections: 30, IDs: [2, 3, 4, 7, 9, 11, 14, 17, 18, 20, 22, 23, 24, 25, 32, 33, 29, 71, 74, 75, 89, 97, 98, 99, 132, 137, 149, 152, 157, 161]\n"
          ]
        },
        {
          "output_type": "stream",
          "name": "stderr",
          "text": [
            "Processing video:  70%|███████   | 240/341 [00:40<00:12,  7.85it/s]"
          ]
        },
        {
          "output_type": "stream",
          "name": "stdout",
          "text": [
            "[Frame 238] Detections: 30, IDs: [2, 3, 4, 7, 9, 11, 14, 17, 18, 20, 22, 23, 24, 25, 32, 33, 29, 71, 74, 75, 89, 97, 98, 99, 132, 137, 149, 152, 157, 161]\n",
            "[Frame 239] Detections: 31, IDs: [2, 3, 4, 7, 9, 11, 14, 17, 18, 20, 22, 23, 24, 25, 32, 33, 29, 71, 74, 75, 89, 97, 98, 99, 132, 137, 149, 152, 157, 161, 176]\n"
          ]
        },
        {
          "output_type": "stream",
          "name": "stderr",
          "text": [
            "Processing video:  71%|███████   | 242/341 [00:40<00:12,  7.81it/s]"
          ]
        },
        {
          "output_type": "stream",
          "name": "stdout",
          "text": [
            "[Frame 240] Detections: 31, IDs: [2, 3, 4, 7, 9, 11, 14, 17, 18, 20, 22, 23, 24, 25, 32, 33, 29, 71, 74, 75, 89, 97, 98, 99, 132, 137, 149, 152, 157, 161, 176]\n",
            "[Frame 241] Detections: 31, IDs: [2, 3, 4, 7, 9, 11, 14, 17, 18, 20, 22, 23, 24, 25, 32, 33, 29, 71, 74, 75, 89, 97, 98, 99, 132, 137, 149, 152, 157, 161, 176]\n"
          ]
        },
        {
          "output_type": "stream",
          "name": "stderr",
          "text": [
            "Processing video:  72%|███████▏  | 244/341 [00:40<00:12,  7.89it/s]"
          ]
        },
        {
          "output_type": "stream",
          "name": "stdout",
          "text": [
            "[Frame 242] Detections: 31, IDs: [2, 3, 4, 7, 9, 11, 14, 17, 18, 20, 22, 23, 24, 25, 32, 33, 29, 71, 74, 75, 89, 97, 98, 99, 132, 137, 149, 152, 157, 161, 176]\n",
            "[Frame 243] Detections: 31, IDs: [2, 3, 4, 7, 9, 11, 14, 17, 20, 22, 23, 24, 25, 32, 33, 29, 71, 74, 75, 89, 97, 98, 99, 132, 137, 149, 152, 157, 161, 176, 180]\n"
          ]
        },
        {
          "output_type": "stream",
          "name": "stderr",
          "text": [
            "Processing video:  72%|███████▏  | 246/341 [00:40<00:12,  7.71it/s]"
          ]
        },
        {
          "output_type": "stream",
          "name": "stdout",
          "text": [
            "[Frame 244] Detections: 30, IDs: [2, 3, 4, 7, 9, 11, 14, 17, 20, 22, 23, 24, 25, 32, 33, 29, 71, 74, 75, 89, 97, 98, 99, 132, 137, 149, 152, 157, 161, 180]\n",
            "[Frame 245] Detections: 31, IDs: [2, 3, 4, 7, 9, 11, 14, 17, 20, 22, 23, 24, 25, 32, 33, 29, 71, 74, 75, 97, 98, 99, 132, 137, 149, 152, 157, 161, 180, 183, 184]\n"
          ]
        },
        {
          "output_type": "stream",
          "name": "stderr",
          "text": [
            "Processing video:  73%|███████▎  | 248/341 [00:41<00:12,  7.53it/s]"
          ]
        },
        {
          "output_type": "stream",
          "name": "stdout",
          "text": [
            "[Frame 246] Detections: 31, IDs: [2, 4, 7, 9, 11, 14, 17, 20, 22, 23, 24, 25, 32, 33, 29, 71, 74, 75, 97, 98, 99, 132, 137, 149, 152, 157, 161, 180, 183, 184, 185]\n",
            "[Frame 247] Detections: 30, IDs: [2, 4, 7, 9, 11, 14, 17, 20, 22, 23, 24, 25, 32, 33, 29, 71, 74, 75, 97, 98, 99, 132, 137, 149, 152, 157, 161, 183, 184, 185]\n"
          ]
        },
        {
          "output_type": "stream",
          "name": "stderr",
          "text": [
            "Processing video:  73%|███████▎  | 250/341 [00:41<00:12,  7.53it/s]"
          ]
        },
        {
          "output_type": "stream",
          "name": "stdout",
          "text": [
            "[Frame 248] Detections: 29, IDs: [4, 7, 9, 11, 14, 17, 20, 22, 23, 24, 25, 32, 33, 29, 71, 74, 75, 97, 98, 99, 132, 137, 149, 152, 157, 161, 183, 184, 185]\n",
            "[Frame 249] Detections: 30, IDs: [4, 7, 9, 11, 14, 17, 20, 22, 23, 24, 25, 32, 33, 29, 71, 74, 75, 97, 98, 99, 132, 137, 149, 152, 157, 161, 183, 184, 185, 186]\n"
          ]
        },
        {
          "output_type": "stream",
          "name": "stderr",
          "text": [
            "Processing video:  74%|███████▍  | 252/341 [00:41<00:11,  7.64it/s]"
          ]
        },
        {
          "output_type": "stream",
          "name": "stdout",
          "text": [
            "[Frame 250] Detections: 31, IDs: [4, 7, 9, 11, 14, 17, 20, 22, 23, 24, 25, 32, 33, 29, 71, 74, 75, 97, 98, 99, 132, 137, 149, 152, 157, 161, 183, 184, 185, 186, 188]\n",
            "[Frame 251] Detections: 31, IDs: [4, 7, 9, 11, 14, 17, 20, 22, 23, 24, 25, 32, 33, 29, 71, 74, 75, 97, 98, 99, 132, 137, 149, 152, 157, 161, 183, 184, 185, 186, 188]\n"
          ]
        },
        {
          "output_type": "stream",
          "name": "stderr",
          "text": [
            "Processing video:  74%|███████▍  | 254/341 [00:41<00:11,  7.43it/s]"
          ]
        },
        {
          "output_type": "stream",
          "name": "stdout",
          "text": [
            "[Frame 252] Detections: 31, IDs: [4, 7, 9, 11, 14, 17, 20, 22, 23, 24, 25, 32, 33, 29, 71, 74, 75, 97, 98, 99, 132, 137, 149, 152, 157, 161, 183, 184, 185, 186, 188]\n",
            "[Frame 253] Detections: 32, IDs: [4, 7, 9, 11, 14, 17, 20, 22, 23, 24, 25, 32, 33, 29, 71, 74, 75, 97, 98, 99, 132, 137, 149, 152, 157, 161, 183, 184, 185, 186, 188, 176]\n"
          ]
        },
        {
          "output_type": "stream",
          "name": "stderr",
          "text": [
            "Processing video:  75%|███████▌  | 256/341 [00:42<00:11,  7.56it/s]"
          ]
        },
        {
          "output_type": "stream",
          "name": "stdout",
          "text": [
            "[Frame 254] Detections: 31, IDs: [4, 7, 9, 11, 14, 17, 20, 23, 24, 25, 32, 33, 29, 71, 74, 75, 97, 98, 99, 132, 137, 149, 152, 157, 161, 183, 184, 185, 186, 188, 176]\n",
            "[Frame 255] Detections: 32, IDs: [4, 7, 9, 11, 14, 17, 20, 23, 24, 25, 32, 33, 29, 71, 74, 75, 97, 98, 99, 132, 137, 149, 152, 157, 161, 183, 184, 185, 186, 188, 176, 192]\n"
          ]
        },
        {
          "output_type": "stream",
          "name": "stderr",
          "text": [
            "Processing video:  76%|███████▌  | 258/341 [00:42<00:10,  7.69it/s]"
          ]
        },
        {
          "output_type": "stream",
          "name": "stdout",
          "text": [
            "[Frame 256] Detections: 33, IDs: [4, 7, 9, 11, 14, 17, 20, 23, 24, 25, 32, 33, 29, 71, 74, 75, 97, 98, 99, 132, 137, 149, 152, 157, 161, 183, 184, 185, 186, 188, 176, 192, 194]\n",
            "[Frame 257] Detections: 33, IDs: [4, 7, 9, 11, 14, 17, 20, 23, 24, 25, 32, 33, 29, 71, 74, 75, 97, 98, 99, 132, 137, 149, 152, 157, 161, 183, 184, 185, 186, 188, 176, 192, 194]\n"
          ]
        },
        {
          "output_type": "stream",
          "name": "stderr",
          "text": [
            "Processing video:  76%|███████▌  | 260/341 [00:42<00:10,  7.85it/s]"
          ]
        },
        {
          "output_type": "stream",
          "name": "stdout",
          "text": [
            "[Frame 258] Detections: 32, IDs: [4, 7, 9, 11, 14, 17, 20, 23, 24, 25, 32, 33, 29, 71, 74, 75, 97, 98, 99, 132, 137, 149, 152, 157, 161, 183, 184, 185, 186, 188, 192, 194]\n",
            "[Frame 259] Detections: 32, IDs: [4, 7, 9, 11, 14, 17, 20, 23, 24, 25, 32, 33, 29, 71, 74, 75, 97, 98, 99, 132, 137, 149, 152, 157, 161, 183, 184, 185, 186, 188, 192, 194]\n"
          ]
        },
        {
          "output_type": "stream",
          "name": "stderr",
          "text": [
            "\rProcessing video:  77%|███████▋  | 261/341 [00:42<00:11,  7.11it/s]"
          ]
        },
        {
          "output_type": "stream",
          "name": "stdout",
          "text": [
            "[Frame 260] Detections: 30, IDs: [4, 7, 9, 11, 14, 17, 20, 24, 25, 32, 33, 29, 71, 74, 75, 97, 98, 99, 132, 137, 149, 152, 157, 161, 183, 184, 186, 188, 192, 194]\n",
            "[Frame 261] Detections: 30, IDs: [4, 7, 9, 11, 14, 17, 20, 24, 25, 32, 33, 29, 71, 74, 75, 97, 98, 99, 132, 137, 149, 152, 157, 161, 183, 184, 186, 188, 192, 194]\n"
          ]
        },
        {
          "output_type": "stream",
          "name": "stderr",
          "text": [
            "Processing video:  77%|███████▋  | 263/341 [00:43<00:12,  6.22it/s]"
          ]
        },
        {
          "output_type": "stream",
          "name": "stdout",
          "text": [
            "[Frame 262] Detections: 30, IDs: [4, 7, 9, 11, 14, 17, 20, 24, 25, 32, 33, 29, 71, 74, 75, 97, 98, 99, 132, 137, 149, 152, 157, 161, 183, 184, 186, 188, 192, 194]\n",
            "[Frame 263] Detections: 29, IDs: [4, 7, 9, 11, 14, 17, 20, 24, 25, 32, 33, 29, 71, 74, 75, 97, 98, 132, 137, 149, 152, 157, 161, 183, 184, 186, 188, 192, 194]\n"
          ]
        },
        {
          "output_type": "stream",
          "name": "stderr",
          "text": [
            "Processing video:  78%|███████▊  | 265/341 [00:43<00:13,  5.74it/s]"
          ]
        },
        {
          "output_type": "stream",
          "name": "stdout",
          "text": [
            "[Frame 264] Detections: 28, IDs: [4, 7, 9, 11, 14, 17, 20, 24, 25, 32, 33, 29, 71, 74, 75, 97, 98, 132, 137, 149, 152, 157, 161, 183, 184, 186, 188, 192]\n",
            "[Frame 265] Detections: 29, IDs: [4, 7, 9, 11, 14, 17, 20, 24, 25, 32, 33, 29, 71, 74, 75, 97, 98, 132, 137, 149, 152, 157, 161, 183, 184, 186, 188, 192, 198]\n"
          ]
        },
        {
          "output_type": "stream",
          "name": "stderr",
          "text": [
            "Processing video:  78%|███████▊  | 267/341 [00:43<00:13,  5.66it/s]"
          ]
        },
        {
          "output_type": "stream",
          "name": "stdout",
          "text": [
            "[Frame 266] Detections: 29, IDs: [4, 7, 9, 11, 14, 17, 20, 24, 25, 32, 33, 29, 71, 74, 75, 97, 98, 132, 137, 149, 152, 157, 161, 183, 184, 186, 188, 192, 198]\n",
            "[Frame 267] Detections: 29, IDs: [4, 7, 9, 11, 14, 17, 20, 24, 25, 32, 33, 29, 71, 74, 75, 97, 98, 132, 137, 149, 152, 157, 161, 183, 184, 186, 188, 192, 198]\n"
          ]
        },
        {
          "output_type": "stream",
          "name": "stderr",
          "text": [
            "Processing video:  79%|███████▉  | 269/341 [00:44<00:13,  5.37it/s]"
          ]
        },
        {
          "output_type": "stream",
          "name": "stdout",
          "text": [
            "[Frame 268] Detections: 29, IDs: [4, 7, 9, 14, 17, 20, 24, 25, 32, 33, 29, 71, 74, 75, 97, 98, 132, 137, 149, 152, 157, 161, 183, 184, 186, 188, 192, 198, 99]\n",
            "[Frame 269] Detections: 29, IDs: [4, 7, 9, 14, 17, 20, 24, 25, 32, 33, 29, 71, 74, 75, 97, 98, 132, 137, 149, 152, 157, 161, 183, 184, 186, 188, 192, 198, 99]\n"
          ]
        },
        {
          "output_type": "stream",
          "name": "stderr",
          "text": [
            "Processing video:  79%|███████▉  | 271/341 [00:44<00:12,  5.40it/s]"
          ]
        },
        {
          "output_type": "stream",
          "name": "stdout",
          "text": [
            "[Frame 270] Detections: 29, IDs: [4, 7, 9, 14, 17, 20, 24, 25, 32, 33, 29, 71, 74, 75, 97, 98, 132, 137, 149, 152, 157, 161, 183, 184, 186, 188, 192, 198, 99]\n",
            "[Frame 271] Detections: 29, IDs: [4, 7, 9, 14, 17, 20, 24, 25, 32, 33, 29, 71, 74, 75, 97, 98, 132, 137, 149, 152, 157, 161, 183, 184, 186, 188, 192, 198, 99]\n"
          ]
        },
        {
          "output_type": "stream",
          "name": "stderr",
          "text": [
            "Processing video:  80%|████████  | 274/341 [00:45<00:11,  5.91it/s]"
          ]
        },
        {
          "output_type": "stream",
          "name": "stdout",
          "text": [
            "[Frame 272] Detections: 29, IDs: [4, 7, 9, 14, 17, 20, 24, 25, 32, 33, 29, 71, 74, 75, 97, 98, 132, 137, 149, 152, 157, 161, 183, 184, 186, 188, 192, 198, 99]\n",
            "[Frame 273] Detections: 29, IDs: [4, 7, 9, 14, 17, 20, 24, 25, 32, 33, 29, 71, 74, 75, 97, 98, 132, 137, 149, 152, 157, 161, 183, 184, 186, 188, 192, 198, 99]\n"
          ]
        },
        {
          "output_type": "stream",
          "name": "stderr",
          "text": [
            "Processing video:  81%|████████  | 276/341 [00:45<00:09,  6.60it/s]"
          ]
        },
        {
          "output_type": "stream",
          "name": "stdout",
          "text": [
            "[Frame 274] Detections: 28, IDs: [4, 7, 9, 14, 17, 20, 24, 25, 32, 33, 29, 71, 74, 75, 97, 98, 132, 149, 152, 157, 161, 183, 184, 186, 188, 192, 198, 99]\n",
            "[Frame 275] Detections: 29, IDs: [4, 7, 9, 14, 17, 20, 24, 25, 32, 33, 29, 71, 74, 75, 97, 98, 132, 149, 152, 157, 161, 183, 184, 186, 188, 192, 198, 99, 204]\n"
          ]
        },
        {
          "output_type": "stream",
          "name": "stderr",
          "text": [
            "Processing video:  82%|████████▏ | 278/341 [00:45<00:08,  7.22it/s]"
          ]
        },
        {
          "output_type": "stream",
          "name": "stdout",
          "text": [
            "[Frame 276] Detections: 29, IDs: [4, 7, 9, 14, 17, 20, 24, 25, 32, 33, 29, 71, 74, 75, 97, 98, 132, 149, 152, 157, 161, 183, 184, 186, 188, 192, 198, 99, 204]\n",
            "[Frame 277] Detections: 29, IDs: [4, 7, 9, 14, 17, 20, 24, 25, 32, 33, 29, 71, 74, 75, 97, 98, 132, 149, 152, 157, 161, 183, 184, 186, 188, 192, 198, 99, 204]\n"
          ]
        },
        {
          "output_type": "stream",
          "name": "stderr",
          "text": [
            "Processing video:  82%|████████▏ | 280/341 [00:46<00:08,  7.38it/s]"
          ]
        },
        {
          "output_type": "stream",
          "name": "stdout",
          "text": [
            "[Frame 278] Detections: 28, IDs: [4, 7, 9, 14, 17, 20, 24, 25, 32, 33, 29, 71, 74, 75, 97, 98, 132, 149, 152, 157, 161, 184, 186, 188, 192, 198, 99, 204]\n",
            "[Frame 279] Detections: 28, IDs: [4, 7, 9, 14, 17, 20, 24, 32, 33, 29, 71, 74, 75, 97, 98, 132, 149, 152, 157, 161, 184, 186, 188, 192, 198, 99, 204, 207]\n"
          ]
        },
        {
          "output_type": "stream",
          "name": "stderr",
          "text": [
            "Processing video:  83%|████████▎ | 282/341 [00:46<00:07,  7.48it/s]"
          ]
        },
        {
          "output_type": "stream",
          "name": "stdout",
          "text": [
            "[Frame 280] Detections: 27, IDs: [4, 7, 9, 14, 17, 20, 24, 32, 33, 29, 71, 74, 75, 97, 98, 132, 149, 152, 157, 161, 184, 186, 188, 192, 198, 99, 183]\n",
            "[Frame 281] Detections: 29, IDs: [4, 7, 9, 14, 17, 20, 24, 32, 33, 29, 71, 74, 75, 97, 98, 132, 149, 152, 157, 161, 184, 186, 188, 192, 198, 99, 183, 176, 25]\n"
          ]
        },
        {
          "output_type": "stream",
          "name": "stderr",
          "text": [
            "Processing video:  83%|████████▎ | 284/341 [00:46<00:07,  7.63it/s]"
          ]
        },
        {
          "output_type": "stream",
          "name": "stdout",
          "text": [
            "[Frame 282] Detections: 31, IDs: [4, 7, 9, 14, 17, 20, 24, 32, 33, 29, 71, 74, 75, 97, 98, 132, 149, 152, 157, 161, 184, 186, 188, 192, 198, 99, 183, 215, 216, 176, 25]\n",
            "[Frame 283] Detections: 30, IDs: [4, 7, 9, 14, 17, 20, 24, 32, 33, 29, 71, 74, 75, 97, 98, 132, 149, 152, 157, 161, 184, 186, 188, 192, 198, 99, 183, 215, 216, 25]\n"
          ]
        },
        {
          "output_type": "stream",
          "name": "stderr",
          "text": [
            "Processing video:  84%|████████▍ | 286/341 [00:46<00:06,  7.88it/s]"
          ]
        },
        {
          "output_type": "stream",
          "name": "stdout",
          "text": [
            "[Frame 284] Detections: 31, IDs: [4, 7, 9, 14, 17, 20, 24, 32, 33, 29, 71, 74, 75, 97, 98, 132, 149, 152, 157, 161, 184, 186, 188, 192, 198, 99, 183, 215, 216, 25, 218]\n",
            "[Frame 285] Detections: 31, IDs: [4, 7, 9, 14, 17, 20, 24, 32, 33, 29, 71, 74, 75, 97, 98, 132, 149, 152, 157, 161, 184, 186, 188, 192, 198, 99, 183, 215, 216, 218, 219]\n"
          ]
        },
        {
          "output_type": "stream",
          "name": "stderr",
          "text": [
            "Processing video:  84%|████████▍ | 288/341 [00:47<00:06,  8.03it/s]"
          ]
        },
        {
          "output_type": "stream",
          "name": "stdout",
          "text": [
            "[Frame 286] Detections: 31, IDs: [4, 7, 9, 14, 17, 20, 24, 32, 33, 29, 71, 74, 75, 97, 98, 132, 149, 152, 157, 161, 184, 186, 188, 192, 198, 99, 183, 215, 216, 218, 219]\n",
            "[Frame 287] Detections: 31, IDs: [4, 7, 9, 14, 17, 20, 24, 32, 33, 29, 71, 74, 75, 97, 98, 132, 149, 152, 157, 161, 184, 186, 188, 192, 198, 99, 183, 215, 216, 218, 219]\n"
          ]
        },
        {
          "output_type": "stream",
          "name": "stderr",
          "text": [
            "Processing video:  85%|████████▌ | 290/341 [00:47<00:06,  7.86it/s]"
          ]
        },
        {
          "output_type": "stream",
          "name": "stdout",
          "text": [
            "[Frame 288] Detections: 31, IDs: [4, 7, 9, 14, 17, 20, 24, 32, 33, 29, 71, 74, 75, 97, 98, 132, 149, 152, 157, 161, 184, 186, 188, 192, 198, 99, 183, 215, 216, 218, 219]\n",
            "[Frame 289] Detections: 31, IDs: [4, 7, 9, 14, 17, 20, 24, 32, 33, 29, 71, 74, 75, 97, 98, 132, 149, 152, 157, 161, 184, 186, 188, 192, 198, 99, 183, 215, 216, 218, 219]\n"
          ]
        },
        {
          "output_type": "stream",
          "name": "stderr",
          "text": [
            "Processing video:  86%|████████▌ | 292/341 [00:47<00:06,  7.93it/s]"
          ]
        },
        {
          "output_type": "stream",
          "name": "stdout",
          "text": [
            "[Frame 290] Detections: 32, IDs: [4, 7, 9, 14, 17, 20, 24, 32, 33, 29, 71, 74, 75, 97, 98, 132, 149, 152, 157, 161, 184, 186, 188, 192, 198, 99, 183, 215, 216, 218, 219, 223]\n",
            "[Frame 291] Detections: 32, IDs: [4, 7, 9, 14, 17, 20, 24, 32, 33, 29, 71, 74, 75, 97, 98, 132, 149, 152, 157, 161, 184, 186, 188, 192, 198, 99, 183, 215, 216, 218, 219, 223]\n"
          ]
        },
        {
          "output_type": "stream",
          "name": "stderr",
          "text": [
            "Processing video:  86%|████████▌ | 294/341 [00:47<00:05,  7.93it/s]"
          ]
        },
        {
          "output_type": "stream",
          "name": "stdout",
          "text": [
            "[Frame 292] Detections: 32, IDs: [4, 7, 9, 14, 17, 20, 24, 32, 33, 29, 71, 74, 75, 97, 98, 132, 149, 152, 157, 161, 184, 186, 188, 192, 198, 99, 183, 215, 216, 218, 219, 223]\n",
            "[Frame 293] Detections: 32, IDs: [4, 7, 9, 14, 17, 20, 24, 32, 33, 29, 71, 74, 75, 97, 98, 132, 149, 152, 157, 161, 184, 186, 188, 192, 198, 99, 183, 215, 216, 218, 219, 223]\n"
          ]
        },
        {
          "output_type": "stream",
          "name": "stderr",
          "text": [
            "Processing video:  87%|████████▋ | 296/341 [00:48<00:05,  7.91it/s]"
          ]
        },
        {
          "output_type": "stream",
          "name": "stdout",
          "text": [
            "[Frame 294] Detections: 32, IDs: [4, 7, 9, 14, 17, 20, 24, 32, 33, 29, 71, 74, 75, 97, 98, 132, 149, 152, 157, 161, 184, 186, 188, 192, 198, 99, 183, 215, 216, 218, 219, 223]\n",
            "[Frame 295] Detections: 32, IDs: [4, 7, 9, 14, 17, 20, 24, 32, 33, 29, 71, 74, 75, 97, 98, 132, 149, 152, 157, 161, 184, 186, 188, 192, 198, 99, 183, 215, 216, 218, 219, 223]\n"
          ]
        },
        {
          "output_type": "stream",
          "name": "stderr",
          "text": [
            "Processing video:  87%|████████▋ | 298/341 [00:48<00:05,  7.83it/s]"
          ]
        },
        {
          "output_type": "stream",
          "name": "stdout",
          "text": [
            "[Frame 296] Detections: 32, IDs: [4, 7, 9, 14, 17, 20, 24, 32, 33, 29, 71, 74, 75, 97, 98, 132, 149, 152, 157, 161, 184, 186, 188, 192, 198, 99, 183, 215, 216, 218, 219, 223]\n",
            "[Frame 297] Detections: 32, IDs: [4, 7, 9, 14, 17, 20, 24, 32, 33, 29, 71, 74, 75, 97, 98, 132, 149, 152, 157, 161, 184, 186, 188, 192, 198, 99, 183, 215, 216, 218, 219, 223]\n"
          ]
        },
        {
          "output_type": "stream",
          "name": "stderr",
          "text": [
            "Processing video:  88%|████████▊ | 300/341 [00:48<00:05,  7.81it/s]"
          ]
        },
        {
          "output_type": "stream",
          "name": "stdout",
          "text": [
            "[Frame 298] Detections: 31, IDs: [4, 7, 9, 14, 17, 24, 32, 33, 29, 71, 74, 75, 97, 98, 132, 149, 152, 157, 161, 184, 186, 188, 192, 198, 99, 183, 215, 216, 218, 219, 223]\n",
            "[Frame 299] Detections: 31, IDs: [4, 7, 9, 14, 17, 24, 32, 33, 29, 71, 74, 75, 97, 98, 132, 149, 152, 157, 161, 184, 186, 188, 192, 198, 99, 183, 215, 216, 218, 219, 223]\n"
          ]
        },
        {
          "output_type": "stream",
          "name": "stderr",
          "text": [
            "Processing video:  89%|████████▊ | 302/341 [00:48<00:04,  7.86it/s]"
          ]
        },
        {
          "output_type": "stream",
          "name": "stdout",
          "text": [
            "[Frame 300] Detections: 31, IDs: [4, 7, 9, 14, 17, 24, 32, 33, 29, 71, 74, 75, 97, 98, 132, 149, 152, 157, 161, 184, 186, 188, 192, 198, 99, 183, 215, 216, 218, 219, 223]\n",
            "[Frame 301] Detections: 32, IDs: [4, 7, 9, 14, 17, 24, 32, 33, 29, 71, 74, 75, 97, 98, 132, 149, 152, 157, 161, 184, 186, 188, 192, 198, 99, 183, 215, 216, 218, 219, 223, 20]\n"
          ]
        },
        {
          "output_type": "stream",
          "name": "stderr",
          "text": [
            "Processing video:  89%|████████▉ | 304/341 [00:49<00:04,  8.00it/s]"
          ]
        },
        {
          "output_type": "stream",
          "name": "stdout",
          "text": [
            "[Frame 302] Detections: 32, IDs: [4, 7, 9, 14, 17, 24, 32, 33, 29, 71, 74, 75, 97, 98, 132, 149, 152, 157, 161, 184, 186, 188, 192, 198, 99, 183, 215, 216, 218, 219, 223, 20]\n",
            "[Frame 303] Detections: 33, IDs: [4, 7, 9, 14, 17, 24, 32, 33, 29, 71, 74, 75, 97, 98, 132, 149, 152, 157, 161, 184, 186, 188, 192, 198, 99, 183, 215, 216, 218, 219, 223, 20, 241]\n"
          ]
        },
        {
          "output_type": "stream",
          "name": "stderr",
          "text": [
            "Processing video:  90%|████████▉ | 306/341 [00:49<00:04,  7.91it/s]"
          ]
        },
        {
          "output_type": "stream",
          "name": "stdout",
          "text": [
            "[Frame 304] Detections: 34, IDs: [4, 7, 9, 14, 17, 24, 32, 33, 29, 71, 74, 75, 97, 98, 132, 149, 152, 157, 161, 184, 186, 188, 192, 198, 99, 183, 215, 216, 218, 219, 223, 20, 241, 245]\n",
            "[Frame 305] Detections: 33, IDs: [7, 9, 14, 17, 24, 32, 33, 29, 71, 74, 75, 97, 98, 132, 149, 152, 157, 161, 184, 186, 188, 192, 198, 99, 183, 215, 216, 218, 219, 223, 20, 241, 245]\n"
          ]
        },
        {
          "output_type": "stream",
          "name": "stderr",
          "text": [
            "Processing video:  90%|█████████ | 308/341 [00:49<00:04,  7.87it/s]"
          ]
        },
        {
          "output_type": "stream",
          "name": "stdout",
          "text": [
            "[Frame 306] Detections: 34, IDs: [7, 9, 14, 17, 24, 32, 33, 29, 71, 74, 75, 97, 98, 132, 149, 152, 157, 161, 184, 186, 188, 192, 198, 99, 183, 215, 216, 218, 219, 223, 20, 241, 245, 250]\n",
            "[Frame 307] Detections: 34, IDs: [7, 9, 14, 17, 24, 32, 33, 29, 71, 74, 75, 97, 98, 132, 149, 152, 157, 161, 184, 186, 188, 192, 198, 99, 183, 215, 216, 218, 219, 223, 20, 241, 245, 250]\n"
          ]
        },
        {
          "output_type": "stream",
          "name": "stderr",
          "text": [
            "Processing video:  91%|█████████ | 310/341 [00:49<00:03,  7.87it/s]"
          ]
        },
        {
          "output_type": "stream",
          "name": "stdout",
          "text": [
            "[Frame 308] Detections: 31, IDs: [7, 9, 14, 17, 24, 32, 29, 71, 74, 75, 97, 98, 132, 149, 152, 157, 161, 184, 186, 188, 192, 198, 99, 183, 215, 216, 218, 219, 223, 241, 245]\n",
            "[Frame 309] Detections: 31, IDs: [7, 9, 14, 17, 24, 32, 29, 71, 74, 75, 97, 98, 132, 149, 152, 157, 161, 184, 186, 188, 192, 198, 99, 183, 215, 216, 218, 219, 223, 241, 245]\n"
          ]
        },
        {
          "output_type": "stream",
          "name": "stderr",
          "text": [
            "Processing video:  91%|█████████▏| 312/341 [00:50<00:03,  8.05it/s]"
          ]
        },
        {
          "output_type": "stream",
          "name": "stdout",
          "text": [
            "[Frame 310] Detections: 32, IDs: [7, 9, 14, 17, 24, 32, 29, 71, 74, 75, 97, 98, 132, 149, 152, 157, 161, 184, 186, 188, 192, 198, 99, 183, 215, 216, 218, 219, 223, 241, 245, 250]\n",
            "[Frame 311] Detections: 33, IDs: [7, 9, 14, 17, 24, 32, 29, 71, 74, 75, 97, 98, 132, 149, 152, 157, 161, 184, 186, 188, 192, 198, 99, 183, 215, 216, 218, 219, 223, 241, 245, 258, 250]\n"
          ]
        },
        {
          "output_type": "stream",
          "name": "stderr",
          "text": [
            "Processing video:  92%|█████████▏| 314/341 [00:50<00:03,  7.74it/s]"
          ]
        },
        {
          "output_type": "stream",
          "name": "stdout",
          "text": [
            "[Frame 312] Detections: 33, IDs: [7, 9, 14, 17, 24, 32, 29, 71, 74, 75, 97, 98, 132, 149, 152, 157, 161, 184, 186, 188, 192, 198, 99, 183, 215, 216, 218, 219, 223, 241, 245, 258, 250]\n",
            "[Frame 313] Detections: 33, IDs: [7, 9, 14, 17, 24, 32, 29, 71, 74, 75, 97, 98, 132, 149, 152, 157, 161, 184, 186, 188, 192, 198, 99, 183, 215, 216, 218, 219, 223, 241, 245, 258, 250]\n"
          ]
        },
        {
          "output_type": "stream",
          "name": "stderr",
          "text": [
            "Processing video:  93%|█████████▎| 316/341 [00:50<00:03,  7.93it/s]"
          ]
        },
        {
          "output_type": "stream",
          "name": "stdout",
          "text": [
            "[Frame 314] Detections: 33, IDs: [7, 9, 14, 17, 24, 32, 29, 71, 74, 75, 97, 98, 132, 149, 152, 157, 161, 184, 186, 188, 192, 198, 99, 183, 215, 216, 218, 219, 223, 241, 245, 258, 250]\n",
            "[Frame 315] Detections: 34, IDs: [7, 9, 14, 17, 24, 32, 29, 71, 74, 75, 97, 98, 132, 149, 152, 157, 161, 184, 186, 188, 192, 198, 99, 183, 215, 216, 218, 219, 223, 241, 245, 258, 250, 263]\n"
          ]
        },
        {
          "output_type": "stream",
          "name": "stderr",
          "text": [
            "Processing video:  93%|█████████▎| 318/341 [00:50<00:02,  8.04it/s]"
          ]
        },
        {
          "output_type": "stream",
          "name": "stdout",
          "text": [
            "[Frame 316] Detections: 34, IDs: [7, 9, 14, 17, 24, 32, 29, 71, 74, 75, 97, 98, 132, 149, 152, 157, 161, 184, 186, 188, 192, 198, 99, 183, 215, 216, 218, 219, 223, 241, 245, 258, 250, 263]\n",
            "[Frame 317] Detections: 34, IDs: [7, 9, 14, 17, 24, 32, 29, 71, 74, 75, 97, 98, 132, 149, 152, 157, 161, 184, 186, 188, 192, 198, 99, 183, 215, 216, 218, 219, 223, 241, 245, 258, 250, 263]\n"
          ]
        },
        {
          "output_type": "stream",
          "name": "stderr",
          "text": [
            "Processing video:  94%|█████████▍| 320/341 [00:51<00:02,  8.11it/s]"
          ]
        },
        {
          "output_type": "stream",
          "name": "stdout",
          "text": [
            "[Frame 318] Detections: 34, IDs: [7, 9, 14, 17, 24, 32, 29, 71, 74, 75, 97, 98, 132, 149, 152, 157, 161, 184, 186, 188, 192, 198, 99, 183, 215, 216, 218, 219, 223, 241, 245, 258, 250, 263]\n",
            "[Frame 319] Detections: 34, IDs: [7, 9, 14, 17, 24, 32, 29, 71, 74, 75, 97, 98, 132, 149, 152, 157, 161, 184, 186, 188, 192, 198, 99, 183, 215, 216, 218, 219, 223, 241, 245, 258, 250, 263]\n"
          ]
        },
        {
          "output_type": "stream",
          "name": "stderr",
          "text": [
            "Processing video:  94%|█████████▍| 322/341 [00:51<00:02,  7.64it/s]"
          ]
        },
        {
          "output_type": "stream",
          "name": "stdout",
          "text": [
            "[Frame 320] Detections: 34, IDs: [7, 9, 14, 17, 24, 32, 29, 71, 74, 75, 97, 98, 132, 149, 152, 157, 161, 184, 186, 188, 192, 198, 99, 183, 215, 216, 218, 219, 223, 241, 245, 258, 250, 263]\n",
            "[Frame 321] Detections: 35, IDs: [7, 9, 14, 17, 24, 32, 29, 71, 74, 75, 97, 98, 132, 149, 152, 157, 161, 184, 186, 188, 192, 198, 99, 183, 215, 216, 218, 219, 223, 241, 245, 258, 250, 263, 266]\n"
          ]
        },
        {
          "output_type": "stream",
          "name": "stderr",
          "text": [
            "Processing video:  95%|█████████▌| 324/341 [00:51<00:02,  7.65it/s]"
          ]
        },
        {
          "output_type": "stream",
          "name": "stdout",
          "text": [
            "[Frame 322] Detections: 36, IDs: [7, 9, 14, 17, 24, 32, 29, 71, 74, 75, 97, 98, 132, 149, 152, 157, 161, 184, 186, 188, 192, 198, 99, 183, 215, 216, 218, 219, 223, 241, 245, 258, 250, 263, 266, 269]\n",
            "[Frame 323] Detections: 35, IDs: [7, 9, 14, 17, 24, 29, 71, 74, 75, 97, 98, 132, 149, 152, 157, 161, 184, 186, 188, 192, 198, 99, 183, 215, 216, 218, 219, 223, 241, 245, 258, 250, 263, 266, 269]\n"
          ]
        },
        {
          "output_type": "stream",
          "name": "stderr",
          "text": [
            "Processing video:  96%|█████████▌| 326/341 [00:51<00:01,  7.53it/s]"
          ]
        },
        {
          "output_type": "stream",
          "name": "stdout",
          "text": [
            "[Frame 324] Detections: 35, IDs: [7, 9, 14, 17, 24, 29, 71, 74, 75, 97, 98, 132, 149, 152, 157, 161, 184, 186, 188, 192, 198, 99, 183, 215, 216, 218, 219, 223, 241, 245, 258, 250, 263, 266, 269]\n",
            "[Frame 325] Detections: 36, IDs: [7, 14, 17, 24, 29, 71, 74, 75, 97, 98, 132, 149, 152, 157, 161, 184, 186, 188, 192, 198, 99, 183, 215, 216, 218, 219, 223, 241, 245, 258, 250, 263, 266, 269, 271, 272]\n"
          ]
        },
        {
          "output_type": "stream",
          "name": "stderr",
          "text": [
            "Processing video:  96%|█████████▌| 328/341 [00:52<00:01,  7.80it/s]"
          ]
        },
        {
          "output_type": "stream",
          "name": "stdout",
          "text": [
            "[Frame 326] Detections: 36, IDs: [7, 14, 17, 24, 29, 71, 74, 75, 97, 98, 132, 149, 152, 157, 161, 184, 186, 188, 192, 198, 99, 183, 215, 216, 218, 219, 223, 241, 245, 258, 250, 263, 266, 269, 271, 272]\n",
            "[Frame 327] Detections: 36, IDs: [7, 14, 17, 24, 29, 71, 74, 75, 97, 98, 132, 149, 152, 157, 161, 184, 186, 188, 192, 198, 99, 183, 215, 216, 218, 219, 223, 241, 245, 258, 250, 263, 266, 269, 271, 272]\n"
          ]
        },
        {
          "output_type": "stream",
          "name": "stderr",
          "text": [
            "Processing video:  97%|█████████▋| 330/341 [00:52<00:01,  7.54it/s]"
          ]
        },
        {
          "output_type": "stream",
          "name": "stdout",
          "text": [
            "[Frame 328] Detections: 36, IDs: [7, 14, 17, 24, 29, 71, 74, 75, 97, 98, 132, 149, 152, 157, 161, 184, 186, 188, 192, 198, 99, 183, 215, 216, 218, 219, 223, 241, 245, 258, 250, 263, 266, 269, 271, 272]\n",
            "[Frame 329] Detections: 36, IDs: [7, 14, 17, 24, 29, 71, 74, 75, 97, 98, 132, 149, 152, 157, 161, 184, 186, 188, 192, 198, 99, 183, 215, 216, 218, 219, 223, 241, 245, 258, 250, 263, 266, 269, 271, 272]\n"
          ]
        },
        {
          "output_type": "stream",
          "name": "stderr",
          "text": [
            "Processing video:  97%|█████████▋| 332/341 [00:52<00:01,  7.45it/s]"
          ]
        },
        {
          "output_type": "stream",
          "name": "stdout",
          "text": [
            "[Frame 330] Detections: 36, IDs: [7, 14, 17, 24, 29, 71, 74, 75, 97, 98, 132, 149, 152, 157, 161, 184, 186, 188, 192, 198, 99, 183, 215, 216, 218, 219, 223, 241, 245, 258, 250, 263, 266, 269, 271, 272]\n",
            "[Frame 331] Detections: 36, IDs: [7, 14, 17, 24, 29, 71, 74, 75, 97, 98, 132, 149, 152, 157, 161, 184, 186, 188, 192, 198, 99, 183, 215, 216, 218, 219, 223, 241, 245, 258, 250, 263, 266, 269, 271, 272]\n"
          ]
        },
        {
          "output_type": "stream",
          "name": "stderr",
          "text": [
            "Processing video:  98%|█████████▊| 334/341 [00:52<00:00,  7.63it/s]"
          ]
        },
        {
          "output_type": "stream",
          "name": "stdout",
          "text": [
            "[Frame 332] Detections: 35, IDs: [7, 14, 17, 24, 29, 71, 74, 75, 97, 98, 132, 149, 152, 157, 161, 184, 186, 188, 192, 198, 99, 183, 216, 218, 219, 223, 241, 245, 258, 250, 263, 266, 269, 271, 272]\n",
            "[Frame 333] Detections: 36, IDs: [7, 14, 17, 24, 29, 71, 74, 75, 97, 98, 132, 149, 152, 157, 161, 184, 186, 188, 192, 198, 99, 183, 216, 218, 219, 223, 241, 245, 258, 250, 263, 266, 269, 271, 272, 275]\n"
          ]
        },
        {
          "output_type": "stream",
          "name": "stderr",
          "text": [
            "Processing video:  99%|█████████▊| 336/341 [00:53<00:00,  7.89it/s]"
          ]
        },
        {
          "output_type": "stream",
          "name": "stdout",
          "text": [
            "[Frame 334] Detections: 36, IDs: [7, 14, 17, 24, 29, 71, 74, 75, 97, 98, 132, 149, 152, 157, 161, 184, 186, 188, 192, 198, 99, 183, 216, 218, 219, 223, 241, 245, 258, 250, 263, 266, 269, 271, 272, 275]\n",
            "[Frame 335] Detections: 36, IDs: [7, 14, 17, 24, 29, 71, 74, 75, 97, 98, 132, 149, 152, 157, 161, 184, 186, 188, 192, 198, 99, 183, 216, 218, 219, 223, 241, 245, 258, 250, 263, 266, 269, 271, 272, 275]\n"
          ]
        },
        {
          "output_type": "stream",
          "name": "stderr",
          "text": [
            "Processing video:  99%|█████████▉| 338/341 [00:53<00:00,  7.76it/s]"
          ]
        },
        {
          "output_type": "stream",
          "name": "stdout",
          "text": [
            "[Frame 336] Detections: 35, IDs: [7, 14, 17, 24, 29, 71, 74, 75, 97, 98, 132, 149, 152, 157, 161, 184, 186, 188, 192, 198, 99, 183, 216, 218, 219, 223, 241, 245, 250, 263, 266, 269, 271, 272, 275]\n",
            "[Frame 337] Detections: 34, IDs: [7, 14, 17, 24, 29, 71, 74, 75, 97, 98, 132, 149, 152, 157, 161, 184, 186, 188, 192, 198, 99, 183, 216, 218, 219, 223, 245, 250, 263, 266, 269, 271, 272, 275]\n"
          ]
        },
        {
          "output_type": "stream",
          "name": "stderr",
          "text": [
            "Processing video: 100%|█████████▉| 340/341 [00:53<00:00,  7.98it/s]"
          ]
        },
        {
          "output_type": "stream",
          "name": "stdout",
          "text": [
            "[Frame 338] Detections: 35, IDs: [7, 14, 17, 24, 29, 71, 74, 75, 97, 98, 132, 149, 152, 157, 161, 184, 186, 188, 192, 198, 99, 183, 216, 218, 219, 223, 245, 250, 263, 266, 269, 271, 272, 275, 241]\n",
            "[Frame 339] Detections: 35, IDs: [7, 14, 17, 24, 29, 71, 74, 75, 97, 98, 132, 149, 152, 157, 161, 184, 186, 188, 192, 198, 99, 183, 216, 218, 219, 223, 245, 250, 263, 266, 269, 271, 272, 275, 241]\n"
          ]
        },
        {
          "output_type": "stream",
          "name": "stderr",
          "text": [
            "Processing video: 100%|██████████| 341/341 [00:53<00:00,  6.34it/s]"
          ]
        },
        {
          "output_type": "stream",
          "name": "stdout",
          "text": [
            "[Frame 340] Detections: 34, IDs: [7, 14, 17, 24, 29, 74, 75, 97, 98, 132, 149, 152, 157, 161, 184, 186, 188, 192, 198, 99, 183, 216, 218, 219, 223, 245, 250, 263, 266, 269, 271, 272, 275, 241]\n"
          ]
        },
        {
          "output_type": "stream",
          "name": "stderr",
          "text": [
            "\n"
          ]
        }
      ]
    },
    {
      "cell_type": "code",
      "source": [
        "#Config\n",
        "video_path = '/content/people-walking.mp4'\n",
        "output_heatmap_video = 'heatmap_output.mp4'\n",
        "output_image_path = 'final_heatmap.jpg'\n",
        "model_path = 'yolov8n.pt'\n",
        "conf_threshold = 0.3"
      ],
      "metadata": {
        "id": "ApyS0LPx9wjX"
      },
      "execution_count": null,
      "outputs": []
    },
    {
      "cell_type": "code",
      "source": [
        "# Load model\n",
        "model = YOLO(model_path)"
      ],
      "metadata": {
        "id": "E3G4LoJb995w"
      },
      "execution_count": null,
      "outputs": []
    },
    {
      "cell_type": "code",
      "source": [
        "# Video setup\n",
        "cap = cv2.VideoCapture(video_path)\n",
        "ret, frame = cap.read()\n",
        "if not ret:\n",
        "    raise ValueError(\"Could not read from video.\")\n",
        "\n",
        "H, W = frame.shape[:2]\n",
        "heatmap_canvas = np.zeros((H, W), dtype=np.float32)"
      ],
      "metadata": {
        "id": "F4RMUeDC99ID"
      },
      "execution_count": null,
      "outputs": []
    },
    {
      "cell_type": "code",
      "source": [
        "# Output video setup\n",
        "fourcc = cv2.VideoWriter_fourcc(*'mp4v')\n",
        "out = cv2.VideoWriter(output_heatmap_video, fourcc, 30.0, (W, H))"
      ],
      "metadata": {
        "id": "hc6RaW_4-A8I"
      },
      "execution_count": null,
      "outputs": []
    },
    {
      "cell_type": "code",
      "source": [
        "# prcess video frame\n",
        "while ret:\n",
        "\n",
        "    results = model(frame, verbose=False)[0]\n",
        "\n",
        "    for box in results.boxes:\n",
        "        cls_id = int(box.cls[0])\n",
        "        conf = float(box.conf[0])\n",
        "        if cls_id == 0 and conf > conf_threshold:\n",
        "            x1, y1, x2, y2 = map(int, box.xyxy[0])\n",
        "            cx = int((x1 + x2) / 2)\n",
        "            cy = int((y1 + y2) / 2)\n",
        "\n",
        "            cv2.circle(heatmap_canvas, (cx, cy), radius=20, color=3, thickness=-1)\n",
        "\n",
        "            cv2.rectangle(frame, (x1, y1), (x2, y2), (255, 255, 255), 2)\n",
        "\n",
        "    #Create real-time heatmap overlay\n",
        "    temp_map = np.clip(heatmap_canvas * 15, 0, 255).astype(np.uint8)\n",
        "    blurred = cv2.GaussianBlur(temp_map, (31, 31), 0)\n",
        "    colored_map = cv2.applyColorMap(blurred, cv2.COLORMAP_JET)\n",
        "\n",
        "    overlay = cv2.addWeighted(frame, 0.6, colored_map, 0.4, 0)\n",
        "\n",
        "    out.write(overlay)\n",
        "\n",
        "    ret, frame = cap.read()\n",
        "\n",
        "cap.release()\n",
        "out.release()"
      ],
      "metadata": {
        "id": "HJX0GeTU-DLh"
      },
      "execution_count": null,
      "outputs": []
    },
    {
      "cell_type": "code",
      "source": [
        "# Normalize and amplify final heatmap\n",
        "amplified_heatmap = np.clip(heatmap_canvas * 15, 0, 255)\n",
        "normalized_heatmap = cv2.normalize(amplified_heatmap, None, 0, 255, cv2.NORM_MINMAX)\n",
        "blurred_heatmap = cv2.GaussianBlur(normalized_heatmap.astype(np.uint8), (31, 31), 0)\n",
        "colored_heatmap = cv2.applyColorMap(blurred_heatmap, cv2.COLORMAP_JET)"
      ],
      "metadata": {
        "id": "AI_7TD3R-Nyy"
      },
      "execution_count": null,
      "outputs": []
    },
    {
      "cell_type": "code",
      "source": [
        "# Save final heatmap image\n",
        "cv2.imwrite(output_image_path, colored_heatmap)\n",
        "print(f\"Final heatmap image saved: {output_image_path}\")\n",
        "print(f\"Heatmap video saved: {output_heatmap_video}\")"
      ],
      "metadata": {
        "colab": {
          "base_uri": "https://localhost:8080/"
        },
        "id": "aCSl0hahbFLX",
        "outputId": "27ef62b9-8487-4ee2-84a4-5e0dc6dffce5"
      },
      "execution_count": null,
      "outputs": [
        {
          "output_type": "stream",
          "name": "stdout",
          "text": [
            "✅ Final heatmap image saved: final_heatmap.jpg\n",
            "✅ Heatmap video saved: heatmap_output.mp4\n"
          ]
        }
      ]
    }
  ]
}