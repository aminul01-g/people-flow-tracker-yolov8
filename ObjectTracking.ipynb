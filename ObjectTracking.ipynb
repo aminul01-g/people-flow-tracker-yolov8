{
  "nbformat": 4,
  "nbformat_minor": 0,
  "metadata": {
    "colab": {
      "provenance": [],
      "gpuType": "T4",
      "authorship_tag": "ABX9TyNausj4gMXVk+mB8t/X3xCX",
      "include_colab_link": true
    },
    "kernelspec": {
      "name": "python3",
      "display_name": "Python 3"
    },
    "language_info": {
      "name": "python"
    },
    "accelerator": "GPU"
  },
  "cells": [
    {
      "cell_type": "markdown",
      "metadata": {
        "id": "view-in-github",
        "colab_type": "text"
      },
      "source": [
        "<a href=\"https://colab.research.google.com/github/aminul01-g/people-flow-tracker-yolov8/blob/main/ObjectTracking.ipynb\" target=\"_parent\"><img src=\"https://colab.research.google.com/assets/colab-badge.svg\" alt=\"Open In Colab\"/></a>"
      ]
    },
    {
      "cell_type": "code",
      "execution_count": 1,
      "metadata": {
        "id": "yDIFO6xGOQJ7",
        "colab": {
          "base_uri": "https://localhost:8080/"
        },
        "outputId": "cd3c2f1e-ef87-4085-e939-78e96f49ff88"
      },
      "outputs": [
        {
          "output_type": "stream",
          "name": "stdout",
          "text": [
            "\u001b[2K   \u001b[90m━━━━━━━━━━━━━━━━━━━━━━━━━━━━━━━━━━━━━━━━\u001b[0m \u001b[32m1.0/1.0 MB\u001b[0m \u001b[31m18.2 MB/s\u001b[0m eta \u001b[36m0:00:00\u001b[0m\n",
            "\u001b[2K   \u001b[90m━━━━━━━━━━━━━━━━━━━━━━━━━━━━━━━━━━━━━━━━\u001b[0m \u001b[32m363.4/363.4 MB\u001b[0m \u001b[31m4.0 MB/s\u001b[0m eta \u001b[36m0:00:00\u001b[0m\n",
            "\u001b[2K   \u001b[90m━━━━━━━━━━━━━━━━━━━━━━━━━━━━━━━━━━━━━━━━\u001b[0m \u001b[32m13.8/13.8 MB\u001b[0m \u001b[31m54.8 MB/s\u001b[0m eta \u001b[36m0:00:00\u001b[0m\n",
            "\u001b[2K   \u001b[90m━━━━━━━━━━━━━━━━━━━━━━━━━━━━━━━━━━━━━━━━\u001b[0m \u001b[32m24.6/24.6 MB\u001b[0m \u001b[31m30.6 MB/s\u001b[0m eta \u001b[36m0:00:00\u001b[0m\n",
            "\u001b[2K   \u001b[90m━━━━━━━━━━━━━━━━━━━━━━━━━━━━━━━━━━━━━━━━\u001b[0m \u001b[32m883.7/883.7 kB\u001b[0m \u001b[31m39.2 MB/s\u001b[0m eta \u001b[36m0:00:00\u001b[0m\n",
            "\u001b[2K   \u001b[90m━━━━━━━━━━━━━━━━━━━━━━━━━━━━━━━━━━━━━━━━\u001b[0m \u001b[32m664.8/664.8 MB\u001b[0m \u001b[31m2.0 MB/s\u001b[0m eta \u001b[36m0:00:00\u001b[0m\n",
            "\u001b[2K   \u001b[90m━━━━━━━━━━━━━━━━━━━━━━━━━━━━━━━━━━━━━━━━\u001b[0m \u001b[32m211.5/211.5 MB\u001b[0m \u001b[31m5.6 MB/s\u001b[0m eta \u001b[36m0:00:00\u001b[0m\n",
            "\u001b[2K   \u001b[90m━━━━━━━━━━━━━━━━━━━━━━━━━━━━━━━━━━━━━━━━\u001b[0m \u001b[32m56.3/56.3 MB\u001b[0m \u001b[31m14.9 MB/s\u001b[0m eta \u001b[36m0:00:00\u001b[0m\n",
            "\u001b[2K   \u001b[90m━━━━━━━━━━━━━━━━━━━━━━━━━━━━━━━━━━━━━━━━\u001b[0m \u001b[32m127.9/127.9 MB\u001b[0m \u001b[31m7.6 MB/s\u001b[0m eta \u001b[36m0:00:00\u001b[0m\n",
            "\u001b[2K   \u001b[90m━━━━━━━━━━━━━━━━━━━━━━━━━━━━━━━━━━━━━━━━\u001b[0m \u001b[32m207.5/207.5 MB\u001b[0m \u001b[31m6.2 MB/s\u001b[0m eta \u001b[36m0:00:00\u001b[0m\n",
            "\u001b[2K   \u001b[90m━━━━━━━━━━━━━━━━━━━━━━━━━━━━━━━━━━━━━━━━\u001b[0m \u001b[32m21.1/21.1 MB\u001b[0m \u001b[31m61.3 MB/s\u001b[0m eta \u001b[36m0:00:00\u001b[0m\n",
            "\u001b[?25h"
          ]
        }
      ],
      "source": [
        "!pip install -q ultralytics opencv-python tqdm"
      ]
    },
    {
      "cell_type": "code",
      "source": [
        "#Import libraries\n",
        "from ultralytics import YOLO\n",
        "import cv2\n",
        "import numpy as np\n",
        "import os\n",
        "from tqdm import tqdm"
      ],
      "metadata": {
        "id": "V8rKgfc3OUP1",
        "colab": {
          "base_uri": "https://localhost:8080/"
        },
        "outputId": "689693c5-dfd4-4d96-9eb5-54ad15f7ef85"
      },
      "execution_count": 2,
      "outputs": [
        {
          "output_type": "stream",
          "name": "stdout",
          "text": [
            "Creating new Ultralytics Settings v0.0.6 file ✅ \n",
            "View Ultralytics Settings with 'yolo settings' or at '/root/.config/Ultralytics/settings.json'\n",
            "Update Settings with 'yolo settings key=value', i.e. 'yolo settings runs_dir=path/to/dir'. For help see https://docs.ultralytics.com/quickstart/#ultralytics-settings.\n"
          ]
        }
      ]
    },
    {
      "cell_type": "code",
      "source": [
        "# Load model\n",
        "model = YOLO('yolov8x.pt')\n",
        "print(\"model loaded\")"
      ],
      "metadata": {
        "colab": {
          "base_uri": "https://localhost:8080/"
        },
        "id": "pwQ0fy5dOWo0",
        "outputId": "f6d4c35a-8832-4d7d-eeb9-8a3c463020ed"
      },
      "execution_count": 3,
      "outputs": [
        {
          "output_type": "stream",
          "name": "stderr",
          "text": [
            "Downloading https://github.com/ultralytics/assets/releases/download/v8.3.0/yolov8x.pt to 'yolov8x.pt': 100%|██████████| 131M/131M [00:03<00:00, 36.0MB/s]\n"
          ]
        },
        {
          "output_type": "stream",
          "name": "stdout",
          "text": [
            "model loaded\n"
          ]
        }
      ]
    },
    {
      "cell_type": "code",
      "source": [
        "# Download video\n",
        "!wget -O people-walking.mp4 https://media.roboflow.com/supervision/video-examples/people-walking.mp4\n",
        "video_path = 'people-walking.mp4'"
      ],
      "metadata": {
        "colab": {
          "base_uri": "https://localhost:8080/"
        },
        "id": "g096CQPxOYOD",
        "outputId": "b1f82941-5a26-4e0a-8ccb-eb5bcab2c821"
      },
      "execution_count": 4,
      "outputs": [
        {
          "output_type": "stream",
          "name": "stdout",
          "text": [
            "--2025-08-06 01:46:41--  https://media.roboflow.com/supervision/video-examples/people-walking.mp4\n",
            "Resolving media.roboflow.com (media.roboflow.com)... 34.110.133.209\n",
            "Connecting to media.roboflow.com (media.roboflow.com)|34.110.133.209|:443... connected.\n",
            "HTTP request sent, awaiting response... 200 OK\n",
            "Length: 7606633 (7.3M) [video/mp4]\n",
            "Saving to: ‘people-walking.mp4’\n",
            "\n",
            "people-walking.mp4  100%[===================>]   7.25M  --.-KB/s    in 0.05s   \n",
            "\n",
            "2025-08-06 01:46:41 (135 MB/s) - ‘people-walking.mp4’ saved [7606633/7606633]\n",
            "\n"
          ]
        }
      ]
    },
    {
      "cell_type": "code",
      "source": [
        "# Initialize capture\n",
        "cap = cv2.VideoCapture(video_path)\n",
        "width = int(cap.get(cv2.CAP_PROP_FRAME_WIDTH))\n",
        "height = int(cap.get(cv2.CAP_PROP_FRAME_HEIGHT))\n",
        "video_fps = cap.get(cv2.CAP_PROP_FPS)\n",
        "frame_count = int(cap.get(cv2.CAP_PROP_FRAME_COUNT))"
      ],
      "metadata": {
        "id": "YWZV11vvObBL"
      },
      "execution_count": 5,
      "outputs": []
    },
    {
      "cell_type": "code",
      "source": [
        "# Output video setup (use AVI/XVID for VLC compatibility)\n",
        "output_path = 'annotated_video_tracked.avi'\n",
        "fourcc = cv2.VideoWriter_fourcc(*'XVID')\n",
        "out = cv2.VideoWriter(output_path, fourcc, video_fps, (width, height))"
      ],
      "metadata": {
        "id": "aJrmTvwPObyk"
      },
      "execution_count": 6,
      "outputs": []
    },
    {
      "cell_type": "code",
      "source": [
        "# Define lines\n",
        "top_line = np.array([[15, 367], [1919, 367]])\n",
        "bottom_line = np.array([[15, 623], [1910, 605]])\n",
        "top_y = int(np.mean(top_line[:, 1]))\n",
        "bottom_y = int(np.mean(bottom_line[:, 1]))\n"
      ],
      "metadata": {
        "id": "8J1TTRYrOesM"
      },
      "execution_count": 7,
      "outputs": []
    },
    {
      "cell_type": "code",
      "source": [
        "id_positions = {}\n",
        "id_states = {}\n",
        "in_count = 0\n",
        "out_count = 0"
      ],
      "metadata": {
        "id": "CS3OVoNWOg28"
      },
      "execution_count": 8,
      "outputs": []
    },
    {
      "cell_type": "code",
      "source": [
        "# Heatmap canvas\n",
        "heatmap_canvas = np.zeros((height, width), dtype=np.float32)\n",
        "fade_alpha = 0.95"
      ],
      "metadata": {
        "id": "IzE57QIAOibU"
      },
      "execution_count": 9,
      "outputs": []
    },
    {
      "cell_type": "code",
      "source": [
        "# Frame loop\n",
        "for i in tqdm(range(frame_count), desc=\"Processing video\"):\n",
        "    ret, frame = cap.read()\n",
        "    if not ret:\n",
        "        break\n",
        "\n",
        "    # Perform tracking\n",
        "    results = model.track(frame, classes=[0], persist=True, verbose=False)\n",
        "    boxes = results[0].boxes.xyxy.tolist()\n",
        "    track_ids = results[0].boxes.id.int().tolist() if results[0].boxes.id is not None else []\n",
        "\n",
        "    current_ids = set()\n",
        "    cv2.line(frame, tuple(top_line[0]), tuple(top_line[1]), (255, 0, 0), 2)\n",
        "    cv2.line(frame, tuple(bottom_line[0]), tuple(bottom_line[1]), (0, 0, 255), 2)\n",
        "\n",
        "    print(f\"[Frame {i}] Detections: {len(boxes)}, IDs: {track_ids}\")\n",
        "\n",
        "    for box, track_id in zip(boxes, track_ids):\n",
        "        x1, y1, x2, y2 = map(int, box)\n",
        "        cx, cy = (x1 + x2) // 2, (y1 + y2) // 2\n",
        "        current_ids.add(track_id)\n",
        "\n",
        "        if track_id in id_positions:\n",
        "            prev_y = id_positions[track_id]\n",
        "            if prev_y < top_y and cy >= top_y and id_states.get(track_id) != \"in\":\n",
        "                in_count += 1\n",
        "                id_states[track_id] = \"in\"\n",
        "            elif prev_y > bottom_y and cy <= bottom_y and id_states.get(track_id) != \"out\":\n",
        "                out_count += 1\n",
        "                id_states[track_id] = \"out\"\n",
        "\n",
        "        id_positions[track_id] = cy\n",
        "\n",
        "        color = (255, 255, 255)\n",
        "        if id_states.get(track_id) == \"in\":\n",
        "            color = (0, 255, 0)\n",
        "        elif id_states.get(track_id) == \"out\":\n",
        "            color = (0, 0, 255)\n",
        "\n",
        "        cv2.rectangle(frame, (x1, y1), (x2, y2), color, 2)\n",
        "        cv2.putText(frame, f\"ID: {track_id}\", (x1, y1 - 10), cv2.FONT_HERSHEY_SIMPLEX, 0.5, color, 2)\n",
        "        cv2.circle(frame, (cx, cy), 5, color, -1)\n",
        "\n",
        "        # Heatmap accumulation\n",
        "        cv2.circle(heatmap_canvas, (cx, cy), 8, 1, -1)\n",
        "\n",
        "    # Remove lost IDs\n",
        "    lost_ids = set(id_positions.keys()) - current_ids\n",
        "    for lost_id in lost_ids:\n",
        "        id_positions.pop(lost_id, None)\n",
        "        id_states.pop(lost_id, None)\n",
        "\n",
        "    # Heatmap overlay\n",
        "    heatmap_canvas *= fade_alpha\n",
        "    temp_heatmap = np.clip(heatmap_canvas, 0, 255)\n",
        "    temp_heatmap = cv2.GaussianBlur(temp_heatmap, (31, 31), 0)\n",
        "    heatmap_color = cv2.applyColorMap(temp_heatmap.astype(np.uint8), cv2.COLORMAP_JET)\n",
        "    overlay = cv2.addWeighted(frame, 0.7, heatmap_color, 0.5, 0)\n",
        "\n",
        "    # Add counters\n",
        "    cv2.putText(overlay, f\"IN: {in_count}\", (20, 40), cv2.FONT_HERSHEY_SIMPLEX, 1, (0, 255, 0), 2)\n",
        "    cv2.putText(overlay, f\"OUT: {out_count}\", (20, 90), cv2.FONT_HERSHEY_SIMPLEX, 1, (0, 0, 255), 2)\n",
        "    cv2.putText(overlay, f\"Total: {len(current_ids)}\", (20, 140), cv2.FONT_HERSHEY_SIMPLEX, 1, (255, 255, 0), 2)\n",
        "\n",
        "    out.write(overlay)\n",
        "\n",
        "cap.release()\n",
        "out.release()"
      ],
      "metadata": {
        "colab": {
          "base_uri": "https://localhost:8080/"
        },
        "id": "rq_j5921OkaN",
        "outputId": "0d29b12e-583c-49ed-e220-1f465a29bb10"
      },
      "execution_count": 10,
      "outputs": [
        {
          "output_type": "stream",
          "name": "stderr",
          "text": [
            "\rProcessing video:   0%|          | 0/341 [00:00<?, ?it/s]"
          ]
        },
        {
          "output_type": "stream",
          "name": "stdout",
          "text": [
            "\u001b[31m\u001b[1mrequirements:\u001b[0m Ultralytics requirement ['lap>=0.5.12'] not found, attempting AutoUpdate...\n",
            "\n",
            "\u001b[31m\u001b[1mrequirements:\u001b[0m AutoUpdate success ✅ 0.9s\n",
            "WARNING ⚠️ \u001b[31m\u001b[1mrequirements:\u001b[0m \u001b[1mRestart runtime or rerun command for updates to take effect\u001b[0m\n",
            "\n"
          ]
        },
        {
          "output_type": "stream",
          "name": "stderr",
          "text": [
            "\rProcessing video:   0%|          | 1/341 [00:09<55:38,  9.82s/it]"
          ]
        },
        {
          "output_type": "stream",
          "name": "stdout",
          "text": [
            "[Frame 0] Detections: 35, IDs: [1, 2, 3, 4, 5, 6, 7, 8, 9, 10, 11, 12, 13, 14, 15, 16, 17, 18, 19, 20, 21, 22, 23, 24, 25, 26, 27, 28, 29, 30, 31, 32, 33, 34, 35]\n"
          ]
        },
        {
          "output_type": "stream",
          "name": "stderr",
          "text": [
            "\rProcessing video:   1%|          | 2/341 [00:10<23:33,  4.17s/it]"
          ]
        },
        {
          "output_type": "stream",
          "name": "stdout",
          "text": [
            "[Frame 1] Detections: 35, IDs: [1, 2, 3, 4, 5, 6, 7, 8, 9, 10, 11, 12, 13, 14, 15, 16, 17, 18, 19, 20, 21, 22, 23, 24, 25, 26, 27, 28, 29, 30, 31, 32, 33, 34, 35]\n",
            "[Frame 2] Detections: 35, IDs: [1, 2, 3, 4, 5, 6, 7, 8, 9, 10, 11, 12, 13, 14, 15, 16, 17, 18, 19, 20, 21, 22, 23, 24, 25, 26, 27, 28, 29, 30, 31, 32, 33, 34, 35]\n"
          ]
        },
        {
          "output_type": "stream",
          "name": "stderr",
          "text": [
            "Processing video:   1%|▏         | 5/341 [00:10<05:34,  1.01it/s]"
          ]
        },
        {
          "output_type": "stream",
          "name": "stdout",
          "text": [
            "[Frame 3] Detections: 34, IDs: [1, 2, 3, 4, 5, 6, 7, 8, 9, 10, 11, 12, 13, 14, 15, 16, 17, 18, 19, 20, 21, 22, 23, 24, 25, 26, 27, 28, 29, 31, 32, 33, 34, 35]\n",
            "[Frame 4] Detections: 34, IDs: [1, 2, 3, 4, 5, 6, 7, 8, 9, 10, 11, 12, 13, 14, 15, 16, 17, 18, 19, 20, 21, 22, 23, 24, 25, 26, 27, 28, 29, 31, 32, 33, 34, 35]\n"
          ]
        },
        {
          "output_type": "stream",
          "name": "stderr",
          "text": [
            "Processing video:   2%|▏         | 7/341 [00:10<02:53,  1.92it/s]"
          ]
        },
        {
          "output_type": "stream",
          "name": "stdout",
          "text": [
            "[Frame 5] Detections: 34, IDs: [1, 2, 3, 4, 5, 6, 7, 8, 9, 10, 11, 12, 13, 14, 15, 16, 17, 18, 19, 20, 21, 22, 23, 24, 25, 26, 27, 28, 29, 31, 32, 33, 34, 35]\n",
            "[Frame 6] Detections: 34, IDs: [1, 2, 3, 4, 5, 6, 7, 8, 9, 10, 11, 12, 13, 14, 15, 16, 17, 18, 19, 20, 21, 22, 23, 24, 25, 26, 27, 28, 29, 31, 32, 33, 34, 35]\n"
          ]
        },
        {
          "output_type": "stream",
          "name": "stderr",
          "text": [
            "Processing video:   3%|▎         | 9/341 [00:11<01:46,  3.11it/s]"
          ]
        },
        {
          "output_type": "stream",
          "name": "stdout",
          "text": [
            "[Frame 7] Detections: 34, IDs: [1, 2, 3, 4, 5, 6, 7, 8, 9, 10, 11, 12, 13, 14, 15, 16, 17, 18, 19, 20, 21, 22, 23, 24, 25, 26, 27, 28, 29, 31, 32, 33, 34, 35]\n",
            "[Frame 8] Detections: 34, IDs: [1, 2, 3, 4, 5, 6, 7, 8, 9, 10, 11, 12, 13, 14, 15, 16, 17, 18, 19, 20, 21, 22, 23, 24, 25, 26, 27, 28, 29, 31, 32, 33, 34, 35]\n"
          ]
        },
        {
          "output_type": "stream",
          "name": "stderr",
          "text": [
            "Processing video:   3%|▎         | 11/341 [00:11<01:14,  4.44it/s]"
          ]
        },
        {
          "output_type": "stream",
          "name": "stdout",
          "text": [
            "[Frame 9] Detections: 34, IDs: [1, 2, 3, 4, 5, 6, 7, 8, 9, 10, 11, 12, 13, 14, 15, 16, 17, 18, 19, 20, 21, 22, 23, 24, 25, 26, 27, 28, 29, 31, 32, 33, 34, 35]\n",
            "[Frame 10] Detections: 34, IDs: [1, 2, 3, 4, 5, 6, 7, 8, 9, 10, 11, 12, 13, 14, 15, 16, 17, 18, 19, 20, 21, 22, 23, 24, 25, 26, 27, 28, 29, 31, 32, 33, 34, 35]\n"
          ]
        },
        {
          "output_type": "stream",
          "name": "stderr",
          "text": [
            "Processing video:   4%|▍         | 13/341 [00:11<00:58,  5.58it/s]"
          ]
        },
        {
          "output_type": "stream",
          "name": "stdout",
          "text": [
            "[Frame 11] Detections: 34, IDs: [1, 2, 3, 4, 5, 6, 7, 8, 9, 10, 11, 12, 13, 14, 15, 16, 17, 18, 19, 20, 21, 22, 23, 24, 25, 26, 27, 28, 29, 31, 32, 33, 34, 35]\n",
            "[Frame 12] Detections: 33, IDs: [1, 2, 3, 4, 5, 6, 7, 8, 9, 10, 11, 12, 13, 14, 15, 16, 17, 18, 19, 20, 21, 22, 23, 24, 25, 26, 27, 28, 31, 32, 33, 34, 35]\n"
          ]
        },
        {
          "output_type": "stream",
          "name": "stderr",
          "text": [
            "Processing video:   4%|▍         | 15/341 [00:11<00:51,  6.36it/s]"
          ]
        },
        {
          "output_type": "stream",
          "name": "stdout",
          "text": [
            "[Frame 13] Detections: 34, IDs: [1, 2, 3, 4, 5, 6, 7, 8, 9, 10, 11, 12, 13, 14, 15, 16, 17, 18, 19, 20, 21, 22, 23, 24, 25, 26, 27, 28, 31, 32, 33, 34, 35, 48]\n",
            "[Frame 14] Detections: 34, IDs: [1, 2, 3, 4, 5, 6, 7, 8, 9, 10, 11, 12, 13, 14, 15, 16, 17, 18, 19, 20, 21, 22, 23, 24, 25, 26, 27, 28, 31, 32, 33, 34, 35, 48]\n"
          ]
        },
        {
          "output_type": "stream",
          "name": "stderr",
          "text": [
            "Processing video:   5%|▍         | 17/341 [00:12<00:48,  6.72it/s]"
          ]
        },
        {
          "output_type": "stream",
          "name": "stdout",
          "text": [
            "[Frame 15] Detections: 34, IDs: [1, 2, 3, 4, 5, 6, 7, 8, 9, 10, 11, 12, 13, 14, 15, 16, 17, 18, 19, 20, 21, 22, 23, 24, 25, 26, 27, 28, 31, 32, 33, 34, 35, 48]\n",
            "[Frame 16] Detections: 34, IDs: [1, 2, 3, 4, 5, 6, 7, 8, 9, 10, 11, 12, 13, 14, 15, 16, 17, 18, 19, 20, 21, 22, 23, 24, 25, 26, 27, 28, 31, 32, 33, 34, 35, 48]\n"
          ]
        },
        {
          "output_type": "stream",
          "name": "stderr",
          "text": [
            "Processing video:   6%|▌         | 19/341 [00:12<00:45,  7.07it/s]"
          ]
        },
        {
          "output_type": "stream",
          "name": "stdout",
          "text": [
            "[Frame 17] Detections: 34, IDs: [1, 2, 3, 4, 5, 6, 7, 8, 9, 10, 11, 12, 13, 14, 15, 16, 17, 18, 19, 20, 21, 22, 23, 24, 25, 26, 27, 28, 31, 32, 33, 34, 35, 48]\n",
            "[Frame 18] Detections: 35, IDs: [1, 2, 3, 4, 5, 6, 7, 8, 9, 10, 11, 12, 13, 14, 15, 16, 17, 18, 19, 20, 21, 22, 23, 24, 25, 26, 27, 28, 31, 32, 33, 34, 35, 48, 29]\n"
          ]
        },
        {
          "output_type": "stream",
          "name": "stderr",
          "text": [
            "Processing video:   6%|▌         | 21/341 [00:12<00:44,  7.24it/s]"
          ]
        },
        {
          "output_type": "stream",
          "name": "stdout",
          "text": [
            "[Frame 19] Detections: 36, IDs: [1, 2, 3, 4, 5, 6, 7, 8, 9, 10, 11, 12, 13, 14, 15, 16, 17, 18, 19, 20, 21, 22, 23, 24, 25, 26, 27, 28, 31, 32, 33, 34, 35, 48, 54, 29]\n",
            "[Frame 20] Detections: 36, IDs: [1, 2, 3, 4, 5, 6, 7, 8, 9, 10, 11, 12, 13, 14, 15, 16, 17, 18, 19, 20, 21, 22, 23, 24, 25, 26, 27, 28, 31, 32, 33, 34, 35, 48, 54, 29]\n"
          ]
        },
        {
          "output_type": "stream",
          "name": "stderr",
          "text": [
            "Processing video:   7%|▋         | 23/341 [00:12<00:43,  7.35it/s]"
          ]
        },
        {
          "output_type": "stream",
          "name": "stdout",
          "text": [
            "[Frame 21] Detections: 36, IDs: [1, 2, 3, 4, 5, 6, 7, 8, 9, 10, 11, 12, 13, 14, 15, 16, 17, 18, 19, 20, 21, 22, 23, 24, 25, 26, 27, 28, 31, 32, 33, 34, 35, 48, 54, 29]\n",
            "[Frame 22] Detections: 36, IDs: [1, 2, 3, 4, 5, 6, 7, 8, 9, 10, 11, 12, 13, 14, 15, 16, 17, 18, 19, 20, 21, 22, 23, 24, 25, 26, 27, 28, 31, 32, 33, 34, 35, 48, 54, 29]\n"
          ]
        },
        {
          "output_type": "stream",
          "name": "stderr",
          "text": [
            "Processing video:   7%|▋         | 25/341 [00:13<00:42,  7.48it/s]"
          ]
        },
        {
          "output_type": "stream",
          "name": "stdout",
          "text": [
            "[Frame 23] Detections: 36, IDs: [1, 2, 3, 4, 5, 6, 7, 8, 9, 10, 11, 12, 13, 14, 15, 16, 17, 18, 19, 20, 21, 22, 23, 24, 25, 26, 27, 28, 31, 32, 33, 34, 35, 48, 54, 29]\n",
            "[Frame 24] Detections: 36, IDs: [1, 2, 3, 4, 5, 6, 7, 8, 9, 10, 11, 12, 13, 14, 15, 16, 17, 18, 19, 20, 21, 22, 23, 24, 25, 26, 27, 28, 31, 32, 33, 34, 35, 48, 54, 29]\n"
          ]
        },
        {
          "output_type": "stream",
          "name": "stderr",
          "text": [
            "Processing video:   8%|▊         | 27/341 [00:13<00:42,  7.43it/s]"
          ]
        },
        {
          "output_type": "stream",
          "name": "stdout",
          "text": [
            "[Frame 25] Detections: 36, IDs: [1, 2, 3, 4, 5, 6, 7, 8, 9, 10, 11, 12, 13, 14, 15, 16, 17, 18, 19, 20, 21, 22, 23, 24, 25, 26, 27, 28, 31, 32, 33, 34, 35, 48, 54, 29]\n",
            "[Frame 26] Detections: 36, IDs: [1, 2, 3, 4, 5, 6, 7, 8, 9, 10, 11, 12, 13, 14, 15, 16, 17, 18, 19, 20, 21, 22, 23, 24, 25, 26, 27, 28, 31, 32, 33, 34, 35, 48, 54, 29]\n"
          ]
        },
        {
          "output_type": "stream",
          "name": "stderr",
          "text": [
            "Processing video:   9%|▊         | 29/341 [00:13<00:42,  7.40it/s]"
          ]
        },
        {
          "output_type": "stream",
          "name": "stdout",
          "text": [
            "[Frame 27] Detections: 36, IDs: [1, 2, 3, 4, 5, 6, 7, 8, 9, 10, 11, 12, 13, 14, 15, 16, 17, 18, 19, 20, 21, 22, 23, 24, 25, 26, 27, 28, 31, 32, 33, 34, 35, 48, 54, 29]\n",
            "[Frame 28] Detections: 36, IDs: [1, 2, 3, 4, 5, 6, 7, 8, 9, 10, 11, 12, 13, 14, 15, 16, 17, 18, 19, 20, 21, 22, 23, 24, 25, 26, 27, 28, 31, 32, 33, 34, 35, 48, 54, 29]\n"
          ]
        },
        {
          "output_type": "stream",
          "name": "stderr",
          "text": [
            "Processing video:   9%|▉         | 31/341 [00:14<00:41,  7.45it/s]"
          ]
        },
        {
          "output_type": "stream",
          "name": "stdout",
          "text": [
            "[Frame 29] Detections: 36, IDs: [1, 2, 3, 4, 5, 6, 7, 8, 9, 10, 11, 12, 13, 14, 15, 16, 17, 18, 19, 20, 21, 22, 23, 24, 25, 26, 27, 28, 31, 32, 33, 34, 35, 48, 54, 29]\n",
            "[Frame 30] Detections: 36, IDs: [1, 2, 3, 4, 5, 6, 7, 8, 9, 10, 11, 12, 13, 14, 15, 16, 17, 18, 19, 20, 21, 22, 23, 24, 25, 26, 27, 28, 31, 32, 33, 34, 35, 48, 54, 29]\n"
          ]
        },
        {
          "output_type": "stream",
          "name": "stderr",
          "text": [
            "Processing video:  10%|▉         | 33/341 [00:14<00:42,  7.29it/s]"
          ]
        },
        {
          "output_type": "stream",
          "name": "stdout",
          "text": [
            "[Frame 31] Detections: 36, IDs: [1, 2, 3, 4, 5, 6, 7, 8, 9, 10, 11, 12, 13, 14, 15, 16, 17, 18, 19, 20, 21, 22, 23, 24, 25, 26, 27, 28, 31, 32, 33, 34, 35, 48, 54, 29]\n",
            "[Frame 32] Detections: 37, IDs: [1, 2, 3, 4, 5, 6, 7, 8, 9, 10, 11, 12, 13, 14, 15, 16, 17, 18, 19, 20, 21, 22, 23, 24, 25, 26, 27, 28, 31, 32, 33, 34, 35, 48, 54, 29, 71]\n"
          ]
        },
        {
          "output_type": "stream",
          "name": "stderr",
          "text": [
            "Processing video:  10%|█         | 35/341 [00:14<00:42,  7.17it/s]"
          ]
        },
        {
          "output_type": "stream",
          "name": "stdout",
          "text": [
            "[Frame 33] Detections: 37, IDs: [1, 2, 3, 4, 5, 6, 7, 8, 9, 10, 11, 12, 13, 14, 15, 16, 17, 18, 19, 20, 21, 22, 23, 24, 25, 26, 27, 28, 31, 32, 33, 34, 35, 48, 54, 29, 71]\n",
            "[Frame 34] Detections: 37, IDs: [1, 2, 3, 4, 5, 6, 7, 8, 9, 10, 11, 12, 13, 14, 15, 16, 17, 18, 19, 20, 21, 22, 23, 24, 25, 26, 27, 28, 31, 32, 33, 34, 35, 48, 54, 29, 71]\n"
          ]
        },
        {
          "output_type": "stream",
          "name": "stderr",
          "text": [
            "Processing video:  11%|█         | 37/341 [00:14<00:41,  7.34it/s]"
          ]
        },
        {
          "output_type": "stream",
          "name": "stdout",
          "text": [
            "[Frame 35] Detections: 37, IDs: [1, 2, 3, 4, 5, 6, 7, 8, 9, 10, 11, 12, 13, 14, 15, 16, 17, 18, 19, 20, 21, 22, 23, 24, 25, 26, 27, 28, 31, 32, 33, 34, 35, 48, 54, 29, 71]\n",
            "[Frame 36] Detections: 37, IDs: [1, 2, 3, 4, 5, 6, 7, 8, 9, 10, 11, 12, 13, 14, 15, 16, 17, 18, 19, 20, 21, 22, 23, 24, 25, 26, 27, 28, 31, 32, 33, 34, 35, 48, 54, 29, 71]\n"
          ]
        },
        {
          "output_type": "stream",
          "name": "stderr",
          "text": [
            "Processing video:  11%|█▏        | 39/341 [00:15<00:40,  7.39it/s]"
          ]
        },
        {
          "output_type": "stream",
          "name": "stdout",
          "text": [
            "[Frame 37] Detections: 37, IDs: [1, 2, 3, 4, 5, 6, 7, 8, 9, 10, 11, 12, 13, 14, 15, 16, 17, 18, 19, 20, 21, 22, 23, 24, 25, 26, 27, 28, 31, 32, 33, 34, 35, 48, 54, 29, 71]\n",
            "[Frame 38] Detections: 37, IDs: [1, 2, 3, 4, 5, 6, 7, 8, 9, 10, 11, 12, 13, 14, 15, 16, 17, 18, 19, 20, 21, 22, 23, 24, 25, 26, 27, 31, 32, 33, 34, 35, 48, 54, 29, 71, 73]\n"
          ]
        },
        {
          "output_type": "stream",
          "name": "stderr",
          "text": [
            "Processing video:  12%|█▏        | 41/341 [00:15<00:40,  7.41it/s]"
          ]
        },
        {
          "output_type": "stream",
          "name": "stdout",
          "text": [
            "[Frame 39] Detections: 36, IDs: [1, 2, 3, 4, 5, 6, 7, 8, 9, 10, 11, 12, 13, 14, 15, 16, 17, 18, 19, 20, 21, 22, 23, 24, 25, 26, 27, 31, 32, 33, 34, 35, 54, 29, 71, 73]\n",
            "[Frame 40] Detections: 37, IDs: [1, 2, 3, 4, 5, 6, 7, 8, 9, 10, 11, 12, 13, 14, 15, 16, 17, 18, 19, 20, 21, 22, 23, 24, 25, 26, 27, 31, 32, 33, 34, 35, 54, 29, 71, 73, 74]\n"
          ]
        },
        {
          "output_type": "stream",
          "name": "stderr",
          "text": [
            "Processing video:  13%|█▎        | 43/341 [00:15<00:39,  7.54it/s]"
          ]
        },
        {
          "output_type": "stream",
          "name": "stdout",
          "text": [
            "[Frame 41] Detections: 37, IDs: [1, 2, 3, 4, 5, 6, 7, 8, 9, 10, 11, 12, 13, 14, 15, 16, 17, 18, 19, 20, 21, 22, 23, 24, 25, 26, 27, 31, 32, 33, 34, 35, 29, 71, 73, 74, 75]\n",
            "[Frame 42] Detections: 37, IDs: [1, 2, 3, 4, 5, 6, 7, 8, 9, 10, 11, 12, 13, 14, 15, 16, 17, 18, 19, 20, 21, 22, 23, 24, 25, 26, 27, 31, 32, 33, 34, 35, 29, 71, 73, 74, 75]\n"
          ]
        },
        {
          "output_type": "stream",
          "name": "stderr",
          "text": [
            "Processing video:  13%|█▎        | 45/341 [00:15<00:38,  7.63it/s]"
          ]
        },
        {
          "output_type": "stream",
          "name": "stdout",
          "text": [
            "[Frame 43] Detections: 37, IDs: [1, 2, 3, 4, 5, 6, 7, 8, 9, 10, 11, 12, 13, 14, 15, 16, 17, 18, 19, 20, 21, 22, 23, 24, 25, 26, 27, 31, 32, 33, 34, 35, 29, 71, 73, 74, 75]\n",
            "[Frame 44] Detections: 36, IDs: [1, 2, 3, 4, 5, 6, 7, 8, 9, 10, 11, 12, 13, 14, 15, 16, 17, 18, 19, 20, 21, 22, 23, 24, 25, 26, 27, 32, 33, 34, 35, 29, 71, 73, 74, 75]\n"
          ]
        },
        {
          "output_type": "stream",
          "name": "stderr",
          "text": [
            "\rProcessing video:  13%|█▎        | 46/341 [00:16<00:43,  6.83it/s]"
          ]
        },
        {
          "output_type": "stream",
          "name": "stdout",
          "text": [
            "[Frame 45] Detections: 36, IDs: [1, 2, 3, 4, 5, 6, 7, 8, 9, 10, 11, 12, 13, 14, 15, 16, 17, 18, 19, 20, 21, 22, 23, 24, 25, 26, 27, 32, 33, 34, 35, 29, 71, 73, 74, 75]\n",
            "[Frame 46] Detections: 36, IDs: [1, 2, 3, 4, 5, 6, 7, 8, 9, 10, 11, 12, 13, 14, 15, 16, 17, 18, 19, 20, 21, 22, 23, 24, 25, 26, 27, 32, 33, 34, 35, 29, 71, 73, 74, 75]\n"
          ]
        },
        {
          "output_type": "stream",
          "name": "stderr",
          "text": [
            "Processing video:  14%|█▍        | 48/341 [00:16<00:47,  6.17it/s]"
          ]
        },
        {
          "output_type": "stream",
          "name": "stdout",
          "text": [
            "[Frame 47] Detections: 36, IDs: [1, 2, 3, 4, 5, 6, 7, 8, 9, 10, 11, 12, 13, 14, 15, 16, 17, 18, 19, 20, 21, 22, 23, 24, 25, 26, 27, 32, 33, 34, 35, 29, 71, 73, 74, 75]\n",
            "[Frame 48] Detections: 35, IDs: [1, 2, 3, 4, 5, 6, 7, 8, 9, 10, 11, 12, 13, 14, 15, 16, 17, 18, 19, 20, 21, 22, 23, 24, 25, 26, 27, 32, 33, 35, 29, 71, 73, 74, 75]\n"
          ]
        },
        {
          "output_type": "stream",
          "name": "stderr",
          "text": [
            "Processing video:  15%|█▍        | 50/341 [00:16<00:49,  5.91it/s]"
          ]
        },
        {
          "output_type": "stream",
          "name": "stdout",
          "text": [
            "[Frame 49] Detections: 35, IDs: [1, 2, 3, 4, 5, 6, 7, 8, 9, 10, 11, 12, 13, 14, 15, 16, 17, 18, 19, 20, 21, 22, 23, 24, 25, 26, 27, 32, 33, 35, 29, 71, 73, 74, 75]\n",
            "[Frame 50] Detections: 35, IDs: [1, 2, 3, 4, 5, 6, 7, 8, 9, 10, 11, 12, 13, 14, 15, 16, 17, 18, 19, 20, 21, 22, 23, 24, 25, 26, 27, 32, 33, 35, 29, 71, 73, 74, 75]\n"
          ]
        },
        {
          "output_type": "stream",
          "name": "stderr",
          "text": [
            "Processing video:  15%|█▌        | 52/341 [00:17<00:50,  5.76it/s]"
          ]
        },
        {
          "output_type": "stream",
          "name": "stdout",
          "text": [
            "[Frame 51] Detections: 35, IDs: [1, 2, 3, 4, 5, 6, 7, 8, 9, 10, 11, 12, 13, 14, 15, 16, 17, 18, 19, 20, 21, 22, 23, 24, 25, 26, 27, 32, 33, 35, 29, 71, 73, 74, 75]\n",
            "[Frame 52] Detections: 35, IDs: [1, 2, 3, 4, 5, 6, 7, 8, 9, 10, 11, 12, 13, 14, 15, 16, 17, 18, 19, 20, 21, 22, 23, 24, 25, 26, 27, 32, 33, 35, 29, 71, 73, 74, 75]\n"
          ]
        },
        {
          "output_type": "stream",
          "name": "stderr",
          "text": [
            "Processing video:  16%|█▌        | 54/341 [00:17<00:50,  5.69it/s]"
          ]
        },
        {
          "output_type": "stream",
          "name": "stdout",
          "text": [
            "[Frame 53] Detections: 35, IDs: [1, 2, 3, 4, 5, 6, 7, 8, 9, 10, 11, 12, 13, 14, 15, 16, 17, 18, 19, 20, 21, 22, 23, 24, 25, 26, 27, 32, 33, 35, 29, 71, 73, 74, 75]\n",
            "[Frame 54] Detections: 35, IDs: [1, 2, 3, 4, 5, 6, 7, 8, 9, 10, 11, 12, 13, 14, 15, 16, 17, 18, 19, 20, 21, 22, 23, 24, 25, 26, 27, 32, 33, 35, 29, 71, 73, 74, 75]\n"
          ]
        },
        {
          "output_type": "stream",
          "name": "stderr",
          "text": [
            "Processing video:  16%|█▋        | 56/341 [00:17<00:51,  5.49it/s]"
          ]
        },
        {
          "output_type": "stream",
          "name": "stdout",
          "text": [
            "[Frame 55] Detections: 36, IDs: [1, 2, 3, 4, 5, 6, 7, 8, 9, 10, 11, 12, 13, 14, 15, 16, 17, 18, 19, 20, 21, 22, 23, 24, 25, 26, 27, 32, 33, 35, 29, 71, 73, 74, 75, 54]\n",
            "[Frame 56] Detections: 36, IDs: [1, 2, 3, 4, 5, 6, 7, 8, 9, 10, 11, 12, 13, 14, 15, 16, 17, 18, 19, 20, 21, 22, 23, 24, 25, 26, 27, 32, 33, 35, 29, 71, 73, 74, 75, 54]\n"
          ]
        },
        {
          "output_type": "stream",
          "name": "stderr",
          "text": [
            "Processing video:  17%|█▋        | 58/341 [00:18<00:53,  5.33it/s]"
          ]
        },
        {
          "output_type": "stream",
          "name": "stdout",
          "text": [
            "[Frame 57] Detections: 36, IDs: [1, 2, 3, 4, 5, 6, 7, 8, 9, 10, 11, 12, 13, 14, 15, 16, 17, 18, 19, 20, 21, 22, 23, 24, 25, 26, 27, 32, 33, 35, 29, 71, 73, 74, 75, 54]\n",
            "[Frame 58] Detections: 37, IDs: [1, 2, 3, 4, 5, 6, 7, 8, 9, 10, 11, 12, 13, 14, 15, 16, 17, 18, 19, 20, 21, 22, 23, 24, 25, 26, 27, 32, 33, 35, 29, 71, 73, 74, 75, 54, 89]\n"
          ]
        },
        {
          "output_type": "stream",
          "name": "stderr",
          "text": [
            "Processing video:  18%|█▊        | 61/341 [00:18<00:46,  6.02it/s]"
          ]
        },
        {
          "output_type": "stream",
          "name": "stdout",
          "text": [
            "[Frame 59] Detections: 37, IDs: [1, 2, 3, 4, 5, 6, 7, 8, 9, 10, 11, 12, 13, 14, 15, 16, 17, 18, 19, 20, 21, 22, 23, 24, 25, 26, 27, 32, 33, 35, 29, 71, 73, 74, 75, 54, 89]\n",
            "[Frame 60] Detections: 36, IDs: [1, 2, 3, 4, 5, 6, 7, 8, 9, 10, 11, 12, 13, 14, 15, 16, 17, 18, 19, 20, 22, 23, 24, 25, 26, 27, 32, 33, 35, 29, 71, 73, 74, 75, 54, 89]\n"
          ]
        },
        {
          "output_type": "stream",
          "name": "stderr",
          "text": [
            "Processing video:  18%|█▊        | 63/341 [00:19<00:43,  6.38it/s]"
          ]
        },
        {
          "output_type": "stream",
          "name": "stdout",
          "text": [
            "[Frame 61] Detections: 36, IDs: [1, 2, 3, 4, 5, 6, 7, 8, 9, 10, 11, 12, 13, 14, 15, 16, 17, 18, 19, 20, 22, 23, 24, 25, 26, 27, 32, 33, 35, 29, 71, 73, 74, 75, 54, 89]\n",
            "[Frame 62] Detections: 37, IDs: [1, 2, 3, 4, 5, 6, 7, 8, 9, 10, 11, 12, 13, 14, 15, 16, 17, 18, 19, 20, 22, 23, 24, 25, 26, 27, 32, 33, 35, 29, 71, 73, 74, 75, 54, 89, 21]\n"
          ]
        },
        {
          "output_type": "stream",
          "name": "stderr",
          "text": [
            "Processing video:  19%|█▉        | 65/341 [00:19<00:40,  6.80it/s]"
          ]
        },
        {
          "output_type": "stream",
          "name": "stdout",
          "text": [
            "[Frame 63] Detections: 35, IDs: [1, 2, 3, 4, 5, 6, 7, 8, 9, 10, 11, 12, 13, 14, 15, 16, 17, 18, 20, 22, 23, 24, 25, 26, 27, 32, 33, 35, 29, 71, 73, 74, 75, 89, 21]\n",
            "[Frame 64] Detections: 36, IDs: [1, 2, 3, 4, 5, 6, 7, 8, 9, 10, 11, 12, 13, 14, 15, 16, 17, 18, 20, 22, 23, 24, 25, 26, 27, 32, 33, 35, 29, 71, 73, 74, 75, 89, 21, 19]\n"
          ]
        },
        {
          "output_type": "stream",
          "name": "stderr",
          "text": [
            "\rProcessing video:  19%|█▉        | 66/341 [00:19<00:40,  6.75it/s]"
          ]
        },
        {
          "output_type": "stream",
          "name": "stdout",
          "text": [
            "[Frame 65] Detections: 37, IDs: [1, 2, 3, 4, 5, 6, 7, 8, 9, 10, 11, 12, 13, 14, 15, 16, 17, 18, 20, 22, 23, 24, 25, 26, 27, 32, 33, 35, 29, 71, 73, 74, 75, 89, 21, 91, 19]\n",
            "[Frame 66] Detections: 36, IDs: [1, 2, 3, 4, 5, 6, 7, 8, 9, 10, 11, 12, 13, 14, 15, 16, 17, 18, 20, 22, 23, 24, 25, 26, 27, 32, 33, 35, 29, 71, 74, 75, 89, 21, 91, 19]\n"
          ]
        },
        {
          "output_type": "stream",
          "name": "stderr",
          "text": [
            "Processing video:  20%|██        | 69/341 [00:19<00:39,  6.93it/s]"
          ]
        },
        {
          "output_type": "stream",
          "name": "stdout",
          "text": [
            "[Frame 67] Detections: 35, IDs: [1, 2, 3, 4, 5, 6, 7, 8, 9, 10, 11, 12, 13, 14, 15, 17, 18, 20, 22, 23, 24, 25, 26, 27, 32, 33, 35, 29, 71, 74, 75, 89, 21, 91, 19]\n",
            "[Frame 68] Detections: 35, IDs: [1, 2, 3, 4, 5, 6, 7, 8, 9, 10, 11, 12, 13, 14, 15, 17, 18, 20, 22, 23, 24, 25, 26, 27, 32, 33, 35, 29, 71, 74, 75, 89, 21, 91, 19]\n"
          ]
        },
        {
          "output_type": "stream",
          "name": "stderr",
          "text": [
            "Processing video:  21%|██        | 71/341 [00:20<00:37,  7.16it/s]"
          ]
        },
        {
          "output_type": "stream",
          "name": "stdout",
          "text": [
            "[Frame 69] Detections: 35, IDs: [1, 2, 3, 4, 5, 6, 7, 8, 9, 10, 11, 12, 13, 14, 15, 17, 18, 20, 22, 23, 24, 25, 26, 27, 32, 33, 35, 29, 71, 74, 75, 89, 21, 91, 19]\n",
            "[Frame 70] Detections: 36, IDs: [1, 2, 3, 4, 5, 6, 7, 8, 9, 10, 11, 12, 13, 14, 15, 17, 18, 20, 22, 23, 24, 25, 26, 27, 32, 33, 35, 29, 71, 74, 75, 89, 21, 91, 19, 97]\n"
          ]
        },
        {
          "output_type": "stream",
          "name": "stderr",
          "text": [
            "Processing video:  21%|██▏       | 73/341 [00:20<00:36,  7.32it/s]"
          ]
        },
        {
          "output_type": "stream",
          "name": "stdout",
          "text": [
            "[Frame 71] Detections: 36, IDs: [1, 2, 3, 4, 5, 6, 7, 8, 9, 10, 11, 12, 13, 14, 15, 17, 18, 20, 22, 23, 24, 25, 26, 27, 32, 33, 35, 29, 71, 74, 75, 89, 21, 91, 19, 97]\n",
            "[Frame 72] Detections: 36, IDs: [1, 2, 3, 4, 5, 6, 7, 8, 9, 10, 11, 12, 13, 14, 15, 17, 18, 20, 22, 23, 24, 25, 26, 27, 32, 33, 35, 29, 71, 74, 75, 89, 21, 91, 19, 97]\n"
          ]
        },
        {
          "output_type": "stream",
          "name": "stderr",
          "text": [
            "Processing video:  22%|██▏       | 75/341 [00:20<00:37,  7.17it/s]"
          ]
        },
        {
          "output_type": "stream",
          "name": "stdout",
          "text": [
            "[Frame 73] Detections: 38, IDs: [1, 2, 3, 4, 5, 6, 7, 8, 9, 10, 11, 12, 13, 14, 15, 17, 18, 20, 22, 23, 24, 25, 26, 27, 32, 33, 35, 29, 71, 74, 75, 89, 21, 91, 19, 97, 98, 99]\n",
            "[Frame 74] Detections: 38, IDs: [1, 2, 3, 4, 5, 6, 7, 8, 9, 10, 11, 12, 13, 14, 15, 17, 18, 20, 22, 23, 24, 25, 26, 27, 32, 33, 35, 29, 71, 74, 75, 89, 21, 91, 19, 97, 98, 99]\n"
          ]
        },
        {
          "output_type": "stream",
          "name": "stderr",
          "text": [
            "Processing video:  23%|██▎       | 77/341 [00:21<00:36,  7.25it/s]"
          ]
        },
        {
          "output_type": "stream",
          "name": "stdout",
          "text": [
            "[Frame 75] Detections: 38, IDs: [1, 2, 3, 4, 5, 6, 7, 8, 9, 10, 11, 12, 13, 14, 15, 17, 18, 20, 22, 23, 24, 25, 26, 27, 32, 33, 35, 29, 71, 74, 75, 89, 21, 91, 19, 97, 98, 99]\n",
            "[Frame 76] Detections: 38, IDs: [1, 2, 3, 4, 5, 6, 7, 8, 9, 10, 11, 12, 13, 14, 15, 17, 18, 20, 22, 23, 24, 25, 26, 27, 32, 33, 35, 29, 71, 74, 75, 89, 21, 91, 19, 97, 98, 99]\n"
          ]
        },
        {
          "output_type": "stream",
          "name": "stderr",
          "text": [
            "Processing video:  23%|██▎       | 79/341 [00:21<00:36,  7.11it/s]"
          ]
        },
        {
          "output_type": "stream",
          "name": "stdout",
          "text": [
            "[Frame 77] Detections: 38, IDs: [1, 2, 3, 4, 5, 6, 7, 8, 9, 10, 11, 12, 13, 14, 15, 17, 18, 20, 22, 23, 24, 25, 26, 27, 32, 33, 35, 29, 71, 74, 75, 89, 21, 91, 19, 97, 98, 99]\n",
            "[Frame 78] Detections: 38, IDs: [1, 2, 3, 4, 5, 6, 7, 8, 9, 10, 11, 12, 13, 14, 15, 17, 18, 20, 22, 23, 24, 25, 26, 27, 32, 33, 35, 29, 71, 74, 75, 89, 21, 91, 19, 97, 98, 99]\n"
          ]
        },
        {
          "output_type": "stream",
          "name": "stderr",
          "text": [
            "Processing video:  24%|██▍       | 81/341 [00:21<00:36,  7.12it/s]"
          ]
        },
        {
          "output_type": "stream",
          "name": "stdout",
          "text": [
            "[Frame 79] Detections: 38, IDs: [1, 2, 3, 4, 5, 6, 7, 8, 9, 10, 11, 12, 13, 14, 15, 17, 18, 20, 22, 23, 24, 25, 26, 27, 32, 33, 35, 29, 71, 74, 75, 89, 21, 91, 19, 97, 98, 99]\n",
            "[Frame 80] Detections: 38, IDs: [1, 2, 3, 4, 5, 6, 7, 8, 9, 10, 11, 12, 13, 14, 15, 17, 18, 20, 22, 23, 24, 25, 26, 27, 32, 33, 35, 29, 71, 74, 75, 89, 21, 91, 19, 97, 98, 99]\n"
          ]
        },
        {
          "output_type": "stream",
          "name": "stderr",
          "text": [
            "Processing video:  24%|██▍       | 83/341 [00:21<00:35,  7.18it/s]"
          ]
        },
        {
          "output_type": "stream",
          "name": "stdout",
          "text": [
            "[Frame 81] Detections: 38, IDs: [1, 2, 3, 4, 5, 6, 7, 8, 9, 10, 11, 12, 13, 14, 15, 17, 18, 20, 22, 23, 24, 25, 26, 27, 32, 33, 35, 29, 71, 74, 75, 89, 21, 91, 19, 97, 98, 99]\n",
            "[Frame 82] Detections: 38, IDs: [1, 2, 3, 4, 5, 6, 7, 8, 9, 10, 11, 12, 13, 14, 15, 17, 18, 20, 22, 23, 24, 25, 26, 27, 32, 33, 35, 29, 71, 74, 75, 89, 21, 91, 19, 97, 98, 99]\n"
          ]
        },
        {
          "output_type": "stream",
          "name": "stderr",
          "text": [
            "Processing video:  25%|██▍       | 85/341 [00:22<00:35,  7.31it/s]"
          ]
        },
        {
          "output_type": "stream",
          "name": "stdout",
          "text": [
            "[Frame 83] Detections: 38, IDs: [1, 2, 3, 4, 5, 6, 7, 8, 9, 10, 11, 12, 13, 14, 15, 17, 18, 20, 22, 23, 24, 25, 26, 27, 32, 33, 35, 29, 71, 74, 75, 89, 21, 91, 19, 97, 98, 99]\n",
            "[Frame 84] Detections: 38, IDs: [1, 2, 3, 4, 5, 6, 7, 8, 9, 10, 11, 12, 13, 14, 15, 17, 18, 20, 22, 23, 24, 25, 26, 27, 32, 33, 35, 29, 71, 74, 75, 89, 21, 91, 19, 97, 98, 99]\n"
          ]
        },
        {
          "output_type": "stream",
          "name": "stderr",
          "text": [
            "\rProcessing video:  25%|██▌       | 86/341 [00:22<00:36,  7.01it/s]"
          ]
        },
        {
          "output_type": "stream",
          "name": "stdout",
          "text": [
            "[Frame 85] Detections: 38, IDs: [1, 2, 3, 4, 5, 6, 7, 8, 9, 10, 11, 12, 13, 14, 15, 17, 18, 20, 22, 23, 24, 25, 26, 27, 32, 33, 35, 29, 71, 74, 75, 89, 21, 91, 19, 97, 98, 99]\n",
            "[Frame 86] Detections: 38, IDs: [1, 2, 3, 4, 5, 6, 7, 8, 9, 10, 11, 12, 13, 14, 15, 17, 18, 20, 22, 23, 24, 25, 26, 27, 32, 33, 35, 29, 71, 74, 75, 89, 21, 91, 19, 97, 98, 99]\n"
          ]
        },
        {
          "output_type": "stream",
          "name": "stderr",
          "text": [
            "Processing video:  26%|██▌       | 88/341 [00:22<00:43,  5.83it/s]"
          ]
        },
        {
          "output_type": "stream",
          "name": "stdout",
          "text": [
            "[Frame 87] Detections: 38, IDs: [1, 2, 3, 4, 5, 6, 7, 8, 9, 10, 11, 12, 13, 14, 15, 17, 18, 20, 22, 23, 24, 25, 26, 27, 32, 33, 35, 29, 71, 74, 75, 89, 21, 91, 19, 97, 98, 99]\n"
          ]
        },
        {
          "output_type": "stream",
          "name": "stderr",
          "text": [
            "\rProcessing video:  26%|██▌       | 89/341 [00:22<00:44,  5.64it/s]"
          ]
        },
        {
          "output_type": "stream",
          "name": "stdout",
          "text": [
            "[Frame 88] Detections: 38, IDs: [1, 2, 3, 4, 5, 6, 7, 8, 9, 10, 11, 12, 13, 14, 15, 17, 18, 20, 22, 23, 24, 25, 26, 27, 32, 33, 35, 29, 71, 74, 75, 89, 21, 91, 19, 97, 98, 99]\n",
            "[Frame 89] Detections: 37, IDs: [1, 2, 3, 4, 5, 6, 7, 8, 9, 10, 11, 12, 13, 14, 17, 18, 20, 22, 23, 24, 25, 26, 27, 32, 33, 35, 29, 71, 74, 75, 89, 21, 91, 19, 97, 98, 99]\n"
          ]
        },
        {
          "output_type": "stream",
          "name": "stderr",
          "text": [
            "Processing video:  27%|██▋       | 92/341 [00:23<00:38,  6.47it/s]"
          ]
        },
        {
          "output_type": "stream",
          "name": "stdout",
          "text": [
            "[Frame 90] Detections: 37, IDs: [1, 2, 3, 4, 5, 6, 7, 8, 9, 10, 11, 12, 13, 14, 17, 18, 20, 22, 23, 24, 25, 26, 27, 32, 33, 35, 29, 71, 74, 75, 89, 21, 91, 97, 98, 99, 109]\n",
            "[Frame 91] Detections: 37, IDs: [1, 2, 3, 4, 5, 6, 7, 8, 9, 10, 11, 12, 13, 14, 17, 18, 20, 22, 23, 24, 25, 26, 27, 32, 33, 35, 29, 71, 74, 75, 89, 21, 91, 97, 98, 99, 109]\n"
          ]
        },
        {
          "output_type": "stream",
          "name": "stderr",
          "text": [
            "Processing video:  28%|██▊       | 94/341 [00:23<00:34,  7.08it/s]"
          ]
        },
        {
          "output_type": "stream",
          "name": "stdout",
          "text": [
            "[Frame 92] Detections: 37, IDs: [1, 2, 3, 4, 5, 6, 7, 8, 9, 10, 11, 12, 13, 14, 17, 18, 20, 22, 23, 24, 25, 26, 27, 32, 33, 35, 29, 71, 74, 75, 89, 21, 91, 97, 98, 99, 109]\n",
            "[Frame 93] Detections: 37, IDs: [1, 2, 3, 4, 5, 6, 7, 8, 9, 10, 11, 12, 13, 14, 17, 18, 20, 22, 23, 24, 25, 26, 27, 32, 33, 35, 29, 71, 74, 75, 89, 21, 91, 97, 98, 99, 109]\n"
          ]
        },
        {
          "output_type": "stream",
          "name": "stderr",
          "text": [
            "Processing video:  28%|██▊       | 96/341 [00:23<00:34,  7.13it/s]"
          ]
        },
        {
          "output_type": "stream",
          "name": "stdout",
          "text": [
            "[Frame 94] Detections: 37, IDs: [1, 2, 3, 4, 5, 6, 7, 8, 9, 10, 11, 12, 13, 14, 17, 18, 20, 22, 23, 24, 25, 26, 27, 32, 33, 35, 29, 71, 74, 75, 89, 21, 91, 97, 98, 99, 109]\n",
            "[Frame 95] Detections: 36, IDs: [1, 2, 3, 4, 5, 6, 7, 8, 9, 10, 11, 12, 13, 14, 17, 18, 20, 22, 23, 24, 25, 27, 32, 33, 35, 29, 71, 74, 75, 89, 21, 91, 97, 98, 99, 109]\n"
          ]
        },
        {
          "output_type": "stream",
          "name": "stderr",
          "text": [
            "Processing video:  29%|██▊       | 98/341 [00:24<00:33,  7.21it/s]"
          ]
        },
        {
          "output_type": "stream",
          "name": "stdout",
          "text": [
            "[Frame 96] Detections: 36, IDs: [1, 2, 3, 4, 5, 6, 7, 8, 9, 10, 11, 12, 13, 14, 17, 18, 20, 22, 23, 24, 25, 27, 32, 33, 35, 29, 71, 74, 75, 89, 21, 91, 97, 98, 99, 109]\n",
            "[Frame 97] Detections: 35, IDs: [1, 2, 3, 4, 5, 6, 7, 8, 9, 10, 11, 12, 14, 17, 18, 20, 22, 23, 24, 25, 27, 32, 33, 35, 29, 71, 74, 75, 89, 21, 91, 97, 98, 99, 109]\n"
          ]
        },
        {
          "output_type": "stream",
          "name": "stderr",
          "text": [
            "Processing video:  29%|██▉       | 100/341 [00:24<00:32,  7.51it/s]"
          ]
        },
        {
          "output_type": "stream",
          "name": "stdout",
          "text": [
            "[Frame 98] Detections: 35, IDs: [1, 2, 3, 4, 5, 6, 7, 8, 9, 10, 11, 12, 14, 17, 18, 20, 22, 23, 24, 25, 27, 32, 33, 35, 29, 71, 74, 75, 89, 21, 91, 97, 98, 99, 109]\n",
            "[Frame 99] Detections: 35, IDs: [1, 2, 3, 4, 5, 6, 7, 8, 9, 10, 11, 12, 14, 17, 18, 20, 22, 23, 24, 25, 27, 32, 33, 35, 29, 71, 74, 75, 89, 21, 91, 97, 98, 99, 109]\n"
          ]
        },
        {
          "output_type": "stream",
          "name": "stderr",
          "text": [
            "Processing video:  30%|██▉       | 102/341 [00:24<00:31,  7.64it/s]"
          ]
        },
        {
          "output_type": "stream",
          "name": "stdout",
          "text": [
            "[Frame 100] Detections: 35, IDs: [1, 2, 3, 4, 5, 6, 7, 8, 9, 10, 11, 12, 14, 17, 18, 20, 22, 23, 24, 25, 27, 32, 33, 35, 29, 71, 74, 75, 89, 21, 91, 97, 98, 99, 109]\n",
            "[Frame 101] Detections: 36, IDs: [1, 2, 3, 4, 5, 6, 7, 8, 9, 10, 11, 12, 14, 17, 18, 20, 22, 23, 24, 25, 27, 32, 33, 35, 29, 71, 74, 75, 89, 21, 91, 97, 98, 99, 109, 26]\n"
          ]
        },
        {
          "output_type": "stream",
          "name": "stderr",
          "text": [
            "Processing video:  30%|███       | 104/341 [00:24<00:31,  7.48it/s]"
          ]
        },
        {
          "output_type": "stream",
          "name": "stdout",
          "text": [
            "[Frame 102] Detections: 36, IDs: [1, 2, 3, 4, 5, 6, 7, 8, 9, 10, 11, 12, 14, 17, 18, 20, 22, 23, 24, 25, 27, 32, 33, 35, 29, 71, 74, 75, 89, 21, 91, 97, 98, 99, 109, 26]\n",
            "[Frame 103] Detections: 36, IDs: [1, 2, 3, 4, 5, 6, 7, 8, 9, 10, 11, 12, 14, 17, 18, 20, 22, 23, 24, 25, 27, 32, 33, 35, 29, 71, 74, 75, 89, 21, 91, 97, 98, 99, 109, 26]\n"
          ]
        },
        {
          "output_type": "stream",
          "name": "stderr",
          "text": [
            "Processing video:  31%|███       | 106/341 [00:25<00:31,  7.49it/s]"
          ]
        },
        {
          "output_type": "stream",
          "name": "stdout",
          "text": [
            "[Frame 104] Detections: 36, IDs: [1, 2, 3, 4, 5, 6, 7, 8, 9, 10, 11, 12, 14, 17, 18, 20, 22, 23, 24, 25, 27, 32, 33, 35, 29, 71, 74, 75, 89, 21, 91, 97, 98, 99, 109, 26]\n",
            "[Frame 105] Detections: 36, IDs: [1, 2, 3, 4, 5, 6, 7, 8, 9, 10, 11, 12, 14, 17, 18, 20, 22, 23, 24, 25, 27, 32, 33, 35, 29, 71, 74, 75, 89, 21, 91, 97, 98, 99, 109, 26]\n"
          ]
        },
        {
          "output_type": "stream",
          "name": "stderr",
          "text": [
            "Processing video:  32%|███▏      | 108/341 [00:25<00:31,  7.41it/s]"
          ]
        },
        {
          "output_type": "stream",
          "name": "stdout",
          "text": [
            "[Frame 106] Detections: 38, IDs: [1, 2, 3, 4, 5, 6, 7, 8, 9, 10, 11, 12, 14, 17, 18, 20, 22, 23, 24, 25, 27, 32, 33, 35, 29, 71, 74, 75, 89, 21, 91, 97, 98, 99, 109, 26, 120, 121]\n",
            "[Frame 107] Detections: 37, IDs: [1, 2, 3, 4, 5, 6, 7, 8, 9, 10, 11, 12, 14, 17, 18, 20, 22, 23, 24, 25, 27, 32, 33, 35, 29, 71, 74, 75, 89, 91, 97, 98, 99, 109, 26, 120, 121]\n"
          ]
        },
        {
          "output_type": "stream",
          "name": "stderr",
          "text": [
            "Processing video:  32%|███▏      | 110/341 [00:25<00:31,  7.41it/s]"
          ]
        },
        {
          "output_type": "stream",
          "name": "stdout",
          "text": [
            "[Frame 108] Detections: 37, IDs: [1, 2, 3, 4, 5, 6, 7, 8, 9, 10, 11, 12, 14, 17, 18, 20, 22, 23, 24, 25, 27, 32, 33, 35, 29, 71, 74, 75, 89, 91, 97, 98, 99, 109, 26, 120, 121]\n",
            "[Frame 109] Detections: 37, IDs: [1, 2, 3, 4, 5, 6, 7, 8, 9, 10, 11, 12, 14, 17, 18, 20, 22, 23, 24, 25, 27, 32, 33, 35, 29, 71, 74, 75, 89, 91, 97, 98, 99, 109, 26, 120, 121]\n"
          ]
        },
        {
          "output_type": "stream",
          "name": "stderr",
          "text": [
            "Processing video:  33%|███▎      | 112/341 [00:26<00:30,  7.54it/s]"
          ]
        },
        {
          "output_type": "stream",
          "name": "stdout",
          "text": [
            "[Frame 110] Detections: 37, IDs: [1, 2, 3, 4, 5, 6, 7, 8, 9, 10, 11, 12, 14, 17, 18, 20, 22, 23, 24, 25, 27, 32, 33, 35, 29, 71, 74, 75, 89, 91, 97, 98, 99, 109, 26, 120, 121]\n",
            "[Frame 111] Detections: 36, IDs: [1, 2, 3, 4, 5, 6, 7, 8, 9, 10, 11, 12, 14, 17, 18, 20, 22, 23, 24, 25, 27, 32, 33, 35, 29, 71, 74, 75, 89, 91, 97, 98, 99, 109, 26, 120]\n"
          ]
        },
        {
          "output_type": "stream",
          "name": "stderr",
          "text": [
            "Processing video:  33%|███▎      | 114/341 [00:26<00:29,  7.63it/s]"
          ]
        },
        {
          "output_type": "stream",
          "name": "stdout",
          "text": [
            "[Frame 112] Detections: 36, IDs: [1, 2, 3, 4, 5, 6, 7, 8, 9, 10, 11, 12, 14, 17, 18, 20, 22, 23, 24, 25, 27, 32, 33, 35, 29, 71, 74, 75, 89, 91, 97, 98, 99, 109, 26, 120]\n",
            "[Frame 113] Detections: 36, IDs: [1, 2, 3, 4, 5, 6, 7, 8, 9, 10, 11, 12, 14, 17, 18, 20, 22, 23, 24, 25, 27, 32, 33, 35, 29, 71, 74, 75, 89, 91, 97, 98, 99, 109, 26, 120]\n"
          ]
        },
        {
          "output_type": "stream",
          "name": "stderr",
          "text": [
            "Processing video:  34%|███▍      | 116/341 [00:26<00:29,  7.60it/s]"
          ]
        },
        {
          "output_type": "stream",
          "name": "stdout",
          "text": [
            "[Frame 114] Detections: 36, IDs: [1, 2, 3, 4, 5, 6, 7, 8, 9, 10, 11, 12, 14, 17, 18, 20, 22, 23, 24, 25, 27, 32, 33, 35, 29, 71, 74, 75, 89, 91, 97, 98, 99, 109, 26, 120]\n",
            "[Frame 115] Detections: 36, IDs: [1, 2, 3, 4, 5, 6, 7, 8, 9, 10, 11, 12, 14, 17, 18, 20, 22, 23, 24, 25, 27, 32, 33, 35, 29, 71, 74, 75, 89, 91, 97, 98, 99, 109, 26, 120]\n"
          ]
        },
        {
          "output_type": "stream",
          "name": "stderr",
          "text": [
            "Processing video:  35%|███▍      | 118/341 [00:26<00:29,  7.44it/s]"
          ]
        },
        {
          "output_type": "stream",
          "name": "stdout",
          "text": [
            "[Frame 116] Detections: 36, IDs: [1, 2, 3, 4, 5, 6, 7, 8, 9, 10, 11, 12, 14, 17, 18, 20, 22, 23, 24, 25, 27, 32, 33, 35, 29, 71, 74, 75, 89, 91, 97, 98, 99, 109, 26, 120]\n",
            "[Frame 117] Detections: 35, IDs: [1, 2, 3, 4, 5, 6, 7, 8, 9, 10, 11, 12, 14, 17, 18, 20, 22, 23, 24, 25, 27, 32, 33, 35, 29, 71, 74, 75, 89, 91, 97, 98, 99, 109, 120]\n"
          ]
        },
        {
          "output_type": "stream",
          "name": "stderr",
          "text": [
            "Processing video:  35%|███▌      | 120/341 [00:27<00:29,  7.40it/s]"
          ]
        },
        {
          "output_type": "stream",
          "name": "stdout",
          "text": [
            "[Frame 118] Detections: 34, IDs: [1, 2, 3, 4, 5, 6, 7, 8, 9, 10, 11, 14, 17, 18, 20, 22, 23, 24, 25, 27, 32, 33, 35, 29, 71, 74, 75, 89, 91, 97, 98, 99, 109, 120]\n",
            "[Frame 119] Detections: 33, IDs: [1, 2, 3, 4, 5, 7, 8, 9, 10, 11, 14, 17, 18, 20, 22, 23, 24, 25, 27, 32, 33, 35, 29, 71, 74, 75, 89, 91, 97, 98, 99, 109, 120]\n"
          ]
        },
        {
          "output_type": "stream",
          "name": "stderr",
          "text": [
            "Processing video:  36%|███▌      | 122/341 [00:27<00:29,  7.45it/s]"
          ]
        },
        {
          "output_type": "stream",
          "name": "stdout",
          "text": [
            "[Frame 120] Detections: 33, IDs: [1, 2, 3, 4, 5, 7, 8, 9, 10, 11, 14, 17, 18, 20, 22, 23, 24, 25, 27, 32, 33, 35, 29, 71, 74, 75, 89, 91, 97, 98, 99, 109, 120]\n",
            "[Frame 121] Detections: 33, IDs: [1, 2, 3, 4, 5, 7, 8, 9, 10, 11, 14, 17, 18, 20, 22, 23, 24, 25, 27, 32, 33, 35, 29, 71, 74, 75, 89, 91, 97, 98, 99, 109, 120]\n"
          ]
        },
        {
          "output_type": "stream",
          "name": "stderr",
          "text": [
            "Processing video:  36%|███▋      | 124/341 [00:27<00:28,  7.59it/s]"
          ]
        },
        {
          "output_type": "stream",
          "name": "stdout",
          "text": [
            "[Frame 122] Detections: 33, IDs: [1, 2, 3, 4, 5, 7, 8, 9, 10, 11, 14, 17, 18, 20, 22, 23, 24, 25, 27, 32, 33, 35, 29, 71, 74, 75, 89, 91, 97, 98, 99, 109, 120]\n",
            "[Frame 123] Detections: 34, IDs: [1, 2, 3, 4, 5, 7, 8, 9, 10, 11, 14, 17, 18, 20, 22, 23, 24, 25, 27, 32, 33, 35, 29, 71, 74, 75, 89, 91, 97, 98, 99, 109, 120, 127]\n"
          ]
        },
        {
          "output_type": "stream",
          "name": "stderr",
          "text": [
            "Processing video:  37%|███▋      | 126/341 [00:27<00:28,  7.47it/s]"
          ]
        },
        {
          "output_type": "stream",
          "name": "stdout",
          "text": [
            "[Frame 124] Detections: 34, IDs: [1, 2, 3, 4, 5, 7, 8, 9, 10, 11, 14, 17, 18, 20, 22, 23, 24, 25, 27, 32, 33, 35, 29, 71, 74, 75, 89, 91, 97, 98, 99, 109, 120, 127]\n",
            "[Frame 125] Detections: 33, IDs: [1, 2, 3, 4, 5, 7, 8, 9, 10, 11, 14, 17, 18, 20, 22, 23, 24, 25, 27, 32, 33, 35, 29, 71, 74, 75, 89, 91, 97, 98, 99, 109, 120]\n"
          ]
        },
        {
          "output_type": "stream",
          "name": "stderr",
          "text": [
            "Processing video:  38%|███▊      | 128/341 [00:28<00:28,  7.37it/s]"
          ]
        },
        {
          "output_type": "stream",
          "name": "stdout",
          "text": [
            "[Frame 126] Detections: 33, IDs: [1, 2, 3, 4, 5, 7, 8, 9, 10, 11, 14, 17, 18, 20, 22, 23, 24, 25, 27, 32, 33, 35, 29, 71, 74, 75, 89, 91, 97, 98, 99, 109, 120]\n",
            "[Frame 127] Detections: 33, IDs: [1, 2, 3, 4, 5, 7, 8, 9, 10, 11, 14, 17, 18, 20, 22, 23, 24, 25, 27, 32, 33, 35, 29, 71, 74, 75, 89, 91, 97, 98, 99, 109, 120]\n"
          ]
        },
        {
          "output_type": "stream",
          "name": "stderr",
          "text": [
            "Processing video:  38%|███▊      | 130/341 [00:28<00:27,  7.59it/s]"
          ]
        },
        {
          "output_type": "stream",
          "name": "stdout",
          "text": [
            "[Frame 128] Detections: 33, IDs: [1, 2, 3, 4, 5, 7, 8, 9, 10, 11, 14, 17, 18, 20, 22, 23, 24, 25, 27, 32, 33, 35, 29, 71, 74, 75, 89, 91, 97, 98, 99, 109, 120]\n",
            "[Frame 129] Detections: 33, IDs: [1, 2, 3, 4, 7, 8, 9, 10, 11, 14, 17, 18, 20, 22, 23, 24, 25, 27, 32, 33, 35, 29, 71, 74, 75, 89, 91, 97, 98, 99, 109, 120, 132]\n"
          ]
        },
        {
          "output_type": "stream",
          "name": "stderr",
          "text": [
            "\rProcessing video:  38%|███▊      | 131/341 [00:28<00:28,  7.28it/s]"
          ]
        },
        {
          "output_type": "stream",
          "name": "stdout",
          "text": [
            "[Frame 130] Detections: 33, IDs: [1, 2, 3, 4, 7, 8, 9, 10, 11, 14, 17, 18, 20, 22, 23, 24, 25, 27, 32, 33, 35, 29, 71, 74, 75, 89, 91, 97, 98, 99, 109, 120, 132]\n",
            "[Frame 131] Detections: 33, IDs: [1, 2, 3, 4, 7, 8, 9, 10, 11, 14, 17, 18, 20, 22, 23, 24, 25, 27, 32, 33, 35, 29, 71, 74, 75, 89, 91, 97, 98, 99, 109, 120, 132]\n"
          ]
        },
        {
          "output_type": "stream",
          "name": "stderr",
          "text": [
            "Processing video:  39%|███▉      | 133/341 [00:28<00:33,  6.18it/s]"
          ]
        },
        {
          "output_type": "stream",
          "name": "stdout",
          "text": [
            "[Frame 132] Detections: 31, IDs: [2, 3, 4, 7, 8, 9, 10, 11, 14, 17, 18, 20, 22, 23, 24, 25, 32, 33, 35, 29, 71, 74, 75, 89, 91, 97, 98, 99, 109, 120, 132]\n",
            "[Frame 133] Detections: 31, IDs: [2, 3, 4, 7, 8, 9, 10, 11, 14, 17, 18, 20, 22, 23, 24, 25, 32, 33, 35, 29, 71, 74, 75, 89, 91, 97, 98, 99, 109, 120, 132]\n"
          ]
        },
        {
          "output_type": "stream",
          "name": "stderr",
          "text": [
            "Processing video:  40%|███▉      | 135/341 [00:29<00:36,  5.70it/s]"
          ]
        },
        {
          "output_type": "stream",
          "name": "stdout",
          "text": [
            "[Frame 134] Detections: 31, IDs: [2, 3, 4, 7, 8, 9, 10, 11, 14, 17, 18, 20, 22, 23, 24, 25, 32, 33, 35, 29, 71, 74, 75, 89, 91, 97, 98, 99, 109, 120, 132]\n",
            "[Frame 135] Detections: 31, IDs: [2, 3, 4, 7, 8, 9, 10, 11, 14, 17, 18, 20, 22, 23, 24, 25, 32, 33, 35, 29, 71, 74, 75, 89, 91, 97, 98, 99, 109, 120, 132]\n"
          ]
        },
        {
          "output_type": "stream",
          "name": "stderr",
          "text": [
            "Processing video:  40%|████      | 137/341 [00:29<00:37,  5.49it/s]"
          ]
        },
        {
          "output_type": "stream",
          "name": "stdout",
          "text": [
            "[Frame 136] Detections: 31, IDs: [2, 3, 4, 7, 8, 9, 10, 11, 14, 17, 18, 20, 22, 23, 24, 25, 32, 33, 35, 29, 71, 74, 75, 89, 91, 97, 98, 99, 109, 120, 132]\n"
          ]
        },
        {
          "output_type": "stream",
          "name": "stderr",
          "text": [
            "\rProcessing video:  40%|████      | 138/341 [00:29<00:38,  5.26it/s]"
          ]
        },
        {
          "output_type": "stream",
          "name": "stdout",
          "text": [
            "[Frame 137] Detections: 31, IDs: [2, 3, 4, 7, 8, 9, 10, 11, 14, 17, 18, 20, 22, 23, 24, 25, 32, 33, 35, 29, 71, 74, 75, 89, 91, 97, 98, 99, 109, 120, 132]\n"
          ]
        },
        {
          "output_type": "stream",
          "name": "stderr",
          "text": [
            "\rProcessing video:  41%|████      | 139/341 [00:30<00:39,  5.06it/s]"
          ]
        },
        {
          "output_type": "stream",
          "name": "stdout",
          "text": [
            "[Frame 138] Detections: 31, IDs: [2, 3, 4, 7, 8, 9, 10, 11, 14, 17, 18, 20, 22, 23, 24, 25, 32, 33, 35, 29, 71, 74, 75, 89, 91, 97, 98, 99, 109, 120, 132]\n",
            "[Frame 139] Detections: 30, IDs: [2, 3, 4, 7, 9, 10, 11, 14, 17, 18, 20, 22, 23, 24, 25, 32, 33, 35, 29, 71, 74, 75, 89, 91, 97, 98, 99, 109, 120, 132]\n"
          ]
        },
        {
          "output_type": "stream",
          "name": "stderr",
          "text": [
            "Processing video:  41%|████▏     | 141/341 [00:30<00:39,  5.04it/s]"
          ]
        },
        {
          "output_type": "stream",
          "name": "stdout",
          "text": [
            "[Frame 140] Detections: 30, IDs: [2, 3, 4, 7, 9, 10, 11, 14, 17, 18, 20, 22, 23, 24, 25, 32, 33, 35, 29, 71, 74, 75, 89, 91, 97, 98, 99, 109, 120, 132]\n"
          ]
        },
        {
          "output_type": "stream",
          "name": "stderr",
          "text": [
            "\rProcessing video:  42%|████▏     | 142/341 [00:30<00:39,  5.00it/s]"
          ]
        },
        {
          "output_type": "stream",
          "name": "stdout",
          "text": [
            "[Frame 141] Detections: 30, IDs: [2, 3, 4, 7, 9, 10, 11, 14, 17, 18, 20, 22, 23, 24, 25, 32, 33, 35, 29, 71, 74, 75, 89, 91, 97, 98, 99, 109, 120, 132]\n",
            "[Frame 142] Detections: 30, IDs: [2, 3, 4, 7, 9, 10, 11, 14, 17, 18, 20, 22, 23, 24, 25, 32, 33, 35, 29, 71, 74, 75, 89, 91, 97, 98, 99, 109, 120, 132]\n"
          ]
        },
        {
          "output_type": "stream",
          "name": "stderr",
          "text": [
            "Processing video:  43%|████▎     | 145/341 [00:31<00:32,  5.95it/s]"
          ]
        },
        {
          "output_type": "stream",
          "name": "stdout",
          "text": [
            "[Frame 143] Detections: 30, IDs: [2, 3, 4, 7, 9, 10, 11, 14, 17, 18, 20, 22, 23, 24, 25, 32, 33, 35, 29, 71, 74, 75, 89, 91, 97, 98, 99, 109, 120, 132]\n",
            "[Frame 144] Detections: 30, IDs: [2, 3, 4, 7, 9, 10, 11, 14, 17, 18, 20, 22, 23, 24, 25, 32, 33, 35, 29, 71, 74, 75, 89, 91, 97, 98, 99, 109, 120, 132]\n"
          ]
        },
        {
          "output_type": "stream",
          "name": "stderr",
          "text": [
            "Processing video:  43%|████▎     | 147/341 [00:31<00:29,  6.67it/s]"
          ]
        },
        {
          "output_type": "stream",
          "name": "stdout",
          "text": [
            "[Frame 145] Detections: 30, IDs: [2, 3, 4, 7, 9, 10, 11, 14, 17, 18, 20, 22, 23, 24, 25, 32, 33, 35, 29, 71, 74, 75, 89, 91, 97, 98, 99, 109, 120, 132]\n",
            "[Frame 146] Detections: 30, IDs: [2, 3, 4, 7, 9, 10, 11, 14, 17, 18, 20, 22, 23, 24, 25, 32, 33, 35, 29, 71, 74, 75, 89, 91, 97, 98, 99, 109, 120, 132]\n"
          ]
        },
        {
          "output_type": "stream",
          "name": "stderr",
          "text": [
            "Processing video:  44%|████▎     | 149/341 [00:31<00:27,  7.06it/s]"
          ]
        },
        {
          "output_type": "stream",
          "name": "stdout",
          "text": [
            "[Frame 147] Detections: 30, IDs: [2, 3, 4, 7, 9, 10, 11, 14, 17, 18, 20, 22, 23, 24, 25, 32, 33, 35, 29, 71, 74, 75, 89, 91, 97, 98, 99, 109, 120, 132]\n",
            "[Frame 148] Detections: 30, IDs: [2, 3, 4, 7, 9, 10, 11, 14, 17, 18, 20, 22, 23, 24, 25, 32, 33, 35, 29, 71, 74, 75, 89, 91, 97, 98, 99, 109, 120, 132]\n"
          ]
        },
        {
          "output_type": "stream",
          "name": "stderr",
          "text": [
            "Processing video:  44%|████▍     | 151/341 [00:31<00:25,  7.38it/s]"
          ]
        },
        {
          "output_type": "stream",
          "name": "stdout",
          "text": [
            "[Frame 149] Detections: 30, IDs: [2, 3, 4, 7, 9, 10, 11, 14, 17, 18, 20, 22, 23, 24, 25, 32, 33, 35, 29, 71, 74, 75, 89, 91, 97, 98, 99, 109, 120, 132]\n",
            "[Frame 150] Detections: 30, IDs: [2, 3, 4, 7, 9, 10, 11, 14, 17, 18, 20, 22, 23, 24, 25, 32, 33, 35, 29, 71, 74, 75, 89, 91, 97, 98, 99, 109, 120, 132]\n"
          ]
        },
        {
          "output_type": "stream",
          "name": "stderr",
          "text": [
            "Processing video:  45%|████▍     | 153/341 [00:32<00:25,  7.45it/s]"
          ]
        },
        {
          "output_type": "stream",
          "name": "stdout",
          "text": [
            "[Frame 151] Detections: 30, IDs: [2, 3, 4, 7, 9, 10, 11, 14, 17, 18, 20, 22, 23, 24, 25, 32, 33, 35, 29, 71, 74, 75, 89, 91, 97, 98, 99, 109, 120, 132]\n",
            "[Frame 152] Detections: 29, IDs: [2, 3, 4, 7, 9, 10, 11, 14, 17, 18, 20, 22, 23, 24, 25, 32, 33, 35, 29, 71, 74, 75, 89, 91, 97, 98, 99, 120, 132]\n"
          ]
        },
        {
          "output_type": "stream",
          "name": "stderr",
          "text": [
            "Processing video:  45%|████▌     | 155/341 [00:32<00:24,  7.62it/s]"
          ]
        },
        {
          "output_type": "stream",
          "name": "stdout",
          "text": [
            "[Frame 153] Detections: 29, IDs: [2, 3, 4, 7, 9, 10, 11, 14, 17, 18, 20, 22, 23, 24, 25, 32, 33, 35, 29, 71, 74, 75, 89, 91, 97, 98, 99, 120, 132]\n",
            "[Frame 154] Detections: 29, IDs: [2, 3, 4, 7, 9, 10, 11, 14, 17, 18, 20, 22, 23, 24, 25, 32, 33, 35, 29, 71, 74, 75, 89, 91, 97, 98, 99, 120, 132]\n"
          ]
        },
        {
          "output_type": "stream",
          "name": "stderr",
          "text": [
            "Processing video:  46%|████▌     | 157/341 [00:32<00:23,  7.68it/s]"
          ]
        },
        {
          "output_type": "stream",
          "name": "stdout",
          "text": [
            "[Frame 155] Detections: 29, IDs: [2, 3, 4, 7, 9, 10, 11, 14, 17, 18, 20, 22, 23, 24, 25, 32, 33, 35, 29, 71, 74, 75, 89, 91, 97, 98, 99, 120, 132]\n",
            "[Frame 156] Detections: 29, IDs: [2, 3, 4, 7, 9, 10, 11, 14, 17, 18, 20, 22, 23, 24, 25, 32, 33, 35, 29, 71, 74, 75, 89, 91, 97, 98, 99, 120, 132]\n"
          ]
        },
        {
          "output_type": "stream",
          "name": "stderr",
          "text": [
            "Processing video:  47%|████▋     | 159/341 [00:32<00:23,  7.68it/s]"
          ]
        },
        {
          "output_type": "stream",
          "name": "stdout",
          "text": [
            "[Frame 157] Detections: 29, IDs: [2, 3, 4, 7, 9, 10, 11, 14, 17, 18, 20, 22, 23, 24, 25, 32, 33, 35, 29, 71, 74, 75, 89, 91, 97, 98, 99, 120, 132]\n",
            "[Frame 158] Detections: 29, IDs: [2, 3, 4, 7, 9, 10, 11, 14, 17, 18, 20, 22, 23, 24, 25, 32, 33, 35, 29, 71, 74, 75, 89, 91, 97, 98, 99, 120, 132]\n"
          ]
        },
        {
          "output_type": "stream",
          "name": "stderr",
          "text": [
            "Processing video:  47%|████▋     | 161/341 [00:33<00:23,  7.64it/s]"
          ]
        },
        {
          "output_type": "stream",
          "name": "stdout",
          "text": [
            "[Frame 159] Detections: 28, IDs: [2, 3, 4, 7, 9, 11, 14, 17, 18, 20, 22, 23, 24, 25, 32, 33, 35, 29, 71, 74, 75, 89, 91, 97, 98, 99, 120, 132]\n",
            "[Frame 160] Detections: 29, IDs: [2, 3, 4, 7, 9, 11, 14, 17, 18, 20, 22, 23, 24, 25, 32, 33, 35, 29, 71, 74, 75, 89, 91, 97, 98, 99, 120, 132, 137]\n"
          ]
        },
        {
          "output_type": "stream",
          "name": "stderr",
          "text": [
            "Processing video:  48%|████▊     | 163/341 [00:33<00:22,  7.75it/s]"
          ]
        },
        {
          "output_type": "stream",
          "name": "stdout",
          "text": [
            "[Frame 161] Detections: 29, IDs: [2, 3, 4, 7, 9, 11, 14, 17, 18, 20, 22, 23, 24, 25, 32, 33, 35, 29, 71, 74, 75, 89, 91, 97, 98, 99, 120, 132, 137]\n",
            "[Frame 162] Detections: 29, IDs: [2, 3, 4, 7, 9, 11, 14, 17, 18, 20, 22, 23, 24, 25, 32, 33, 35, 29, 71, 74, 75, 89, 91, 97, 98, 99, 120, 132, 137]\n"
          ]
        },
        {
          "output_type": "stream",
          "name": "stderr",
          "text": [
            "Processing video:  48%|████▊     | 165/341 [00:33<00:23,  7.50it/s]"
          ]
        },
        {
          "output_type": "stream",
          "name": "stdout",
          "text": [
            "[Frame 163] Detections: 30, IDs: [2, 3, 4, 7, 9, 11, 14, 17, 18, 20, 22, 23, 24, 25, 32, 33, 35, 29, 71, 74, 75, 89, 91, 97, 98, 99, 120, 132, 137, 10]\n",
            "[Frame 164] Detections: 30, IDs: [2, 3, 4, 7, 9, 11, 14, 17, 18, 20, 22, 23, 24, 25, 32, 33, 35, 29, 71, 74, 75, 89, 91, 97, 98, 99, 120, 132, 137, 10]\n"
          ]
        },
        {
          "output_type": "stream",
          "name": "stderr",
          "text": [
            "Processing video:  49%|████▉     | 167/341 [00:34<00:22,  7.62it/s]"
          ]
        },
        {
          "output_type": "stream",
          "name": "stdout",
          "text": [
            "[Frame 165] Detections: 30, IDs: [2, 3, 4, 7, 9, 11, 14, 17, 18, 20, 22, 23, 24, 25, 32, 33, 35, 29, 71, 74, 75, 89, 91, 97, 98, 99, 120, 132, 137, 10]\n",
            "[Frame 166] Detections: 30, IDs: [2, 3, 4, 7, 9, 11, 14, 17, 18, 20, 22, 23, 24, 25, 32, 33, 35, 29, 71, 74, 75, 89, 91, 97, 98, 99, 120, 132, 137, 10]\n"
          ]
        },
        {
          "output_type": "stream",
          "name": "stderr",
          "text": [
            "Processing video:  50%|████▉     | 169/341 [00:34<00:22,  7.53it/s]"
          ]
        },
        {
          "output_type": "stream",
          "name": "stdout",
          "text": [
            "[Frame 167] Detections: 30, IDs: [2, 3, 4, 7, 9, 11, 14, 17, 18, 20, 22, 23, 24, 25, 32, 33, 35, 29, 71, 74, 75, 89, 91, 97, 98, 99, 120, 132, 137, 10]\n",
            "[Frame 168] Detections: 29, IDs: [2, 3, 4, 7, 9, 11, 14, 17, 18, 20, 22, 23, 24, 25, 32, 33, 35, 29, 71, 74, 75, 89, 91, 97, 98, 99, 120, 132, 137]\n"
          ]
        },
        {
          "output_type": "stream",
          "name": "stderr",
          "text": [
            "Processing video:  50%|█████     | 171/341 [00:34<00:22,  7.68it/s]"
          ]
        },
        {
          "output_type": "stream",
          "name": "stdout",
          "text": [
            "[Frame 169] Detections: 29, IDs: [2, 3, 4, 7, 9, 11, 14, 17, 18, 20, 22, 23, 24, 25, 32, 33, 35, 29, 71, 74, 75, 89, 91, 97, 98, 99, 120, 132, 137]\n",
            "[Frame 170] Detections: 29, IDs: [2, 3, 4, 7, 9, 11, 14, 17, 18, 20, 22, 23, 24, 25, 32, 33, 35, 29, 71, 74, 75, 89, 91, 97, 98, 99, 120, 132, 137]\n"
          ]
        },
        {
          "output_type": "stream",
          "name": "stderr",
          "text": [
            "Processing video:  51%|█████     | 173/341 [00:34<00:21,  7.72it/s]"
          ]
        },
        {
          "output_type": "stream",
          "name": "stdout",
          "text": [
            "[Frame 171] Detections: 29, IDs: [2, 3, 4, 7, 9, 11, 14, 17, 18, 20, 22, 23, 24, 25, 32, 33, 35, 29, 71, 74, 75, 89, 91, 97, 98, 99, 120, 132, 137]\n",
            "[Frame 172] Detections: 29, IDs: [2, 3, 4, 7, 9, 11, 14, 17, 18, 20, 22, 23, 24, 25, 32, 33, 35, 29, 71, 74, 75, 89, 91, 97, 98, 99, 120, 132, 137]\n"
          ]
        },
        {
          "output_type": "stream",
          "name": "stderr",
          "text": [
            "Processing video:  51%|█████▏    | 175/341 [00:35<00:22,  7.43it/s]"
          ]
        },
        {
          "output_type": "stream",
          "name": "stdout",
          "text": [
            "[Frame 173] Detections: 29, IDs: [2, 3, 4, 7, 9, 11, 14, 17, 18, 20, 22, 23, 24, 25, 32, 33, 35, 29, 71, 74, 75, 89, 91, 97, 98, 99, 120, 132, 137]\n",
            "[Frame 174] Detections: 29, IDs: [2, 3, 4, 7, 9, 11, 14, 17, 18, 20, 22, 23, 24, 25, 32, 33, 35, 29, 71, 74, 75, 89, 91, 97, 98, 99, 120, 132, 137]\n"
          ]
        },
        {
          "output_type": "stream",
          "name": "stderr",
          "text": [
            "Processing video:  52%|█████▏    | 177/341 [00:35<00:22,  7.15it/s]"
          ]
        },
        {
          "output_type": "stream",
          "name": "stdout",
          "text": [
            "[Frame 175] Detections: 29, IDs: [2, 3, 4, 7, 9, 11, 14, 17, 18, 20, 22, 23, 24, 25, 32, 33, 35, 29, 71, 74, 75, 89, 91, 97, 98, 99, 120, 132, 137]\n",
            "[Frame 176] Detections: 29, IDs: [2, 3, 4, 7, 9, 11, 14, 17, 18, 20, 22, 23, 24, 25, 32, 33, 35, 29, 71, 74, 75, 89, 91, 97, 98, 99, 120, 132, 137]\n"
          ]
        },
        {
          "output_type": "stream",
          "name": "stderr",
          "text": [
            "Processing video:  52%|█████▏    | 179/341 [00:35<00:21,  7.46it/s]"
          ]
        },
        {
          "output_type": "stream",
          "name": "stdout",
          "text": [
            "[Frame 177] Detections: 29, IDs: [2, 3, 4, 7, 9, 11, 14, 17, 18, 20, 22, 23, 24, 25, 32, 33, 35, 29, 71, 74, 75, 89, 91, 97, 98, 99, 120, 132, 137]\n",
            "[Frame 178] Detections: 30, IDs: [2, 3, 4, 7, 9, 11, 14, 17, 18, 20, 22, 23, 24, 25, 32, 33, 35, 29, 71, 74, 75, 89, 91, 97, 98, 99, 120, 132, 137, 149]\n"
          ]
        },
        {
          "output_type": "stream",
          "name": "stderr",
          "text": [
            "Processing video:  53%|█████▎    | 181/341 [00:35<00:21,  7.54it/s]"
          ]
        },
        {
          "output_type": "stream",
          "name": "stdout",
          "text": [
            "[Frame 179] Detections: 30, IDs: [2, 3, 4, 7, 9, 11, 14, 17, 18, 20, 22, 23, 24, 25, 32, 33, 35, 29, 71, 74, 75, 89, 91, 97, 98, 99, 120, 132, 137, 149]\n",
            "[Frame 180] Detections: 30, IDs: [2, 3, 4, 7, 9, 11, 14, 17, 18, 20, 22, 23, 24, 25, 32, 33, 35, 29, 71, 74, 75, 89, 91, 97, 98, 99, 120, 132, 137, 149]\n"
          ]
        },
        {
          "output_type": "stream",
          "name": "stderr",
          "text": [
            "Processing video:  54%|█████▎    | 183/341 [00:36<00:21,  7.36it/s]"
          ]
        },
        {
          "output_type": "stream",
          "name": "stdout",
          "text": [
            "[Frame 181] Detections: 30, IDs: [2, 3, 4, 7, 9, 11, 14, 17, 18, 20, 22, 23, 24, 25, 32, 33, 35, 29, 71, 74, 75, 89, 91, 97, 98, 99, 120, 132, 137, 149]\n",
            "[Frame 182] Detections: 30, IDs: [2, 3, 4, 7, 9, 11, 14, 17, 18, 20, 22, 23, 24, 25, 32, 33, 35, 29, 71, 74, 75, 89, 91, 97, 98, 99, 120, 132, 137, 149]\n"
          ]
        },
        {
          "output_type": "stream",
          "name": "stderr",
          "text": [
            "Processing video:  54%|█████▍    | 185/341 [00:36<00:20,  7.64it/s]"
          ]
        },
        {
          "output_type": "stream",
          "name": "stdout",
          "text": [
            "[Frame 183] Detections: 30, IDs: [2, 3, 4, 7, 9, 11, 14, 17, 18, 20, 22, 23, 24, 25, 32, 33, 35, 29, 71, 74, 75, 89, 91, 97, 98, 99, 120, 132, 137, 149]\n",
            "[Frame 184] Detections: 30, IDs: [2, 3, 4, 7, 9, 11, 14, 17, 18, 20, 22, 23, 24, 25, 32, 33, 35, 29, 71, 74, 75, 89, 91, 97, 98, 99, 120, 132, 137, 149]\n"
          ]
        },
        {
          "output_type": "stream",
          "name": "stderr",
          "text": [
            "Processing video:  55%|█████▍    | 187/341 [00:36<00:19,  7.83it/s]"
          ]
        },
        {
          "output_type": "stream",
          "name": "stdout",
          "text": [
            "[Frame 185] Detections: 30, IDs: [2, 3, 4, 7, 9, 11, 14, 17, 18, 20, 22, 23, 24, 25, 32, 33, 35, 29, 71, 74, 75, 89, 91, 97, 98, 99, 120, 132, 137, 149]\n",
            "[Frame 186] Detections: 30, IDs: [2, 3, 4, 7, 9, 11, 14, 17, 18, 20, 22, 23, 24, 25, 32, 33, 35, 29, 71, 74, 75, 89, 91, 97, 98, 99, 120, 132, 137, 149]\n"
          ]
        },
        {
          "output_type": "stream",
          "name": "stderr",
          "text": [
            "Processing video:  55%|█████▌    | 189/341 [00:36<00:19,  7.68it/s]"
          ]
        },
        {
          "output_type": "stream",
          "name": "stdout",
          "text": [
            "[Frame 187] Detections: 30, IDs: [2, 3, 4, 7, 9, 11, 14, 17, 18, 20, 22, 23, 24, 25, 32, 33, 35, 29, 71, 74, 75, 89, 91, 97, 98, 99, 120, 132, 137, 149]\n",
            "[Frame 188] Detections: 31, IDs: [2, 3, 4, 7, 9, 11, 14, 17, 18, 20, 22, 23, 24, 25, 32, 33, 35, 29, 71, 74, 75, 89, 91, 97, 98, 99, 120, 132, 137, 149, 152]\n"
          ]
        },
        {
          "output_type": "stream",
          "name": "stderr",
          "text": [
            "Processing video:  56%|█████▌    | 191/341 [00:37<00:19,  7.80it/s]"
          ]
        },
        {
          "output_type": "stream",
          "name": "stdout",
          "text": [
            "[Frame 189] Detections: 31, IDs: [2, 3, 4, 7, 9, 11, 14, 17, 18, 20, 22, 23, 24, 25, 32, 33, 35, 29, 71, 74, 75, 89, 91, 97, 98, 99, 120, 132, 137, 149, 152]\n",
            "[Frame 190] Detections: 30, IDs: [2, 3, 4, 7, 9, 11, 14, 17, 18, 20, 22, 23, 24, 25, 32, 33, 35, 29, 71, 74, 75, 89, 91, 97, 98, 99, 132, 137, 149, 152]\n"
          ]
        },
        {
          "output_type": "stream",
          "name": "stderr",
          "text": [
            "Processing video:  57%|█████▋    | 193/341 [00:37<00:19,  7.71it/s]"
          ]
        },
        {
          "output_type": "stream",
          "name": "stdout",
          "text": [
            "[Frame 191] Detections: 30, IDs: [2, 3, 4, 7, 9, 11, 14, 17, 18, 20, 22, 23, 24, 25, 32, 33, 35, 29, 71, 74, 75, 89, 91, 97, 98, 99, 132, 137, 149, 152]\n",
            "[Frame 192] Detections: 31, IDs: [2, 3, 4, 7, 9, 11, 14, 17, 18, 20, 22, 23, 24, 25, 32, 33, 35, 29, 71, 74, 75, 89, 91, 97, 98, 99, 132, 137, 149, 152, 157]\n"
          ]
        },
        {
          "output_type": "stream",
          "name": "stderr",
          "text": [
            "Processing video:  57%|█████▋    | 195/341 [00:37<00:18,  7.84it/s]"
          ]
        },
        {
          "output_type": "stream",
          "name": "stdout",
          "text": [
            "[Frame 193] Detections: 31, IDs: [2, 3, 4, 7, 9, 11, 14, 17, 18, 20, 22, 23, 24, 25, 32, 33, 35, 29, 71, 74, 75, 89, 91, 97, 98, 99, 132, 137, 149, 152, 157]\n",
            "[Frame 194] Detections: 31, IDs: [2, 3, 4, 7, 9, 11, 14, 17, 18, 20, 22, 23, 24, 25, 32, 33, 35, 29, 71, 74, 75, 89, 91, 97, 98, 99, 132, 137, 149, 152, 157]\n"
          ]
        },
        {
          "output_type": "stream",
          "name": "stderr",
          "text": [
            "Processing video:  58%|█████▊    | 197/341 [00:38<00:18,  7.61it/s]"
          ]
        },
        {
          "output_type": "stream",
          "name": "stdout",
          "text": [
            "[Frame 195] Detections: 31, IDs: [2, 3, 4, 7, 9, 11, 14, 17, 18, 20, 22, 23, 24, 25, 32, 33, 35, 29, 71, 74, 75, 89, 91, 97, 98, 99, 132, 137, 149, 152, 157]\n",
            "[Frame 196] Detections: 31, IDs: [2, 3, 4, 7, 9, 11, 14, 17, 18, 20, 22, 23, 24, 25, 32, 33, 35, 29, 71, 74, 75, 89, 91, 97, 98, 99, 132, 137, 149, 152, 157]\n"
          ]
        },
        {
          "output_type": "stream",
          "name": "stderr",
          "text": [
            "Processing video:  58%|█████▊    | 199/341 [00:38<00:19,  7.47it/s]"
          ]
        },
        {
          "output_type": "stream",
          "name": "stdout",
          "text": [
            "[Frame 197] Detections: 32, IDs: [2, 3, 4, 7, 9, 11, 14, 17, 18, 20, 22, 23, 24, 25, 32, 33, 35, 29, 71, 74, 75, 89, 91, 97, 98, 99, 132, 137, 149, 152, 157, 161]\n",
            "[Frame 198] Detections: 33, IDs: [2, 3, 4, 7, 9, 11, 14, 17, 18, 20, 22, 23, 24, 25, 32, 33, 35, 29, 71, 74, 75, 89, 91, 97, 98, 99, 132, 137, 149, 152, 157, 161, 162]\n"
          ]
        },
        {
          "output_type": "stream",
          "name": "stderr",
          "text": [
            "Processing video:  59%|█████▉    | 201/341 [00:38<00:18,  7.55it/s]"
          ]
        },
        {
          "output_type": "stream",
          "name": "stdout",
          "text": [
            "[Frame 199] Detections: 33, IDs: [2, 3, 4, 7, 9, 11, 14, 17, 18, 20, 22, 23, 24, 25, 32, 33, 35, 29, 71, 74, 75, 89, 91, 97, 98, 99, 132, 137, 149, 152, 157, 161, 162]\n",
            "[Frame 200] Detections: 33, IDs: [2, 3, 4, 7, 9, 11, 14, 17, 18, 20, 22, 23, 24, 25, 32, 33, 35, 29, 71, 74, 75, 89, 91, 97, 98, 99, 132, 137, 149, 152, 157, 161, 162]\n"
          ]
        },
        {
          "output_type": "stream",
          "name": "stderr",
          "text": [
            "Processing video:  60%|█████▉    | 203/341 [00:38<00:18,  7.64it/s]"
          ]
        },
        {
          "output_type": "stream",
          "name": "stdout",
          "text": [
            "[Frame 201] Detections: 33, IDs: [2, 3, 4, 7, 9, 11, 14, 17, 18, 20, 22, 23, 24, 25, 32, 33, 35, 29, 71, 74, 75, 89, 91, 97, 98, 99, 132, 137, 149, 152, 157, 161, 162]\n",
            "[Frame 202] Detections: 33, IDs: [2, 3, 4, 7, 9, 11, 14, 17, 18, 20, 22, 23, 24, 25, 32, 33, 35, 29, 71, 74, 75, 89, 91, 97, 98, 99, 132, 137, 149, 152, 157, 161, 162]\n"
          ]
        },
        {
          "output_type": "stream",
          "name": "stderr",
          "text": [
            "Processing video:  60%|██████    | 205/341 [00:39<00:17,  7.64it/s]"
          ]
        },
        {
          "output_type": "stream",
          "name": "stdout",
          "text": [
            "[Frame 203] Detections: 33, IDs: [2, 3, 4, 7, 9, 11, 14, 17, 18, 20, 22, 23, 24, 25, 32, 33, 35, 29, 71, 74, 75, 89, 91, 97, 98, 99, 132, 137, 149, 152, 157, 161, 162]\n",
            "[Frame 204] Detections: 33, IDs: [2, 3, 4, 7, 9, 11, 14, 17, 18, 20, 22, 23, 24, 25, 32, 33, 35, 29, 71, 74, 75, 89, 91, 97, 98, 99, 132, 137, 149, 152, 157, 161, 162]\n"
          ]
        },
        {
          "output_type": "stream",
          "name": "stderr",
          "text": [
            "Processing video:  61%|██████    | 207/341 [00:39<00:17,  7.72it/s]"
          ]
        },
        {
          "output_type": "stream",
          "name": "stdout",
          "text": [
            "[Frame 205] Detections: 33, IDs: [2, 3, 4, 7, 9, 11, 14, 17, 18, 20, 22, 23, 24, 25, 32, 33, 35, 29, 71, 74, 75, 89, 91, 97, 98, 99, 132, 137, 149, 152, 157, 161, 162]\n",
            "[Frame 206] Detections: 33, IDs: [2, 3, 4, 7, 9, 11, 14, 17, 18, 20, 22, 23, 24, 25, 32, 33, 35, 29, 71, 74, 75, 89, 91, 97, 98, 99, 132, 137, 149, 152, 157, 161, 162]\n"
          ]
        },
        {
          "output_type": "stream",
          "name": "stderr",
          "text": [
            "Processing video:  61%|██████▏   | 209/341 [00:39<00:17,  7.75it/s]"
          ]
        },
        {
          "output_type": "stream",
          "name": "stdout",
          "text": [
            "[Frame 207] Detections: 32, IDs: [2, 3, 4, 7, 9, 11, 14, 17, 18, 20, 22, 23, 24, 25, 32, 33, 35, 29, 71, 74, 75, 89, 97, 98, 99, 132, 137, 149, 152, 157, 161, 162]\n",
            "[Frame 208] Detections: 32, IDs: [2, 3, 4, 7, 9, 11, 14, 17, 18, 20, 22, 23, 24, 25, 32, 33, 35, 29, 71, 74, 75, 89, 97, 98, 99, 132, 137, 149, 152, 157, 161, 162]\n"
          ]
        },
        {
          "output_type": "stream",
          "name": "stderr",
          "text": [
            "Processing video:  62%|██████▏   | 211/341 [00:39<00:16,  7.84it/s]"
          ]
        },
        {
          "output_type": "stream",
          "name": "stdout",
          "text": [
            "[Frame 209] Detections: 32, IDs: [2, 3, 4, 7, 9, 11, 14, 17, 18, 20, 22, 23, 24, 25, 32, 33, 35, 29, 71, 74, 75, 89, 97, 98, 99, 132, 137, 149, 152, 157, 161, 162]\n",
            "[Frame 210] Detections: 32, IDs: [2, 3, 4, 7, 9, 11, 14, 17, 18, 20, 22, 23, 24, 25, 32, 33, 35, 29, 71, 74, 75, 89, 97, 98, 99, 132, 137, 149, 152, 157, 161, 162]\n"
          ]
        },
        {
          "output_type": "stream",
          "name": "stderr",
          "text": [
            "Processing video:  62%|██████▏   | 213/341 [00:40<00:16,  7.79it/s]"
          ]
        },
        {
          "output_type": "stream",
          "name": "stdout",
          "text": [
            "[Frame 211] Detections: 33, IDs: [2, 3, 4, 7, 9, 11, 14, 17, 18, 20, 22, 23, 24, 25, 32, 33, 35, 29, 71, 74, 75, 89, 97, 98, 99, 132, 137, 149, 152, 157, 161, 162, 165]\n",
            "[Frame 212] Detections: 33, IDs: [2, 3, 4, 7, 9, 11, 14, 17, 18, 20, 22, 23, 24, 25, 32, 33, 35, 29, 71, 74, 75, 89, 97, 98, 99, 132, 137, 149, 152, 157, 161, 162, 165]\n"
          ]
        },
        {
          "output_type": "stream",
          "name": "stderr",
          "text": [
            "Processing video:  63%|██████▎   | 215/341 [00:40<00:16,  7.85it/s]"
          ]
        },
        {
          "output_type": "stream",
          "name": "stdout",
          "text": [
            "[Frame 213] Detections: 33, IDs: [2, 3, 4, 7, 9, 11, 14, 17, 18, 20, 22, 23, 24, 25, 32, 33, 35, 29, 71, 74, 75, 89, 97, 98, 99, 132, 137, 149, 152, 157, 161, 162, 165]\n",
            "[Frame 214] Detections: 33, IDs: [2, 3, 4, 7, 9, 11, 14, 17, 18, 20, 22, 23, 24, 25, 32, 33, 35, 29, 71, 74, 75, 89, 97, 98, 99, 132, 137, 149, 152, 157, 161, 162, 165]\n"
          ]
        },
        {
          "output_type": "stream",
          "name": "stderr",
          "text": [
            "Processing video:  64%|██████▎   | 217/341 [00:40<00:15,  7.76it/s]"
          ]
        },
        {
          "output_type": "stream",
          "name": "stdout",
          "text": [
            "[Frame 215] Detections: 33, IDs: [2, 3, 4, 7, 9, 11, 14, 17, 18, 20, 22, 23, 24, 25, 32, 33, 35, 29, 71, 74, 75, 89, 97, 98, 99, 132, 137, 149, 152, 157, 161, 162, 165]\n",
            "[Frame 216] Detections: 33, IDs: [2, 3, 4, 7, 9, 11, 14, 17, 18, 20, 22, 23, 24, 25, 32, 33, 35, 29, 71, 74, 75, 89, 97, 98, 99, 132, 137, 149, 152, 157, 161, 162, 165]\n"
          ]
        },
        {
          "output_type": "stream",
          "name": "stderr",
          "text": [
            "\rProcessing video:  64%|██████▍   | 218/341 [00:40<00:15,  7.69it/s]"
          ]
        },
        {
          "output_type": "stream",
          "name": "stdout",
          "text": [
            "[Frame 217] Detections: 33, IDs: [2, 3, 4, 7, 9, 11, 14, 17, 18, 20, 22, 23, 24, 25, 32, 33, 35, 29, 71, 74, 75, 89, 97, 98, 99, 132, 137, 149, 152, 157, 161, 162, 165]\n",
            "[Frame 218] Detections: 33, IDs: [2, 3, 4, 7, 9, 11, 14, 17, 18, 20, 22, 23, 24, 25, 32, 33, 35, 29, 71, 74, 75, 89, 97, 98, 99, 132, 137, 149, 152, 157, 161, 162, 165]\n"
          ]
        },
        {
          "output_type": "stream",
          "name": "stderr",
          "text": [
            "Processing video:  65%|██████▍   | 220/341 [00:41<00:18,  6.43it/s]"
          ]
        },
        {
          "output_type": "stream",
          "name": "stdout",
          "text": [
            "[Frame 219] Detections: 33, IDs: [2, 3, 4, 7, 9, 11, 14, 17, 18, 20, 22, 23, 24, 25, 32, 33, 35, 29, 71, 74, 75, 89, 97, 98, 99, 132, 137, 149, 152, 157, 161, 162, 165]\n",
            "[Frame 220] Detections: 33, IDs: [2, 3, 4, 7, 9, 11, 14, 17, 18, 20, 22, 23, 24, 25, 32, 33, 35, 29, 71, 74, 75, 89, 97, 98, 99, 132, 137, 149, 152, 157, 161, 162, 165]\n"
          ]
        },
        {
          "output_type": "stream",
          "name": "stderr",
          "text": [
            "Processing video:  65%|██████▌   | 222/341 [00:41<00:20,  5.92it/s]"
          ]
        },
        {
          "output_type": "stream",
          "name": "stdout",
          "text": [
            "[Frame 221] Detections: 33, IDs: [2, 3, 4, 7, 9, 11, 14, 17, 18, 20, 22, 23, 24, 25, 32, 33, 35, 29, 71, 74, 75, 89, 97, 98, 99, 132, 137, 149, 152, 157, 161, 162, 165]\n",
            "[Frame 222] Detections: 33, IDs: [2, 3, 4, 7, 9, 11, 14, 17, 18, 20, 22, 23, 24, 25, 32, 33, 35, 29, 71, 74, 75, 89, 97, 98, 99, 132, 137, 149, 152, 157, 161, 162, 165]\n"
          ]
        },
        {
          "output_type": "stream",
          "name": "stderr",
          "text": [
            "Processing video:  66%|██████▌   | 224/341 [00:41<00:20,  5.58it/s]"
          ]
        },
        {
          "output_type": "stream",
          "name": "stdout",
          "text": [
            "[Frame 223] Detections: 33, IDs: [2, 3, 4, 7, 9, 11, 14, 17, 18, 20, 22, 23, 24, 25, 32, 33, 35, 29, 71, 74, 75, 89, 97, 98, 99, 132, 137, 149, 152, 157, 161, 162, 165]\n",
            "[Frame 224] Detections: 33, IDs: [2, 3, 4, 7, 9, 11, 14, 17, 18, 20, 22, 23, 24, 25, 32, 33, 35, 29, 71, 74, 75, 89, 97, 98, 99, 132, 137, 149, 152, 157, 161, 162, 165]\n"
          ]
        },
        {
          "output_type": "stream",
          "name": "stderr",
          "text": [
            "Processing video:  66%|██████▋   | 226/341 [00:42<00:21,  5.38it/s]"
          ]
        },
        {
          "output_type": "stream",
          "name": "stdout",
          "text": [
            "[Frame 225] Detections: 33, IDs: [2, 3, 4, 7, 9, 11, 14, 17, 18, 20, 22, 23, 24, 25, 32, 33, 35, 29, 71, 74, 75, 89, 97, 98, 99, 132, 137, 149, 152, 157, 161, 162, 165]\n",
            "[Frame 226] Detections: 32, IDs: [2, 3, 4, 7, 9, 11, 14, 17, 18, 20, 22, 23, 24, 25, 32, 33, 35, 29, 71, 74, 75, 89, 97, 98, 99, 132, 137, 149, 152, 157, 161, 165]\n"
          ]
        },
        {
          "output_type": "stream",
          "name": "stderr",
          "text": [
            "Processing video:  67%|██████▋   | 228/341 [00:42<00:21,  5.16it/s]"
          ]
        },
        {
          "output_type": "stream",
          "name": "stdout",
          "text": [
            "[Frame 227] Detections: 32, IDs: [2, 3, 4, 7, 9, 11, 14, 17, 18, 20, 22, 23, 24, 25, 32, 33, 35, 29, 71, 74, 75, 89, 97, 98, 99, 132, 137, 149, 152, 157, 161, 165]\n",
            "[Frame 228] Detections: 31, IDs: [2, 3, 4, 7, 9, 11, 14, 17, 18, 20, 22, 23, 24, 25, 32, 33, 29, 71, 74, 75, 89, 97, 98, 99, 132, 137, 149, 152, 157, 161, 165]\n"
          ]
        },
        {
          "output_type": "stream",
          "name": "stderr",
          "text": [
            "Processing video:  67%|██████▋   | 230/341 [00:42<00:21,  5.25it/s]"
          ]
        },
        {
          "output_type": "stream",
          "name": "stdout",
          "text": [
            "[Frame 229] Detections: 31, IDs: [2, 3, 4, 7, 9, 11, 14, 17, 18, 20, 22, 23, 24, 25, 32, 33, 29, 71, 74, 75, 89, 97, 98, 99, 132, 137, 149, 152, 157, 161, 165]\n",
            "[Frame 230] Detections: 31, IDs: [2, 3, 4, 7, 9, 11, 14, 17, 18, 20, 22, 23, 24, 25, 32, 33, 29, 71, 74, 75, 89, 97, 98, 99, 132, 137, 149, 152, 157, 161, 165]\n"
          ]
        },
        {
          "output_type": "stream",
          "name": "stderr",
          "text": [
            "Processing video:  68%|██████▊   | 233/341 [00:43<00:17,  6.04it/s]"
          ]
        },
        {
          "output_type": "stream",
          "name": "stdout",
          "text": [
            "[Frame 231] Detections: 31, IDs: [2, 3, 4, 7, 9, 11, 14, 17, 18, 20, 22, 23, 24, 25, 32, 33, 29, 71, 74, 75, 89, 97, 98, 99, 132, 137, 149, 152, 157, 161, 165]\n",
            "[Frame 232] Detections: 32, IDs: [2, 3, 4, 7, 9, 11, 14, 17, 18, 20, 22, 23, 24, 25, 32, 33, 29, 71, 74, 75, 89, 97, 98, 99, 132, 137, 149, 152, 157, 161, 165, 171]\n"
          ]
        },
        {
          "output_type": "stream",
          "name": "stderr",
          "text": [
            "Processing video:  69%|██████▉   | 235/341 [00:43<00:16,  6.42it/s]"
          ]
        },
        {
          "output_type": "stream",
          "name": "stdout",
          "text": [
            "[Frame 233] Detections: 32, IDs: [2, 3, 4, 7, 9, 11, 14, 17, 18, 20, 22, 23, 24, 25, 32, 33, 29, 71, 74, 75, 89, 97, 98, 99, 132, 137, 149, 152, 157, 161, 165, 171]\n",
            "[Frame 234] Detections: 31, IDs: [2, 3, 4, 7, 9, 11, 14, 17, 18, 20, 22, 23, 24, 25, 32, 33, 29, 71, 74, 75, 89, 97, 98, 99, 132, 137, 149, 152, 157, 161, 171]\n"
          ]
        },
        {
          "output_type": "stream",
          "name": "stderr",
          "text": [
            "Processing video:  70%|██████▉   | 237/341 [00:44<00:15,  6.83it/s]"
          ]
        },
        {
          "output_type": "stream",
          "name": "stdout",
          "text": [
            "[Frame 235] Detections: 31, IDs: [2, 3, 4, 7, 9, 11, 14, 17, 18, 20, 22, 23, 24, 25, 32, 33, 29, 71, 74, 75, 89, 97, 98, 99, 132, 137, 149, 152, 157, 161, 171]\n",
            "[Frame 236] Detections: 30, IDs: [2, 3, 4, 7, 9, 11, 14, 17, 18, 20, 22, 23, 24, 25, 32, 33, 29, 71, 74, 75, 89, 97, 98, 99, 132, 137, 149, 152, 157, 161]\n"
          ]
        },
        {
          "output_type": "stream",
          "name": "stderr",
          "text": [
            "Processing video:  70%|███████   | 239/341 [00:44<00:14,  7.16it/s]"
          ]
        },
        {
          "output_type": "stream",
          "name": "stdout",
          "text": [
            "[Frame 237] Detections: 30, IDs: [2, 3, 4, 7, 9, 11, 14, 17, 18, 20, 22, 23, 24, 25, 32, 33, 29, 71, 74, 75, 89, 97, 98, 99, 132, 137, 149, 152, 157, 161]\n",
            "[Frame 238] Detections: 30, IDs: [2, 3, 4, 7, 9, 11, 14, 17, 18, 20, 22, 23, 24, 25, 32, 33, 29, 71, 74, 75, 89, 97, 98, 99, 132, 137, 149, 152, 157, 161]\n"
          ]
        },
        {
          "output_type": "stream",
          "name": "stderr",
          "text": [
            "Processing video:  71%|███████   | 241/341 [00:44<00:13,  7.19it/s]"
          ]
        },
        {
          "output_type": "stream",
          "name": "stdout",
          "text": [
            "[Frame 239] Detections: 31, IDs: [2, 3, 4, 7, 9, 11, 14, 17, 18, 20, 22, 23, 24, 25, 32, 33, 29, 71, 74, 75, 89, 97, 98, 99, 132, 137, 149, 152, 157, 161, 176]\n",
            "[Frame 240] Detections: 31, IDs: [2, 3, 4, 7, 9, 11, 14, 17, 18, 20, 22, 23, 24, 25, 32, 33, 29, 71, 74, 75, 89, 97, 98, 99, 132, 137, 149, 152, 157, 161, 176]\n"
          ]
        },
        {
          "output_type": "stream",
          "name": "stderr",
          "text": [
            "Processing video:  71%|███████▏  | 243/341 [00:44<00:13,  7.29it/s]"
          ]
        },
        {
          "output_type": "stream",
          "name": "stdout",
          "text": [
            "[Frame 241] Detections: 31, IDs: [2, 3, 4, 7, 9, 11, 14, 17, 18, 20, 22, 23, 24, 25, 32, 33, 29, 71, 74, 75, 89, 97, 98, 99, 132, 137, 149, 152, 157, 161, 176]\n",
            "[Frame 242] Detections: 31, IDs: [2, 3, 4, 7, 9, 11, 14, 17, 18, 20, 22, 23, 24, 25, 32, 33, 29, 71, 74, 75, 89, 97, 98, 99, 132, 137, 149, 152, 157, 161, 176]\n"
          ]
        },
        {
          "output_type": "stream",
          "name": "stderr",
          "text": [
            "Processing video:  72%|███████▏  | 245/341 [00:45<00:12,  7.54it/s]"
          ]
        },
        {
          "output_type": "stream",
          "name": "stdout",
          "text": [
            "[Frame 243] Detections: 31, IDs: [2, 3, 4, 7, 9, 11, 14, 17, 20, 22, 23, 24, 25, 32, 33, 29, 71, 74, 75, 89, 97, 98, 99, 132, 137, 149, 152, 157, 161, 176, 180]\n",
            "[Frame 244] Detections: 30, IDs: [2, 3, 4, 7, 9, 11, 14, 17, 20, 22, 23, 24, 25, 32, 33, 29, 71, 74, 75, 89, 97, 98, 99, 132, 137, 149, 152, 157, 161, 180]\n"
          ]
        },
        {
          "output_type": "stream",
          "name": "stderr",
          "text": [
            "Processing video:  72%|███████▏  | 247/341 [00:45<00:12,  7.37it/s]"
          ]
        },
        {
          "output_type": "stream",
          "name": "stdout",
          "text": [
            "[Frame 245] Detections: 31, IDs: [2, 3, 4, 7, 9, 11, 14, 17, 20, 22, 23, 24, 25, 32, 33, 29, 71, 74, 75, 97, 98, 99, 132, 137, 149, 152, 157, 161, 180, 183, 184]\n",
            "[Frame 246] Detections: 31, IDs: [2, 4, 7, 9, 11, 14, 17, 20, 22, 23, 24, 25, 32, 33, 29, 71, 74, 75, 97, 98, 99, 132, 137, 149, 152, 157, 161, 180, 183, 184, 185]\n"
          ]
        },
        {
          "output_type": "stream",
          "name": "stderr",
          "text": [
            "Processing video:  73%|███████▎  | 249/341 [00:45<00:12,  7.20it/s]"
          ]
        },
        {
          "output_type": "stream",
          "name": "stdout",
          "text": [
            "[Frame 247] Detections: 30, IDs: [2, 4, 7, 9, 11, 14, 17, 20, 22, 23, 24, 25, 32, 33, 29, 71, 74, 75, 97, 98, 99, 132, 137, 149, 152, 157, 161, 183, 184, 185]\n",
            "[Frame 248] Detections: 29, IDs: [4, 7, 9, 11, 14, 17, 20, 22, 23, 24, 25, 32, 33, 29, 71, 74, 75, 97, 98, 99, 132, 137, 149, 152, 157, 161, 183, 184, 185]\n"
          ]
        },
        {
          "output_type": "stream",
          "name": "stderr",
          "text": [
            "Processing video:  74%|███████▎  | 251/341 [00:45<00:12,  7.33it/s]"
          ]
        },
        {
          "output_type": "stream",
          "name": "stdout",
          "text": [
            "[Frame 249] Detections: 30, IDs: [4, 7, 9, 11, 14, 17, 20, 22, 23, 24, 25, 32, 33, 29, 71, 74, 75, 97, 98, 99, 132, 137, 149, 152, 157, 161, 183, 184, 185, 186]\n",
            "[Frame 250] Detections: 31, IDs: [4, 7, 9, 11, 14, 17, 20, 22, 23, 24, 25, 32, 33, 29, 71, 74, 75, 97, 98, 99, 132, 137, 149, 152, 157, 161, 183, 184, 185, 186, 188]\n"
          ]
        },
        {
          "output_type": "stream",
          "name": "stderr",
          "text": [
            "Processing video:  74%|███████▍  | 253/341 [00:46<00:11,  7.55it/s]"
          ]
        },
        {
          "output_type": "stream",
          "name": "stdout",
          "text": [
            "[Frame 251] Detections: 31, IDs: [4, 7, 9, 11, 14, 17, 20, 22, 23, 24, 25, 32, 33, 29, 71, 74, 75, 97, 98, 99, 132, 137, 149, 152, 157, 161, 183, 184, 185, 186, 188]\n",
            "[Frame 252] Detections: 31, IDs: [4, 7, 9, 11, 14, 17, 20, 22, 23, 24, 25, 32, 33, 29, 71, 74, 75, 97, 98, 99, 132, 137, 149, 152, 157, 161, 183, 184, 185, 186, 188]\n"
          ]
        },
        {
          "output_type": "stream",
          "name": "stderr",
          "text": [
            "Processing video:  75%|███████▍  | 255/341 [00:46<00:11,  7.71it/s]"
          ]
        },
        {
          "output_type": "stream",
          "name": "stdout",
          "text": [
            "[Frame 253] Detections: 32, IDs: [4, 7, 9, 11, 14, 17, 20, 22, 23, 24, 25, 32, 33, 29, 71, 74, 75, 97, 98, 99, 132, 137, 149, 152, 157, 161, 183, 184, 185, 186, 188, 176]\n",
            "[Frame 254] Detections: 31, IDs: [4, 7, 9, 11, 14, 17, 20, 23, 24, 25, 32, 33, 29, 71, 74, 75, 97, 98, 99, 132, 137, 149, 152, 157, 161, 183, 184, 185, 186, 188, 176]\n"
          ]
        },
        {
          "output_type": "stream",
          "name": "stderr",
          "text": [
            "Processing video:  75%|███████▌  | 257/341 [00:46<00:11,  7.35it/s]"
          ]
        },
        {
          "output_type": "stream",
          "name": "stdout",
          "text": [
            "[Frame 255] Detections: 32, IDs: [4, 7, 9, 11, 14, 17, 20, 23, 24, 25, 32, 33, 29, 71, 74, 75, 97, 98, 99, 132, 137, 149, 152, 157, 161, 183, 184, 185, 186, 188, 176, 192]\n",
            "[Frame 256] Detections: 33, IDs: [4, 7, 9, 11, 14, 17, 20, 23, 24, 25, 32, 33, 29, 71, 74, 75, 97, 98, 99, 132, 137, 149, 152, 157, 161, 183, 184, 185, 186, 188, 176, 192, 194]\n"
          ]
        },
        {
          "output_type": "stream",
          "name": "stderr",
          "text": [
            "Processing video:  76%|███████▌  | 259/341 [00:46<00:11,  7.33it/s]"
          ]
        },
        {
          "output_type": "stream",
          "name": "stdout",
          "text": [
            "[Frame 257] Detections: 33, IDs: [4, 7, 9, 11, 14, 17, 20, 23, 24, 25, 32, 33, 29, 71, 74, 75, 97, 98, 99, 132, 137, 149, 152, 157, 161, 183, 184, 185, 186, 188, 176, 192, 194]\n",
            "[Frame 258] Detections: 32, IDs: [4, 7, 9, 11, 14, 17, 20, 23, 24, 25, 32, 33, 29, 71, 74, 75, 97, 98, 99, 132, 137, 149, 152, 157, 161, 183, 184, 185, 186, 188, 192, 194]\n"
          ]
        },
        {
          "output_type": "stream",
          "name": "stderr",
          "text": [
            "Processing video:  77%|███████▋  | 261/341 [00:47<00:10,  7.39it/s]"
          ]
        },
        {
          "output_type": "stream",
          "name": "stdout",
          "text": [
            "[Frame 259] Detections: 32, IDs: [4, 7, 9, 11, 14, 17, 20, 23, 24, 25, 32, 33, 29, 71, 74, 75, 97, 98, 99, 132, 137, 149, 152, 157, 161, 183, 184, 185, 186, 188, 192, 194]\n",
            "[Frame 260] Detections: 30, IDs: [4, 7, 9, 11, 14, 17, 20, 24, 25, 32, 33, 29, 71, 74, 75, 97, 98, 99, 132, 137, 149, 152, 157, 161, 183, 184, 186, 188, 192, 194]\n"
          ]
        },
        {
          "output_type": "stream",
          "name": "stderr",
          "text": [
            "Processing video:  77%|███████▋  | 263/341 [00:47<00:10,  7.54it/s]"
          ]
        },
        {
          "output_type": "stream",
          "name": "stdout",
          "text": [
            "[Frame 261] Detections: 30, IDs: [4, 7, 9, 11, 14, 17, 20, 24, 25, 32, 33, 29, 71, 74, 75, 97, 98, 99, 132, 137, 149, 152, 157, 161, 183, 184, 186, 188, 192, 194]\n",
            "[Frame 262] Detections: 30, IDs: [4, 7, 9, 11, 14, 17, 20, 24, 25, 32, 33, 29, 71, 74, 75, 97, 98, 99, 132, 137, 149, 152, 157, 161, 183, 184, 186, 188, 192, 194]\n"
          ]
        },
        {
          "output_type": "stream",
          "name": "stderr",
          "text": [
            "Processing video:  78%|███████▊  | 265/341 [00:47<00:10,  7.50it/s]"
          ]
        },
        {
          "output_type": "stream",
          "name": "stdout",
          "text": [
            "[Frame 263] Detections: 29, IDs: [4, 7, 9, 11, 14, 17, 20, 24, 25, 32, 33, 29, 71, 74, 75, 97, 98, 132, 137, 149, 152, 157, 161, 183, 184, 186, 188, 192, 194]\n",
            "[Frame 264] Detections: 28, IDs: [4, 7, 9, 11, 14, 17, 20, 24, 25, 32, 33, 29, 71, 74, 75, 97, 98, 132, 137, 149, 152, 157, 161, 183, 184, 186, 188, 192]\n"
          ]
        },
        {
          "output_type": "stream",
          "name": "stderr",
          "text": [
            "Processing video:  78%|███████▊  | 267/341 [00:48<00:09,  7.41it/s]"
          ]
        },
        {
          "output_type": "stream",
          "name": "stdout",
          "text": [
            "[Frame 265] Detections: 29, IDs: [4, 7, 9, 11, 14, 17, 20, 24, 25, 32, 33, 29, 71, 74, 75, 97, 98, 132, 137, 149, 152, 157, 161, 183, 184, 186, 188, 192, 198]\n",
            "[Frame 266] Detections: 29, IDs: [4, 7, 9, 11, 14, 17, 20, 24, 25, 32, 33, 29, 71, 74, 75, 97, 98, 132, 137, 149, 152, 157, 161, 183, 184, 186, 188, 192, 198]\n"
          ]
        },
        {
          "output_type": "stream",
          "name": "stderr",
          "text": [
            "Processing video:  79%|███████▉  | 269/341 [00:48<00:09,  7.34it/s]"
          ]
        },
        {
          "output_type": "stream",
          "name": "stdout",
          "text": [
            "[Frame 267] Detections: 29, IDs: [4, 7, 9, 11, 14, 17, 20, 24, 25, 32, 33, 29, 71, 74, 75, 97, 98, 132, 137, 149, 152, 157, 161, 183, 184, 186, 188, 192, 198]\n",
            "[Frame 268] Detections: 29, IDs: [4, 7, 9, 14, 17, 20, 24, 25, 32, 33, 29, 71, 74, 75, 97, 98, 132, 137, 149, 152, 157, 161, 183, 184, 186, 188, 192, 198, 99]\n"
          ]
        },
        {
          "output_type": "stream",
          "name": "stderr",
          "text": [
            "Processing video:  79%|███████▉  | 271/341 [00:48<00:09,  7.11it/s]"
          ]
        },
        {
          "output_type": "stream",
          "name": "stdout",
          "text": [
            "[Frame 269] Detections: 29, IDs: [4, 7, 9, 14, 17, 20, 24, 25, 32, 33, 29, 71, 74, 75, 97, 98, 132, 137, 149, 152, 157, 161, 183, 184, 186, 188, 192, 198, 99]\n",
            "[Frame 270] Detections: 29, IDs: [4, 7, 9, 14, 17, 20, 24, 25, 32, 33, 29, 71, 74, 75, 97, 98, 132, 137, 149, 152, 157, 161, 183, 184, 186, 188, 192, 198, 99]\n"
          ]
        },
        {
          "output_type": "stream",
          "name": "stderr",
          "text": [
            "Processing video:  80%|████████  | 273/341 [00:48<00:09,  7.05it/s]"
          ]
        },
        {
          "output_type": "stream",
          "name": "stdout",
          "text": [
            "[Frame 271] Detections: 29, IDs: [4, 7, 9, 14, 17, 20, 24, 25, 32, 33, 29, 71, 74, 75, 97, 98, 132, 137, 149, 152, 157, 161, 183, 184, 186, 188, 192, 198, 99]\n",
            "[Frame 272] Detections: 29, IDs: [4, 7, 9, 14, 17, 20, 24, 25, 32, 33, 29, 71, 74, 75, 97, 98, 132, 137, 149, 152, 157, 161, 183, 184, 186, 188, 192, 198, 99]\n"
          ]
        },
        {
          "output_type": "stream",
          "name": "stderr",
          "text": [
            "Processing video:  81%|████████  | 275/341 [00:49<00:09,  7.10it/s]"
          ]
        },
        {
          "output_type": "stream",
          "name": "stdout",
          "text": [
            "[Frame 273] Detections: 29, IDs: [4, 7, 9, 14, 17, 20, 24, 25, 32, 33, 29, 71, 74, 75, 97, 98, 132, 137, 149, 152, 157, 161, 183, 184, 186, 188, 192, 198, 99]\n",
            "[Frame 274] Detections: 28, IDs: [4, 7, 9, 14, 17, 20, 24, 25, 32, 33, 29, 71, 74, 75, 97, 98, 132, 149, 152, 157, 161, 183, 184, 186, 188, 192, 198, 99]\n"
          ]
        },
        {
          "output_type": "stream",
          "name": "stderr",
          "text": [
            "Processing video:  81%|████████  | 277/341 [00:49<00:08,  7.34it/s]"
          ]
        },
        {
          "output_type": "stream",
          "name": "stdout",
          "text": [
            "[Frame 275] Detections: 29, IDs: [4, 7, 9, 14, 17, 20, 24, 25, 32, 33, 29, 71, 74, 75, 97, 98, 132, 149, 152, 157, 161, 183, 184, 186, 188, 192, 198, 99, 204]\n",
            "[Frame 276] Detections: 29, IDs: [4, 7, 9, 14, 17, 20, 24, 25, 32, 33, 29, 71, 74, 75, 97, 98, 132, 149, 152, 157, 161, 183, 184, 186, 188, 192, 198, 99, 204]\n"
          ]
        },
        {
          "output_type": "stream",
          "name": "stderr",
          "text": [
            "Processing video:  82%|████████▏ | 279/341 [00:49<00:08,  7.39it/s]"
          ]
        },
        {
          "output_type": "stream",
          "name": "stdout",
          "text": [
            "[Frame 277] Detections: 29, IDs: [4, 7, 9, 14, 17, 20, 24, 25, 32, 33, 29, 71, 74, 75, 97, 98, 132, 149, 152, 157, 161, 183, 184, 186, 188, 192, 198, 99, 204]\n",
            "[Frame 278] Detections: 28, IDs: [4, 7, 9, 14, 17, 20, 24, 25, 32, 33, 29, 71, 74, 75, 97, 98, 132, 149, 152, 157, 161, 184, 186, 188, 192, 198, 99, 204]\n"
          ]
        },
        {
          "output_type": "stream",
          "name": "stderr",
          "text": [
            "Processing video:  82%|████████▏ | 281/341 [00:49<00:08,  7.49it/s]"
          ]
        },
        {
          "output_type": "stream",
          "name": "stdout",
          "text": [
            "[Frame 279] Detections: 28, IDs: [4, 7, 9, 14, 17, 20, 24, 32, 33, 29, 71, 74, 75, 97, 98, 132, 149, 152, 157, 161, 184, 186, 188, 192, 198, 99, 204, 207]\n",
            "[Frame 280] Detections: 27, IDs: [4, 7, 9, 14, 17, 20, 24, 32, 33, 29, 71, 74, 75, 97, 98, 132, 149, 152, 157, 161, 184, 186, 188, 192, 198, 99, 183]\n"
          ]
        },
        {
          "output_type": "stream",
          "name": "stderr",
          "text": [
            "Processing video:  83%|████████▎ | 283/341 [00:50<00:07,  7.40it/s]"
          ]
        },
        {
          "output_type": "stream",
          "name": "stdout",
          "text": [
            "[Frame 281] Detections: 29, IDs: [4, 7, 9, 14, 17, 20, 24, 32, 33, 29, 71, 74, 75, 97, 98, 132, 149, 152, 157, 161, 184, 186, 188, 192, 198, 99, 183, 176, 25]\n",
            "[Frame 282] Detections: 31, IDs: [4, 7, 9, 14, 17, 20, 24, 32, 33, 29, 71, 74, 75, 97, 98, 132, 149, 152, 157, 161, 184, 186, 188, 192, 198, 99, 183, 215, 216, 176, 25]\n"
          ]
        },
        {
          "output_type": "stream",
          "name": "stderr",
          "text": [
            "Processing video:  84%|████████▎ | 285/341 [00:50<00:07,  7.39it/s]"
          ]
        },
        {
          "output_type": "stream",
          "name": "stdout",
          "text": [
            "[Frame 283] Detections: 30, IDs: [4, 7, 9, 14, 17, 20, 24, 32, 33, 29, 71, 74, 75, 97, 98, 132, 149, 152, 157, 161, 184, 186, 188, 192, 198, 99, 183, 215, 216, 25]\n",
            "[Frame 284] Detections: 31, IDs: [4, 7, 9, 14, 17, 20, 24, 32, 33, 29, 71, 74, 75, 97, 98, 132, 149, 152, 157, 161, 184, 186, 188, 192, 198, 99, 183, 215, 216, 25, 218]\n"
          ]
        },
        {
          "output_type": "stream",
          "name": "stderr",
          "text": [
            "Processing video:  84%|████████▍ | 287/341 [00:50<00:07,  7.50it/s]"
          ]
        },
        {
          "output_type": "stream",
          "name": "stdout",
          "text": [
            "[Frame 285] Detections: 31, IDs: [4, 7, 9, 14, 17, 20, 24, 32, 33, 29, 71, 74, 75, 97, 98, 132, 149, 152, 157, 161, 184, 186, 188, 192, 198, 99, 183, 215, 216, 218, 219]\n",
            "[Frame 286] Detections: 31, IDs: [4, 7, 9, 14, 17, 20, 24, 32, 33, 29, 71, 74, 75, 97, 98, 132, 149, 152, 157, 161, 184, 186, 188, 192, 198, 99, 183, 215, 216, 218, 219]\n"
          ]
        },
        {
          "output_type": "stream",
          "name": "stderr",
          "text": [
            "Processing video:  85%|████████▍ | 289/341 [00:51<00:06,  7.45it/s]"
          ]
        },
        {
          "output_type": "stream",
          "name": "stdout",
          "text": [
            "[Frame 287] Detections: 31, IDs: [4, 7, 9, 14, 17, 20, 24, 32, 33, 29, 71, 74, 75, 97, 98, 132, 149, 152, 157, 161, 184, 186, 188, 192, 198, 99, 183, 215, 216, 218, 219]\n",
            "[Frame 288] Detections: 31, IDs: [4, 7, 9, 14, 17, 20, 24, 32, 33, 29, 71, 74, 75, 97, 98, 132, 149, 152, 157, 161, 184, 186, 188, 192, 198, 99, 183, 215, 216, 218, 219]\n"
          ]
        },
        {
          "output_type": "stream",
          "name": "stderr",
          "text": [
            "Processing video:  85%|████████▌ | 291/341 [00:51<00:06,  7.41it/s]"
          ]
        },
        {
          "output_type": "stream",
          "name": "stdout",
          "text": [
            "[Frame 289] Detections: 31, IDs: [4, 7, 9, 14, 17, 20, 24, 32, 33, 29, 71, 74, 75, 97, 98, 132, 149, 152, 157, 161, 184, 186, 188, 192, 198, 99, 183, 215, 216, 218, 219]\n",
            "[Frame 290] Detections: 32, IDs: [4, 7, 9, 14, 17, 20, 24, 32, 33, 29, 71, 74, 75, 97, 98, 132, 149, 152, 157, 161, 184, 186, 188, 192, 198, 99, 183, 215, 216, 218, 219, 223]\n"
          ]
        },
        {
          "output_type": "stream",
          "name": "stderr",
          "text": [
            "Processing video:  86%|████████▌ | 293/341 [00:51<00:06,  7.53it/s]"
          ]
        },
        {
          "output_type": "stream",
          "name": "stdout",
          "text": [
            "[Frame 291] Detections: 32, IDs: [4, 7, 9, 14, 17, 20, 24, 32, 33, 29, 71, 74, 75, 97, 98, 132, 149, 152, 157, 161, 184, 186, 188, 192, 198, 99, 183, 215, 216, 218, 219, 223]\n",
            "[Frame 292] Detections: 32, IDs: [4, 7, 9, 14, 17, 20, 24, 32, 33, 29, 71, 74, 75, 97, 98, 132, 149, 152, 157, 161, 184, 186, 188, 192, 198, 99, 183, 215, 216, 218, 219, 223]\n"
          ]
        },
        {
          "output_type": "stream",
          "name": "stderr",
          "text": [
            "Processing video:  87%|████████▋ | 295/341 [00:51<00:06,  7.41it/s]"
          ]
        },
        {
          "output_type": "stream",
          "name": "stdout",
          "text": [
            "[Frame 293] Detections: 32, IDs: [4, 7, 9, 14, 17, 20, 24, 32, 33, 29, 71, 74, 75, 97, 98, 132, 149, 152, 157, 161, 184, 186, 188, 192, 198, 99, 183, 215, 216, 218, 219, 223]\n",
            "[Frame 294] Detections: 32, IDs: [4, 7, 9, 14, 17, 20, 24, 32, 33, 29, 71, 74, 75, 97, 98, 132, 149, 152, 157, 161, 184, 186, 188, 192, 198, 99, 183, 215, 216, 218, 219, 223]\n"
          ]
        },
        {
          "output_type": "stream",
          "name": "stderr",
          "text": [
            "Processing video:  87%|████████▋ | 297/341 [00:52<00:05,  7.46it/s]"
          ]
        },
        {
          "output_type": "stream",
          "name": "stdout",
          "text": [
            "[Frame 295] Detections: 32, IDs: [4, 7, 9, 14, 17, 20, 24, 32, 33, 29, 71, 74, 75, 97, 98, 132, 149, 152, 157, 161, 184, 186, 188, 192, 198, 99, 183, 215, 216, 218, 219, 223]\n",
            "[Frame 296] Detections: 32, IDs: [4, 7, 9, 14, 17, 20, 24, 32, 33, 29, 71, 74, 75, 97, 98, 132, 149, 152, 157, 161, 184, 186, 188, 192, 198, 99, 183, 215, 216, 218, 219, 223]\n"
          ]
        },
        {
          "output_type": "stream",
          "name": "stderr",
          "text": [
            "Processing video:  88%|████████▊ | 299/341 [00:52<00:05,  7.24it/s]"
          ]
        },
        {
          "output_type": "stream",
          "name": "stdout",
          "text": [
            "[Frame 297] Detections: 32, IDs: [4, 7, 9, 14, 17, 20, 24, 32, 33, 29, 71, 74, 75, 97, 98, 132, 149, 152, 157, 161, 184, 186, 188, 192, 198, 99, 183, 215, 216, 218, 219, 223]\n",
            "[Frame 298] Detections: 31, IDs: [4, 7, 9, 14, 17, 24, 32, 33, 29, 71, 74, 75, 97, 98, 132, 149, 152, 157, 161, 184, 186, 188, 192, 198, 99, 183, 215, 216, 218, 219, 223]\n"
          ]
        },
        {
          "output_type": "stream",
          "name": "stderr",
          "text": [
            "Processing video:  88%|████████▊ | 301/341 [00:52<00:05,  7.30it/s]"
          ]
        },
        {
          "output_type": "stream",
          "name": "stdout",
          "text": [
            "[Frame 299] Detections: 31, IDs: [4, 7, 9, 14, 17, 24, 32, 33, 29, 71, 74, 75, 97, 98, 132, 149, 152, 157, 161, 184, 186, 188, 192, 198, 99, 183, 215, 216, 218, 219, 223]\n",
            "[Frame 300] Detections: 31, IDs: [4, 7, 9, 14, 17, 24, 32, 33, 29, 71, 74, 75, 97, 98, 132, 149, 152, 157, 161, 184, 186, 188, 192, 198, 99, 183, 215, 216, 218, 219, 223]\n"
          ]
        },
        {
          "output_type": "stream",
          "name": "stderr",
          "text": [
            "Processing video:  89%|████████▉ | 303/341 [00:52<00:05,  7.17it/s]"
          ]
        },
        {
          "output_type": "stream",
          "name": "stdout",
          "text": [
            "[Frame 301] Detections: 32, IDs: [4, 7, 9, 14, 17, 24, 32, 33, 29, 71, 74, 75, 97, 98, 132, 149, 152, 157, 161, 184, 186, 188, 192, 198, 99, 183, 215, 216, 218, 219, 223, 20]\n",
            "[Frame 302] Detections: 32, IDs: [4, 7, 9, 14, 17, 24, 32, 33, 29, 71, 74, 75, 97, 98, 132, 149, 152, 157, 161, 184, 186, 188, 192, 198, 99, 183, 215, 216, 218, 219, 223, 20]\n"
          ]
        },
        {
          "output_type": "stream",
          "name": "stderr",
          "text": [
            "\rProcessing video:  89%|████████▉ | 304/341 [00:53<00:05,  7.10it/s]"
          ]
        },
        {
          "output_type": "stream",
          "name": "stdout",
          "text": [
            "[Frame 303] Detections: 33, IDs: [4, 7, 9, 14, 17, 24, 32, 33, 29, 71, 74, 75, 97, 98, 132, 149, 152, 157, 161, 184, 186, 188, 192, 198, 99, 183, 215, 216, 218, 219, 223, 20, 241]\n",
            "[Frame 304] Detections: 34, IDs: [4, 7, 9, 14, 17, 24, 32, 33, 29, 71, 74, 75, 97, 98, 132, 149, 152, 157, 161, 184, 186, 188, 192, 198, 99, 183, 215, 216, 218, 219, 223, 20, 241, 245]\n"
          ]
        },
        {
          "output_type": "stream",
          "name": "stderr",
          "text": [
            "Processing video:  90%|████████▉ | 306/341 [00:53<00:05,  6.25it/s]"
          ]
        },
        {
          "output_type": "stream",
          "name": "stdout",
          "text": [
            "[Frame 305] Detections: 33, IDs: [7, 9, 14, 17, 24, 32, 33, 29, 71, 74, 75, 97, 98, 132, 149, 152, 157, 161, 184, 186, 188, 192, 198, 99, 183, 215, 216, 218, 219, 223, 20, 241, 245]\n",
            "[Frame 306] Detections: 34, IDs: [7, 9, 14, 17, 24, 32, 33, 29, 71, 74, 75, 97, 98, 132, 149, 152, 157, 161, 184, 186, 188, 192, 198, 99, 183, 215, 216, 218, 219, 223, 20, 241, 245, 250]\n"
          ]
        },
        {
          "output_type": "stream",
          "name": "stderr",
          "text": [
            "Processing video:  90%|█████████ | 308/341 [00:53<00:05,  5.83it/s]"
          ]
        },
        {
          "output_type": "stream",
          "name": "stdout",
          "text": [
            "[Frame 307] Detections: 34, IDs: [7, 9, 14, 17, 24, 32, 33, 29, 71, 74, 75, 97, 98, 132, 149, 152, 157, 161, 184, 186, 188, 192, 198, 99, 183, 215, 216, 218, 219, 223, 20, 241, 245, 250]\n",
            "[Frame 308] Detections: 31, IDs: [7, 9, 14, 17, 24, 32, 29, 71, 74, 75, 97, 98, 132, 149, 152, 157, 161, 184, 186, 188, 192, 198, 99, 183, 215, 216, 218, 219, 223, 241, 245]\n"
          ]
        },
        {
          "output_type": "stream",
          "name": "stderr",
          "text": [
            "Processing video:  91%|█████████ | 310/341 [00:54<00:05,  5.61it/s]"
          ]
        },
        {
          "output_type": "stream",
          "name": "stdout",
          "text": [
            "[Frame 309] Detections: 31, IDs: [7, 9, 14, 17, 24, 32, 29, 71, 74, 75, 97, 98, 132, 149, 152, 157, 161, 184, 186, 188, 192, 198, 99, 183, 215, 216, 218, 219, 223, 241, 245]\n",
            "[Frame 310] Detections: 32, IDs: [7, 9, 14, 17, 24, 32, 29, 71, 74, 75, 97, 98, 132, 149, 152, 157, 161, 184, 186, 188, 192, 198, 99, 183, 215, 216, 218, 219, 223, 241, 245, 250]\n"
          ]
        },
        {
          "output_type": "stream",
          "name": "stderr",
          "text": [
            "Processing video:  91%|█████████▏| 312/341 [00:54<00:05,  5.68it/s]"
          ]
        },
        {
          "output_type": "stream",
          "name": "stdout",
          "text": [
            "[Frame 311] Detections: 33, IDs: [7, 9, 14, 17, 24, 32, 29, 71, 74, 75, 97, 98, 132, 149, 152, 157, 161, 184, 186, 188, 192, 198, 99, 183, 215, 216, 218, 219, 223, 241, 245, 258, 250]\n",
            "[Frame 312] Detections: 33, IDs: [7, 9, 14, 17, 24, 32, 29, 71, 74, 75, 97, 98, 132, 149, 152, 157, 161, 184, 186, 188, 192, 198, 99, 183, 215, 216, 218, 219, 223, 241, 245, 258, 250]\n"
          ]
        },
        {
          "output_type": "stream",
          "name": "stderr",
          "text": [
            "Processing video:  92%|█████████▏| 314/341 [00:54<00:04,  5.66it/s]"
          ]
        },
        {
          "output_type": "stream",
          "name": "stdout",
          "text": [
            "[Frame 313] Detections: 33, IDs: [7, 9, 14, 17, 24, 32, 29, 71, 74, 75, 97, 98, 132, 149, 152, 157, 161, 184, 186, 188, 192, 198, 99, 183, 215, 216, 218, 219, 223, 241, 245, 258, 250]\n",
            "[Frame 314] Detections: 33, IDs: [7, 9, 14, 17, 24, 32, 29, 71, 74, 75, 97, 98, 132, 149, 152, 157, 161, 184, 186, 188, 192, 198, 99, 183, 215, 216, 218, 219, 223, 241, 245, 258, 250]\n"
          ]
        },
        {
          "output_type": "stream",
          "name": "stderr",
          "text": [
            "Processing video:  93%|█████████▎| 316/341 [00:55<00:04,  5.47it/s]"
          ]
        },
        {
          "output_type": "stream",
          "name": "stdout",
          "text": [
            "[Frame 315] Detections: 34, IDs: [7, 9, 14, 17, 24, 32, 29, 71, 74, 75, 97, 98, 132, 149, 152, 157, 161, 184, 186, 188, 192, 198, 99, 183, 215, 216, 218, 219, 223, 241, 245, 258, 250, 263]\n",
            "[Frame 316] Detections: 34, IDs: [7, 9, 14, 17, 24, 32, 29, 71, 74, 75, 97, 98, 132, 149, 152, 157, 161, 184, 186, 188, 192, 198, 99, 183, 215, 216, 218, 219, 223, 241, 245, 258, 250, 263]\n"
          ]
        },
        {
          "output_type": "stream",
          "name": "stderr",
          "text": [
            "Processing video:  93%|█████████▎| 318/341 [00:55<00:04,  5.56it/s]"
          ]
        },
        {
          "output_type": "stream",
          "name": "stdout",
          "text": [
            "[Frame 317] Detections: 34, IDs: [7, 9, 14, 17, 24, 32, 29, 71, 74, 75, 97, 98, 132, 149, 152, 157, 161, 184, 186, 188, 192, 198, 99, 183, 215, 216, 218, 219, 223, 241, 245, 258, 250, 263]\n",
            "[Frame 318] Detections: 34, IDs: [7, 9, 14, 17, 24, 32, 29, 71, 74, 75, 97, 98, 132, 149, 152, 157, 161, 184, 186, 188, 192, 198, 99, 183, 215, 216, 218, 219, 223, 241, 245, 258, 250, 263]\n"
          ]
        },
        {
          "output_type": "stream",
          "name": "stderr",
          "text": [
            "Processing video:  94%|█████████▍| 320/341 [00:55<00:03,  6.16it/s]"
          ]
        },
        {
          "output_type": "stream",
          "name": "stdout",
          "text": [
            "[Frame 319] Detections: 34, IDs: [7, 9, 14, 17, 24, 32, 29, 71, 74, 75, 97, 98, 132, 149, 152, 157, 161, 184, 186, 188, 192, 198, 99, 183, 215, 216, 218, 219, 223, 241, 245, 258, 250, 263]\n",
            "[Frame 320] Detections: 34, IDs: [7, 9, 14, 17, 24, 32, 29, 71, 74, 75, 97, 98, 132, 149, 152, 157, 161, 184, 186, 188, 192, 198, 99, 183, 215, 216, 218, 219, 223, 241, 245, 258, 250, 263]\n"
          ]
        },
        {
          "output_type": "stream",
          "name": "stderr",
          "text": [
            "Processing video:  95%|█████████▍| 323/341 [00:56<00:02,  6.66it/s]"
          ]
        },
        {
          "output_type": "stream",
          "name": "stdout",
          "text": [
            "[Frame 321] Detections: 35, IDs: [7, 9, 14, 17, 24, 32, 29, 71, 74, 75, 97, 98, 132, 149, 152, 157, 161, 184, 186, 188, 192, 198, 99, 183, 215, 216, 218, 219, 223, 241, 245, 258, 250, 263, 266]\n",
            "[Frame 322] Detections: 36, IDs: [7, 9, 14, 17, 24, 32, 29, 71, 74, 75, 97, 98, 132, 149, 152, 157, 161, 184, 186, 188, 192, 198, 99, 183, 215, 216, 218, 219, 223, 241, 245, 258, 250, 263, 266, 269]\n"
          ]
        },
        {
          "output_type": "stream",
          "name": "stderr",
          "text": [
            "Processing video:  95%|█████████▌| 325/341 [00:56<00:02,  7.03it/s]"
          ]
        },
        {
          "output_type": "stream",
          "name": "stdout",
          "text": [
            "[Frame 323] Detections: 35, IDs: [7, 9, 14, 17, 24, 29, 71, 74, 75, 97, 98, 132, 149, 152, 157, 161, 184, 186, 188, 192, 198, 99, 183, 215, 216, 218, 219, 223, 241, 245, 258, 250, 263, 266, 269]\n",
            "[Frame 324] Detections: 35, IDs: [7, 9, 14, 17, 24, 29, 71, 74, 75, 97, 98, 132, 149, 152, 157, 161, 184, 186, 188, 192, 198, 99, 183, 215, 216, 218, 219, 223, 241, 245, 258, 250, 263, 266, 269]\n"
          ]
        },
        {
          "output_type": "stream",
          "name": "stderr",
          "text": [
            "Processing video:  96%|█████████▌| 327/341 [00:56<00:01,  7.23it/s]"
          ]
        },
        {
          "output_type": "stream",
          "name": "stdout",
          "text": [
            "[Frame 325] Detections: 36, IDs: [7, 14, 17, 24, 29, 71, 74, 75, 97, 98, 132, 149, 152, 157, 161, 184, 186, 188, 192, 198, 99, 183, 215, 216, 218, 219, 223, 241, 245, 258, 250, 263, 266, 269, 271, 272]\n",
            "[Frame 326] Detections: 36, IDs: [7, 14, 17, 24, 29, 71, 74, 75, 97, 98, 132, 149, 152, 157, 161, 184, 186, 188, 192, 198, 99, 183, 215, 216, 218, 219, 223, 241, 245, 258, 250, 263, 266, 269, 271, 272]\n"
          ]
        },
        {
          "output_type": "stream",
          "name": "stderr",
          "text": [
            "Processing video:  96%|█████████▋| 329/341 [00:57<00:01,  7.07it/s]"
          ]
        },
        {
          "output_type": "stream",
          "name": "stdout",
          "text": [
            "[Frame 327] Detections: 36, IDs: [7, 14, 17, 24, 29, 71, 74, 75, 97, 98, 132, 149, 152, 157, 161, 184, 186, 188, 192, 198, 99, 183, 215, 216, 218, 219, 223, 241, 245, 258, 250, 263, 266, 269, 271, 272]\n",
            "[Frame 328] Detections: 36, IDs: [7, 14, 17, 24, 29, 71, 74, 75, 97, 98, 132, 149, 152, 157, 161, 184, 186, 188, 192, 198, 99, 183, 215, 216, 218, 219, 223, 241, 245, 258, 250, 263, 266, 269, 271, 272]\n"
          ]
        },
        {
          "output_type": "stream",
          "name": "stderr",
          "text": [
            "Processing video:  97%|█████████▋| 331/341 [00:57<00:01,  7.22it/s]"
          ]
        },
        {
          "output_type": "stream",
          "name": "stdout",
          "text": [
            "[Frame 329] Detections: 36, IDs: [7, 14, 17, 24, 29, 71, 74, 75, 97, 98, 132, 149, 152, 157, 161, 184, 186, 188, 192, 198, 99, 183, 215, 216, 218, 219, 223, 241, 245, 258, 250, 263, 266, 269, 271, 272]\n",
            "[Frame 330] Detections: 36, IDs: [7, 14, 17, 24, 29, 71, 74, 75, 97, 98, 132, 149, 152, 157, 161, 184, 186, 188, 192, 198, 99, 183, 215, 216, 218, 219, 223, 241, 245, 258, 250, 263, 266, 269, 271, 272]\n"
          ]
        },
        {
          "output_type": "stream",
          "name": "stderr",
          "text": [
            "Processing video:  98%|█████████▊| 333/341 [00:57<00:01,  7.35it/s]"
          ]
        },
        {
          "output_type": "stream",
          "name": "stdout",
          "text": [
            "[Frame 331] Detections: 36, IDs: [7, 14, 17, 24, 29, 71, 74, 75, 97, 98, 132, 149, 152, 157, 161, 184, 186, 188, 192, 198, 99, 183, 215, 216, 218, 219, 223, 241, 245, 258, 250, 263, 266, 269, 271, 272]\n",
            "[Frame 332] Detections: 35, IDs: [7, 14, 17, 24, 29, 71, 74, 75, 97, 98, 132, 149, 152, 157, 161, 184, 186, 188, 192, 198, 99, 183, 216, 218, 219, 223, 241, 245, 258, 250, 263, 266, 269, 271, 272]\n"
          ]
        },
        {
          "output_type": "stream",
          "name": "stderr",
          "text": [
            "Processing video:  98%|█████████▊| 335/341 [00:58<00:00,  7.44it/s]"
          ]
        },
        {
          "output_type": "stream",
          "name": "stdout",
          "text": [
            "[Frame 333] Detections: 36, IDs: [7, 14, 17, 24, 29, 71, 74, 75, 97, 98, 132, 149, 152, 157, 161, 184, 186, 188, 192, 198, 99, 183, 216, 218, 219, 223, 241, 245, 258, 250, 263, 266, 269, 271, 272, 275]\n",
            "[Frame 334] Detections: 36, IDs: [7, 14, 17, 24, 29, 71, 74, 75, 97, 98, 132, 149, 152, 157, 161, 184, 186, 188, 192, 198, 99, 183, 216, 218, 219, 223, 241, 245, 258, 250, 263, 266, 269, 271, 272, 275]\n"
          ]
        },
        {
          "output_type": "stream",
          "name": "stderr",
          "text": [
            "Processing video:  99%|█████████▉| 337/341 [00:58<00:00,  7.16it/s]"
          ]
        },
        {
          "output_type": "stream",
          "name": "stdout",
          "text": [
            "[Frame 335] Detections: 36, IDs: [7, 14, 17, 24, 29, 71, 74, 75, 97, 98, 132, 149, 152, 157, 161, 184, 186, 188, 192, 198, 99, 183, 216, 218, 219, 223, 241, 245, 258, 250, 263, 266, 269, 271, 272, 275]\n",
            "[Frame 336] Detections: 35, IDs: [7, 14, 17, 24, 29, 71, 74, 75, 97, 98, 132, 149, 152, 157, 161, 184, 186, 188, 192, 198, 99, 183, 216, 218, 219, 223, 241, 245, 250, 263, 266, 269, 271, 272, 275]\n"
          ]
        },
        {
          "output_type": "stream",
          "name": "stderr",
          "text": [
            "Processing video:  99%|█████████▉| 339/341 [00:58<00:00,  7.45it/s]"
          ]
        },
        {
          "output_type": "stream",
          "name": "stdout",
          "text": [
            "[Frame 337] Detections: 34, IDs: [7, 14, 17, 24, 29, 71, 74, 75, 97, 98, 132, 149, 152, 157, 161, 184, 186, 188, 192, 198, 99, 183, 216, 218, 219, 223, 245, 250, 263, 266, 269, 271, 272, 275]\n",
            "[Frame 338] Detections: 35, IDs: [7, 14, 17, 24, 29, 71, 74, 75, 97, 98, 132, 149, 152, 157, 161, 184, 186, 188, 192, 198, 99, 183, 216, 218, 219, 223, 245, 250, 263, 266, 269, 271, 272, 275, 241]\n"
          ]
        },
        {
          "output_type": "stream",
          "name": "stderr",
          "text": [
            "Processing video: 100%|██████████| 341/341 [00:58<00:00,  7.45it/s]"
          ]
        },
        {
          "output_type": "stream",
          "name": "stdout",
          "text": [
            "[Frame 339] Detections: 35, IDs: [7, 14, 17, 24, 29, 71, 74, 75, 97, 98, 132, 149, 152, 157, 161, 184, 186, 188, 192, 198, 99, 183, 216, 218, 219, 223, 245, 250, 263, 266, 269, 271, 272, 275, 241]\n",
            "[Frame 340] Detections: 34, IDs: [7, 14, 17, 24, 29, 74, 75, 97, 98, 132, 149, 152, 157, 161, 184, 186, 188, 192, 198, 99, 183, 216, 218, 219, 223, 245, 250, 263, 266, 269, 271, 272, 275, 241]\n"
          ]
        },
        {
          "output_type": "stream",
          "name": "stderr",
          "text": [
            "\rProcessing video: 100%|██████████| 341/341 [00:58<00:00,  5.79it/s]\n"
          ]
        }
      ]
    },
    {
      "cell_type": "code",
      "source": [
        "#Config\n",
        "video_path = '/content/people-walking.mp4'\n",
        "output_heatmap_video = 'heatmap_output.mp4'\n",
        "output_image_path = 'final_heatmap.jpg'\n",
        "model_path = 'yolov8n.pt'\n",
        "conf_threshold = 0.3"
      ],
      "metadata": {
        "id": "ApyS0LPx9wjX"
      },
      "execution_count": 11,
      "outputs": []
    },
    {
      "cell_type": "code",
      "source": [
        "# Load model\n",
        "model = YOLO(model_path)"
      ],
      "metadata": {
        "colab": {
          "base_uri": "https://localhost:8080/"
        },
        "id": "E3G4LoJb995w",
        "outputId": "779fa0ea-89ab-4eab-e87c-d042fba8dd0a"
      },
      "execution_count": 12,
      "outputs": [
        {
          "output_type": "stream",
          "name": "stderr",
          "text": [
            "Downloading https://github.com/ultralytics/assets/releases/download/v8.3.0/yolov8n.pt to 'yolov8n.pt': 100%|██████████| 6.25M/6.25M [00:00<00:00, 63.5MB/s]\n"
          ]
        }
      ]
    },
    {
      "cell_type": "code",
      "source": [
        "# Video setup\n",
        "cap = cv2.VideoCapture(video_path)\n",
        "ret, frame = cap.read()\n",
        "if not ret:\n",
        "    raise ValueError(\"Could not read from video.\")\n",
        "\n",
        "H, W = frame.shape[:2]\n",
        "heatmap_canvas = np.zeros((H, W), dtype=np.float32)"
      ],
      "metadata": {
        "id": "F4RMUeDC99ID"
      },
      "execution_count": 13,
      "outputs": []
    },
    {
      "cell_type": "code",
      "source": [
        "# Output video setup\n",
        "fourcc = cv2.VideoWriter_fourcc(*'mp4v')\n",
        "out = cv2.VideoWriter(output_heatmap_video, fourcc, 30.0, (W, H))"
      ],
      "metadata": {
        "id": "hc6RaW_4-A8I"
      },
      "execution_count": 14,
      "outputs": []
    },
    {
      "cell_type": "code",
      "source": [
        "# prcess video frame\n",
        "while ret:\n",
        "\n",
        "    results = model(frame, verbose=False)[0]\n",
        "\n",
        "    for box in results.boxes:\n",
        "        cls_id = int(box.cls[0])\n",
        "        conf = float(box.conf[0])\n",
        "        if cls_id == 0 and conf > conf_threshold:\n",
        "            x1, y1, x2, y2 = map(int, box.xyxy[0])\n",
        "            cx = int((x1 + x2) / 2)\n",
        "            cy = int((y1 + y2) / 2)\n",
        "\n",
        "            cv2.circle(heatmap_canvas, (cx, cy), radius=20, color=3, thickness=-1)\n",
        "\n",
        "            cv2.rectangle(frame, (x1, y1), (x2, y2), (255, 255, 255), 2)\n",
        "\n",
        "    #Create real-time heatmap overlay\n",
        "    temp_map = np.clip(heatmap_canvas * 15, 0, 255).astype(np.uint8)\n",
        "    blurred = cv2.GaussianBlur(temp_map, (31, 31), 0)\n",
        "    colored_map = cv2.applyColorMap(blurred, cv2.COLORMAP_JET)\n",
        "\n",
        "    overlay = cv2.addWeighted(frame, 0.6, colored_map, 0.4, 0)\n",
        "\n",
        "    out.write(overlay)\n",
        "\n",
        "    ret, frame = cap.read()\n",
        "\n",
        "cap.release()\n",
        "out.release()"
      ],
      "metadata": {
        "id": "HJX0GeTU-DLh"
      },
      "execution_count": 15,
      "outputs": []
    },
    {
      "cell_type": "code",
      "source": [
        "# Normalize and amplify final heatmap\n",
        "amplified_heatmap = np.clip(heatmap_canvas * 15, 0, 255)\n",
        "normalized_heatmap = cv2.normalize(amplified_heatmap, None, 0, 255, cv2.NORM_MINMAX)\n",
        "blurred_heatmap = cv2.GaussianBlur(normalized_heatmap.astype(np.uint8), (31, 31), 0)\n",
        "colored_heatmap = cv2.applyColorMap(blurred_heatmap, cv2.COLORMAP_JET)"
      ],
      "metadata": {
        "id": "AI_7TD3R-Nyy"
      },
      "execution_count": 16,
      "outputs": []
    },
    {
      "cell_type": "code",
      "source": [
        "# Save final heatmap image\n",
        "cv2.imwrite(output_image_path, colored_heatmap)\n",
        "print(f\"Final heatmap image saved: {output_image_path}\")\n",
        "print(f\"Heatmap video saved: {output_heatmap_video}\")"
      ],
      "metadata": {
        "colab": {
          "base_uri": "https://localhost:8080/"
        },
        "id": "aCSl0hahbFLX",
        "outputId": "10059b8f-b36a-40a2-d4eb-a6f0c0f8ab22"
      },
      "execution_count": 17,
      "outputs": [
        {
          "output_type": "stream",
          "name": "stdout",
          "text": [
            "Final heatmap image saved: final_heatmap.jpg\n",
            "Heatmap video saved: heatmap_output.mp4\n"
          ]
        }
      ]
    }
  ]
}